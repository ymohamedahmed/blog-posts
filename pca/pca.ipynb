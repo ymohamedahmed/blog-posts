{
 "cells": [
  {
   "cell_type": "markdown",
   "metadata": {},
   "source": [
    "# Understanding principal component analysis "
   ]
  },
  {
   "cell_type": "markdown",
   "metadata": {},
   "source": [
    "In this post, we'll take a deep dive into PCA, from both a mathematical and implementation perspective.\n",
    "We'll derive the equation from the ground up, look at how we can compute it and finally end with what it can be used for. This post is primarily targeted at those with a basic understanding of PCA but want to know the assumptions it relies on, its properties and how it can be computed."
   ]
  },
  {
   "cell_type": "markdown",
   "metadata": {},
   "source": [
    "## Background"
   ]
  },
  {
   "cell_type": "markdown",
   "metadata": {},
   "source": [
    "## The optimal coding perspective\n",
    "\n",
    "### Finding a low dimensional representation\n",
    "PCA can be thought of as finding a low-dimensional representation of a set of vectors. Given points in an _n_-dimensional space, we might wish to find some new _k_-dimensional space (with _k_ < _n_) which captures as much of the _essence_ of the original space as possible. The exact definition of capturing the '_essence_' is subject to design, however, we can consider it from multiple perspectives. \n",
    "\n",
    "![](diagrams/pca.svg)\n",
    "\n",
    "### The notion of reconstruction error\n",
    "If we take our low-dimensional representation and attempt to recover the original _n_-dimensional vector of each point, we could measure how much each point varies from its reconstruction. The difference between each reconstruction and the original, is one way of measuring the effectiveness of our new _k_-dimensional space and is the approach taken by PCA.  Naturally, this requires a definition of a _similarity_ between two matrices. If we have a matrix $X$ of our original points and our reconstruction $X'$ then we can define the difference between them as a sum of the square of errors $\\sum_{i,j} (X-X')_{i,j}^2$.\n",
    "\n",
    "This quantity is known as the _Frobenius_ norm of the matrix $X-X'$ and is essentially an extension of the L2 ($||\\mathbf{v}|||_2^2 =  \\sum_i \\mathbf{v}_i^2 = \\mathbf{v}^\\top \\mathbf{v}$) norm from vectors to matrices. Crucially, however, we can see that the Frobenius norm of a matrix, $A$, is precisely equivalent to $Tr[A^\\top A]$ (see the visual illustration below).\n",
    "\n",
    "![](diagrams/media/videos/frobenius_animation/1440p60/FrobeniusScene.mp4)\n",
    "\n",
    "\n",
    "As a result, our error of interest, can be computed as $Tr[(X-X')^\\top (X-X')]$.\n",
    "\n",
    "\n"
   ]
  },
  {
   "cell_type": "markdown",
   "metadata": {},
   "source": [
    "### PCA Assumptions\n",
    "PCA chooses to implement this transformation as a matrix multiplication. We wish to discover some matrix $D$ that will transform our input, $X$ to our coded version $C$ by a matrix multiplication (i.e. $C = XD$). In this sense, we can understand $D$ as a linear transformation operating on the original design matrix $X$.\n",
    "The matrix, $X$, being our original data of $m$ rows and $n$ columns.\n",
    "\n",
    "We might choose, however, to use some matrix, $D_k$ which reduces the number of dimensions of our data from $m$ to $k$. To make it easier, we can index the matrix with the new number of dimensions, $k$. If this is the case, then $D_k$ is of size $n \\times k$ and so that the resulting coding, $C$, is of size $m \\times k$.\n",
    "\n",
    "One of the most crucial assumptions made by PCA is that the transformation matrix, $D_k$, has __orthogonal__ columns. Criticially, this does not, technically, make it an __orthogonal__ matrix since it may not be square but, however, does mean that the reconstruction, $X'$ can be computed as $XD_kD_k^\\top$. To understand exactly why the reconstruction can be performed by the transpose of the matrix see [here (page 46)](http://www.deeplearningbook.org/contents/linear_algebra.html).\n",
    "\n",
    "This means that formally, for some given value $k$, we wish to discover the matrix $D_k$. \n",
    "$$D_k^* = argmin_{D_k} ||X-X'||_F =  argmin_{D_k} ||X-XD_kD_k^\\top||_F$$\n",
    "\n",
    "\n",
    "### Discovering the coding function\n",
    "\n",
    "Given that we wish to minimise the reconstruction error, let us attempt to discover the transformation precisely capable of this.\n",
    "\n",
    "\n",
    "\n",
    "\n",
    "\n",
    "\n"
   ]
  },
  {
   "cell_type": "markdown",
   "metadata": {},
   "source": [
    "From the visual illustration, recall that we can write the reconstruction error, R, as $Tr((X-XD_kD_k^\\top)^\\top(X-XD_kD_k^\\top))$.\n",
    "\n",
    "This can be expanded further into $\\text{argmin}_{D_k}Tr(X^\\top X -X^\\top XD_kD_k^\\top - D_kD_k^\\top X^\\top X + D_kD_k^\\top X^\\top XD_kD_k^\\top)$ by using the following rules $(A+B)^\\top = A^\\top + B^\\top$, $(AB)^\\top = B^\\top A^\\top$ and $(A^\\top)^\\top = A$\n",
    "\n",
    "We are, however, only interested in the effect of the matrix $D_k$ so we'll write this as $\\text{argmin}_{D_k}\\text{Tr}(-X^\\top XD_kD_k^\\top - D_kD_k^\\top X^\\top X + D_kD_k^\\top X^\\top XD_kD_k^\\top)$\n"
   ]
  },
  {
   "cell_type": "code",
   "execution_count": null,
   "metadata": {},
   "outputs": [],
   "source": []
  },
  {
   "cell_type": "markdown",
   "metadata": {},
   "source": [
    "## The decorrelation perspective\n",
    "\n",
    "It's crucial to understand that a zero covariance does not imply that no relationship exists between the features of the transformed space but rather that no linear relationship can exist."
   ]
  },
  {
   "cell_type": "markdown",
   "metadata": {},
   "source": [
    "## The axis transformation perspective"
   ]
  },
  {
   "cell_type": "markdown",
   "metadata": {},
   "source": [
    "## Relationship with eigendecomposition"
   ]
  },
  {
   "cell_type": "markdown",
   "metadata": {},
   "source": [
    "## Relationship with singular value decomposition"
   ]
  },
  {
   "cell_type": "markdown",
   "metadata": {},
   "source": [
    "### Example uses using our implementation from scratch"
   ]
  },
  {
   "cell_type": "markdown",
   "metadata": {},
   "source": []
  },
  {
   "cell_type": "code",
   "execution_count": 2,
   "metadata": {},
   "outputs": [],
   "source": [
    "import numpy as np\n",
    "import matplotlib.pyplot as plt"
   ]
  },
  {
   "cell_type": "code",
   "execution_count": 3,
   "metadata": {},
   "outputs": [],
   "source": [
    "def generate_noisy_line(gradient, N=100):\n",
    "    N = 100\n",
    "    X = np.zeros(shape=(N, 2))\n",
    "    X[:,0] = np.random.uniform(-100, 100, size=N)\n",
    "    X[:,1] = (X[:,0]*gradient)+ np.random.uniform(-100, 100, size=N)\n",
    "    return X\n",
    "# plt.scatter(x, y)"
   ]
  },
  {
   "cell_type": "code",
   "execution_count": 4,
   "metadata": {},
   "outputs": [],
   "source": [
    "def pca_eig(X):\n",
    "    # X = whiten(X)\n",
    "    N = X.shape[0]\n",
    "    # eigenvals, eigenvectors = np.linalg.eig(1/N * (X.T @ X))\n",
    "    eigenvals, eigenvectors = np.linalg.eig((X.T @ X))\n",
    "    # w, v = np.linalg.eigh((X.T @ X))\n",
    "    return eigenvals, eigenvectors\n",
    "\n",
    "def pca_svd(X):\n",
    "    _,_,x = np.linalg.svd(X)\n",
    "    return x\n",
    "\n",
    "def whiten(X):\n",
    "    return (X-np.mean(X, axis=0))#/np.std(X, axis=0)"
   ]
  },
  {
   "cell_type": "code",
   "execution_count": 9,
   "metadata": {},
   "outputs": [
    {
     "output_type": "stream",
     "name": "stdout",
     "text": "[[-0.97428691 -0.22531092]\n [ 0.22531092 -0.97428691]]\n[[-0.22531092 -0.97428691]\n [-0.97428691  0.22531092]]\n"
    },
    {
     "output_type": "display_data",
     "data": {
      "text/plain": "<Figure size 432x288 with 1 Axes>",
      "image/svg+xml": "<?xml version=\"1.0\" encoding=\"utf-8\" standalone=\"no\"?>\n<!DOCTYPE svg PUBLIC \"-//W3C//DTD SVG 1.1//EN\"\n  \"http://www.w3.org/Graphics/SVG/1.1/DTD/svg11.dtd\">\n<!-- Created with matplotlib (https://matplotlib.org/) -->\n<svg height=\"248.4775pt\" version=\"1.1\" viewBox=\"0 0 383.125 248.4775\" width=\"383.125pt\" xmlns=\"http://www.w3.org/2000/svg\" xmlns:xlink=\"http://www.w3.org/1999/xlink\">\n <defs>\n  <style type=\"text/css\">\n*{stroke-linecap:butt;stroke-linejoin:round;}\n  </style>\n </defs>\n <g id=\"figure_1\">\n  <g id=\"patch_1\">\n   <path d=\"M 0 248.4775 \nL 383.125 248.4775 \nL 383.125 0 \nL 0 0 \nz\n\" style=\"fill:none;\"/>\n  </g>\n  <g id=\"axes_1\">\n   <g id=\"patch_2\">\n    <path d=\"M 41.125 224.64 \nL 375.925 224.64 \nL 375.925 7.2 \nL 41.125 7.2 \nz\n\" style=\"fill:#ffffff;\"/>\n   </g>\n   <g id=\"PathCollection_1\">\n    <defs>\n     <path d=\"M 0 3 \nC 0.795609 3 1.55874 2.683901 2.12132 2.12132 \nC 2.683901 1.55874 3 0.795609 3 0 \nC 3 -0.795609 2.683901 -1.55874 2.12132 -2.12132 \nC 1.55874 -2.683901 0.795609 -3 0 -3 \nC -0.795609 -3 -1.55874 -2.683901 -2.12132 -2.12132 \nC -2.683901 -1.55874 -3 -0.795609 -3 0 \nC -3 0.795609 -2.683901 1.55874 -2.12132 2.12132 \nC -1.55874 2.683901 -0.795609 3 0 3 \nz\n\" id=\"m1b58ddcb05\" style=\"stroke:#1f77b4;\"/>\n    </defs>\n    <g clip-path=\"url(#p376890f7ec)\">\n     <use style=\"fill:#1f77b4;stroke:#1f77b4;\" x=\"192.511972\" xlink:href=\"#m1b58ddcb05\" y=\"145.859986\"/>\n     <use style=\"fill:#1f77b4;stroke:#1f77b4;\" x=\"95.222229\" xlink:href=\"#m1b58ddcb05\" y=\"180.80244\"/>\n     <use style=\"fill:#1f77b4;stroke:#1f77b4;\" x=\"342.855456\" xlink:href=\"#m1b58ddcb05\" y=\"42.694729\"/>\n     <use style=\"fill:#1f77b4;stroke:#1f77b4;\" x=\"137.708222\" xlink:href=\"#m1b58ddcb05\" y=\"169.947097\"/>\n     <use style=\"fill:#1f77b4;stroke:#1f77b4;\" x=\"67.795306\" xlink:href=\"#m1b58ddcb05\" y=\"199.689672\"/>\n     <use style=\"fill:#1f77b4;stroke:#1f77b4;\" x=\"213.367804\" xlink:href=\"#m1b58ddcb05\" y=\"106.513623\"/>\n     <use style=\"fill:#1f77b4;stroke:#1f77b4;\" x=\"188.014319\" xlink:href=\"#m1b58ddcb05\" y=\"142.387257\"/>\n     <use style=\"fill:#1f77b4;stroke:#1f77b4;\" x=\"152.442115\" xlink:href=\"#m1b58ddcb05\" y=\"129.85473\"/>\n     <use style=\"fill:#1f77b4;stroke:#1f77b4;\" x=\"137.670957\" xlink:href=\"#m1b58ddcb05\" y=\"160.527919\"/>\n     <use style=\"fill:#1f77b4;stroke:#1f77b4;\" x=\"291.223392\" xlink:href=\"#m1b58ddcb05\" y=\"70.486415\"/>\n     <use style=\"fill:#1f77b4;stroke:#1f77b4;\" x=\"114.885384\" xlink:href=\"#m1b58ddcb05\" y=\"188.037633\"/>\n     <use style=\"fill:#1f77b4;stroke:#1f77b4;\" x=\"253.25363\" xlink:href=\"#m1b58ddcb05\" y=\"108.494156\"/>\n     <use style=\"fill:#1f77b4;stroke:#1f77b4;\" x=\"226.079235\" xlink:href=\"#m1b58ddcb05\" y=\"98.327716\"/>\n     <use style=\"fill:#1f77b4;stroke:#1f77b4;\" x=\"247.834359\" xlink:href=\"#m1b58ddcb05\" y=\"106.372052\"/>\n     <use style=\"fill:#1f77b4;stroke:#1f77b4;\" x=\"172.433833\" xlink:href=\"#m1b58ddcb05\" y=\"158.357542\"/>\n     <use style=\"fill:#1f77b4;stroke:#1f77b4;\" x=\"107.467461\" xlink:href=\"#m1b58ddcb05\" y=\"186.262169\"/>\n     <use style=\"fill:#1f77b4;stroke:#1f77b4;\" x=\"114.008131\" xlink:href=\"#m1b58ddcb05\" y=\"180.206978\"/>\n     <use style=\"fill:#1f77b4;stroke:#1f77b4;\" x=\"74.645784\" xlink:href=\"#m1b58ddcb05\" y=\"180.861536\"/>\n     <use style=\"fill:#1f77b4;stroke:#1f77b4;\" x=\"202.094042\" xlink:href=\"#m1b58ddcb05\" y=\"125.016687\"/>\n     <use style=\"fill:#1f77b4;stroke:#1f77b4;\" x=\"311.179074\" xlink:href=\"#m1b58ddcb05\" y=\"60.701653\"/>\n     <use style=\"fill:#1f77b4;stroke:#1f77b4;\" x=\"73.476756\" xlink:href=\"#m1b58ddcb05\" y=\"214.756364\"/>\n     <use style=\"fill:#1f77b4;stroke:#1f77b4;\" x=\"88.480144\" xlink:href=\"#m1b58ddcb05\" y=\"201.416721\"/>\n     <use style=\"fill:#1f77b4;stroke:#1f77b4;\" x=\"260.078781\" xlink:href=\"#m1b58ddcb05\" y=\"83.564308\"/>\n     <use style=\"fill:#1f77b4;stroke:#1f77b4;\" x=\"132.549664\" xlink:href=\"#m1b58ddcb05\" y=\"164.847953\"/>\n     <use style=\"fill:#1f77b4;stroke:#1f77b4;\" x=\"301.53775\" xlink:href=\"#m1b58ddcb05\" y=\"54.226233\"/>\n     <use style=\"fill:#1f77b4;stroke:#1f77b4;\" x=\"335.718378\" xlink:href=\"#m1b58ddcb05\" y=\"58.552396\"/>\n     <use style=\"fill:#1f77b4;stroke:#1f77b4;\" x=\"245.901798\" xlink:href=\"#m1b58ddcb05\" y=\"109.968551\"/>\n     <use style=\"fill:#1f77b4;stroke:#1f77b4;\" x=\"286.446756\" xlink:href=\"#m1b58ddcb05\" y=\"63.743902\"/>\n     <use style=\"fill:#1f77b4;stroke:#1f77b4;\" x=\"163.091361\" xlink:href=\"#m1b58ddcb05\" y=\"141.369874\"/>\n     <use style=\"fill:#1f77b4;stroke:#1f77b4;\" x=\"83.346278\" xlink:href=\"#m1b58ddcb05\" y=\"169.758773\"/>\n     <use style=\"fill:#1f77b4;stroke:#1f77b4;\" x=\"342.124236\" xlink:href=\"#m1b58ddcb05\" y=\"43.183568\"/>\n     <use style=\"fill:#1f77b4;stroke:#1f77b4;\" x=\"335.624861\" xlink:href=\"#m1b58ddcb05\" y=\"27.80803\"/>\n     <use style=\"fill:#1f77b4;stroke:#1f77b4;\" x=\"281.711784\" xlink:href=\"#m1b58ddcb05\" y=\"76.192605\"/>\n     <use style=\"fill:#1f77b4;stroke:#1f77b4;\" x=\"221.776645\" xlink:href=\"#m1b58ddcb05\" y=\"101.249201\"/>\n     <use style=\"fill:#1f77b4;stroke:#1f77b4;\" x=\"252.061159\" xlink:href=\"#m1b58ddcb05\" y=\"71.207436\"/>\n     <use style=\"fill:#1f77b4;stroke:#1f77b4;\" x=\"327.699513\" xlink:href=\"#m1b58ddcb05\" y=\"38.750503\"/>\n     <use style=\"fill:#1f77b4;stroke:#1f77b4;\" x=\"318.436215\" xlink:href=\"#m1b58ddcb05\" y=\"49.394235\"/>\n     <use style=\"fill:#1f77b4;stroke:#1f77b4;\" x=\"309.405034\" xlink:href=\"#m1b58ddcb05\" y=\"66.491875\"/>\n     <use style=\"fill:#1f77b4;stroke:#1f77b4;\" x=\"283.608268\" xlink:href=\"#m1b58ddcb05\" y=\"83.860017\"/>\n     <use style=\"fill:#1f77b4;stroke:#1f77b4;\" x=\"153.261802\" xlink:href=\"#m1b58ddcb05\" y=\"155.595054\"/>\n     <use style=\"fill:#1f77b4;stroke:#1f77b4;\" x=\"109.372743\" xlink:href=\"#m1b58ddcb05\" y=\"170.379103\"/>\n     <use style=\"fill:#1f77b4;stroke:#1f77b4;\" x=\"192.991985\" xlink:href=\"#m1b58ddcb05\" y=\"116.422056\"/>\n     <use style=\"fill:#1f77b4;stroke:#1f77b4;\" x=\"204.825814\" xlink:href=\"#m1b58ddcb05\" y=\"129.311333\"/>\n     <use style=\"fill:#1f77b4;stroke:#1f77b4;\" x=\"264.355866\" xlink:href=\"#m1b58ddcb05\" y=\"104.456362\"/>\n     <use style=\"fill:#1f77b4;stroke:#1f77b4;\" x=\"265.910442\" xlink:href=\"#m1b58ddcb05\" y=\"99.974638\"/>\n     <use style=\"fill:#1f77b4;stroke:#1f77b4;\" x=\"298.919821\" xlink:href=\"#m1b58ddcb05\" y=\"74.639164\"/>\n     <use style=\"fill:#1f77b4;stroke:#1f77b4;\" x=\"198.600179\" xlink:href=\"#m1b58ddcb05\" y=\"101.672663\"/>\n     <use style=\"fill:#1f77b4;stroke:#1f77b4;\" x=\"236.592754\" xlink:href=\"#m1b58ddcb05\" y=\"110.454468\"/>\n     <use style=\"fill:#1f77b4;stroke:#1f77b4;\" x=\"190.34549\" xlink:href=\"#m1b58ddcb05\" y=\"107.673601\"/>\n     <use style=\"fill:#1f77b4;stroke:#1f77b4;\" x=\"288.686941\" xlink:href=\"#m1b58ddcb05\" y=\"78.709925\"/>\n     <use style=\"fill:#1f77b4;stroke:#1f77b4;\" x=\"56.343182\" xlink:href=\"#m1b58ddcb05\" y=\"194.497484\"/>\n     <use style=\"fill:#1f77b4;stroke:#1f77b4;\" x=\"226.946607\" xlink:href=\"#m1b58ddcb05\" y=\"110.476762\"/>\n     <use style=\"fill:#1f77b4;stroke:#1f77b4;\" x=\"113.863101\" xlink:href=\"#m1b58ddcb05\" y=\"153.173525\"/>\n     <use style=\"fill:#1f77b4;stroke:#1f77b4;\" x=\"267.969148\" xlink:href=\"#m1b58ddcb05\" y=\"72.518171\"/>\n     <use style=\"fill:#1f77b4;stroke:#1f77b4;\" x=\"174.733007\" xlink:href=\"#m1b58ddcb05\" y=\"117.258643\"/>\n     <use style=\"fill:#1f77b4;stroke:#1f77b4;\" x=\"252.033151\" xlink:href=\"#m1b58ddcb05\" y=\"91.080602\"/>\n     <use style=\"fill:#1f77b4;stroke:#1f77b4;\" x=\"268.528092\" xlink:href=\"#m1b58ddcb05\" y=\"102.538828\"/>\n     <use style=\"fill:#1f77b4;stroke:#1f77b4;\" x=\"191.820318\" xlink:href=\"#m1b58ddcb05\" y=\"143.896865\"/>\n     <use style=\"fill:#1f77b4;stroke:#1f77b4;\" x=\"57.991789\" xlink:href=\"#m1b58ddcb05\" y=\"213.086724\"/>\n     <use style=\"fill:#1f77b4;stroke:#1f77b4;\" x=\"266.247097\" xlink:href=\"#m1b58ddcb05\" y=\"70.762545\"/>\n     <use style=\"fill:#1f77b4;stroke:#1f77b4;\" x=\"259.060228\" xlink:href=\"#m1b58ddcb05\" y=\"86.936753\"/>\n     <use style=\"fill:#1f77b4;stroke:#1f77b4;\" x=\"360.706818\" xlink:href=\"#m1b58ddcb05\" y=\"52.421752\"/>\n     <use style=\"fill:#1f77b4;stroke:#1f77b4;\" x=\"320.371724\" xlink:href=\"#m1b58ddcb05\" y=\"49.90359\"/>\n     <use style=\"fill:#1f77b4;stroke:#1f77b4;\" x=\"196.074495\" xlink:href=\"#m1b58ddcb05\" y=\"137.603403\"/>\n     <use style=\"fill:#1f77b4;stroke:#1f77b4;\" x=\"112.750852\" xlink:href=\"#m1b58ddcb05\" y=\"182.080757\"/>\n     <use style=\"fill:#1f77b4;stroke:#1f77b4;\" x=\"144.471884\" xlink:href=\"#m1b58ddcb05\" y=\"167.553564\"/>\n     <use style=\"fill:#1f77b4;stroke:#1f77b4;\" x=\"258.400002\" xlink:href=\"#m1b58ddcb05\" y=\"74.471843\"/>\n     <use style=\"fill:#1f77b4;stroke:#1f77b4;\" x=\"324.175608\" xlink:href=\"#m1b58ddcb05\" y=\"73.879646\"/>\n     <use style=\"fill:#1f77b4;stroke:#1f77b4;\" x=\"101.58598\" xlink:href=\"#m1b58ddcb05\" y=\"159.051969\"/>\n     <use style=\"fill:#1f77b4;stroke:#1f77b4;\" x=\"208.08973\" xlink:href=\"#m1b58ddcb05\" y=\"108.604739\"/>\n     <use style=\"fill:#1f77b4;stroke:#1f77b4;\" x=\"110.283782\" xlink:href=\"#m1b58ddcb05\" y=\"193.545429\"/>\n     <use style=\"fill:#1f77b4;stroke:#1f77b4;\" x=\"127.516583\" xlink:href=\"#m1b58ddcb05\" y=\"182.635265\"/>\n     <use style=\"fill:#1f77b4;stroke:#1f77b4;\" x=\"269.716353\" xlink:href=\"#m1b58ddcb05\" y=\"91.871787\"/>\n     <use style=\"fill:#1f77b4;stroke:#1f77b4;\" x=\"314.733744\" xlink:href=\"#m1b58ddcb05\" y=\"72.309633\"/>\n     <use style=\"fill:#1f77b4;stroke:#1f77b4;\" x=\"88.814883\" xlink:href=\"#m1b58ddcb05\" y=\"203.808743\"/>\n     <use style=\"fill:#1f77b4;stroke:#1f77b4;\" x=\"58.374591\" xlink:href=\"#m1b58ddcb05\" y=\"195.587075\"/>\n     <use style=\"fill:#1f77b4;stroke:#1f77b4;\" x=\"226.152718\" xlink:href=\"#m1b58ddcb05\" y=\"114.261475\"/>\n     <use style=\"fill:#1f77b4;stroke:#1f77b4;\" x=\"177.054382\" xlink:href=\"#m1b58ddcb05\" y=\"127.676242\"/>\n     <use style=\"fill:#1f77b4;stroke:#1f77b4;\" x=\"337.401593\" xlink:href=\"#m1b58ddcb05\" y=\"32.060934\"/>\n     <use style=\"fill:#1f77b4;stroke:#1f77b4;\" x=\"120.00205\" xlink:href=\"#m1b58ddcb05\" y=\"161.449159\"/>\n     <use style=\"fill:#1f77b4;stroke:#1f77b4;\" x=\"167.871627\" xlink:href=\"#m1b58ddcb05\" y=\"159.735866\"/>\n     <use style=\"fill:#1f77b4;stroke:#1f77b4;\" x=\"92.564789\" xlink:href=\"#m1b58ddcb05\" y=\"184.498358\"/>\n     <use style=\"fill:#1f77b4;stroke:#1f77b4;\" x=\"224.104745\" xlink:href=\"#m1b58ddcb05\" y=\"99.465819\"/>\n     <use style=\"fill:#1f77b4;stroke:#1f77b4;\" x=\"201.382245\" xlink:href=\"#m1b58ddcb05\" y=\"142.21045\"/>\n     <use style=\"fill:#1f77b4;stroke:#1f77b4;\" x=\"316.535136\" xlink:href=\"#m1b58ddcb05\" y=\"66.318311\"/>\n     <use style=\"fill:#1f77b4;stroke:#1f77b4;\" x=\"175.687202\" xlink:href=\"#m1b58ddcb05\" y=\"151.997153\"/>\n     <use style=\"fill:#1f77b4;stroke:#1f77b4;\" x=\"108.749208\" xlink:href=\"#m1b58ddcb05\" y=\"175.636852\"/>\n     <use style=\"fill:#1f77b4;stroke:#1f77b4;\" x=\"331.856256\" xlink:href=\"#m1b58ddcb05\" y=\"61.242071\"/>\n     <use style=\"fill:#1f77b4;stroke:#1f77b4;\" x=\"330.826506\" xlink:href=\"#m1b58ddcb05\" y=\"29.054551\"/>\n     <use style=\"fill:#1f77b4;stroke:#1f77b4;\" x=\"148.99662\" xlink:href=\"#m1b58ddcb05\" y=\"140.492526\"/>\n     <use style=\"fill:#1f77b4;stroke:#1f77b4;\" x=\"358.12028\" xlink:href=\"#m1b58ddcb05\" y=\"17.083636\"/>\n     <use style=\"fill:#1f77b4;stroke:#1f77b4;\" x=\"108.967726\" xlink:href=\"#m1b58ddcb05\" y=\"184.563377\"/>\n     <use style=\"fill:#1f77b4;stroke:#1f77b4;\" x=\"58.364844\" xlink:href=\"#m1b58ddcb05\" y=\"205.669723\"/>\n     <use style=\"fill:#1f77b4;stroke:#1f77b4;\" x=\"146.427214\" xlink:href=\"#m1b58ddcb05\" y=\"136.746821\"/>\n     <use style=\"fill:#1f77b4;stroke:#1f77b4;\" x=\"281.246247\" xlink:href=\"#m1b58ddcb05\" y=\"54.677431\"/>\n     <use style=\"fill:#1f77b4;stroke:#1f77b4;\" x=\"179.391358\" xlink:href=\"#m1b58ddcb05\" y=\"149.481325\"/>\n     <use style=\"fill:#1f77b4;stroke:#1f77b4;\" x=\"218.516875\" xlink:href=\"#m1b58ddcb05\" y=\"99.534196\"/>\n     <use style=\"fill:#1f77b4;stroke:#1f77b4;\" x=\"245.190744\" xlink:href=\"#m1b58ddcb05\" y=\"108.808788\"/>\n     <use style=\"fill:#1f77b4;stroke:#1f77b4;\" x=\"81.713515\" xlink:href=\"#m1b58ddcb05\" y=\"209.044449\"/>\n     <use style=\"fill:#1f77b4;stroke:#1f77b4;\" x=\"288.988395\" xlink:href=\"#m1b58ddcb05\" y=\"62.853027\"/>\n    </g>\n   </g>\n   <g id=\"Quiver_1\">\n    <path clip-path=\"url(#p376890f7ec)\" d=\"M 210.613583 118.124947 \nL 189.003412 123.122456 \nL 190.792385 125.286013 \nL 177.71158 124.44514 \nL 189.095118 117.94671 \nL 188.437657 120.676022 \nL 210.047828 115.678513 \nL 210.613583 118.124947 \n\" style=\"fill:#ff0000;\"/>\n   </g>\n   <g id=\"Quiver_2\">\n    <path clip-path=\"url(#p376890f7ec)\" d=\"M 211.553923 116.618852 \nL 216.551431 138.229023 \nL 218.714988 136.44005 \nL 217.874115 149.520856 \nL 211.375685 138.137318 \nL 214.104997 138.794779 \nL 209.107488 117.184608 \nL 211.553923 116.618852 \n\" style=\"fill:#0000ff;\"/>\n   </g>\n   <g id=\"matplotlib.axis_1\">\n    <g id=\"xtick_1\">\n     <g id=\"line2d_1\">\n      <defs>\n       <path d=\"M 0 0 \nL 0 3.5 \n\" id=\"m04652163e2\" style=\"stroke:#000000;stroke-width:0.8;\"/>\n      </defs>\n      <g>\n       <use style=\"stroke:#000000;stroke-width:0.8;\" x=\"55.603967\" xlink:href=\"#m04652163e2\" y=\"224.64\"/>\n      </g>\n     </g>\n     <g id=\"text_1\">\n      <!-- −100 -->\n      <defs>\n       <path d=\"M 10.84375 25.296875 \nL 10.84375 32.515625 \nL 68.65625 32.515625 \nL 68.65625 25.296875 \nz\n\" id=\"LucidaGrande-8722\"/>\n       <path d=\"M 15.046875 0 \nL 15.046875 7.234375 \nL 29.5 7.234375 \nL 29.5 64.265625 \nL 15.046875 60.640625 \nL 15.046875 68.0625 \nL 39.15625 74.078125 \nL 39.15625 7.234375 \nL 53.609375 7.234375 \nL 53.609375 0 \nz\n\" id=\"LucidaGrande-49\"/>\n       <path d=\"M 31.34375 -1.8125 \nQ 20.171875 -1.8125 13.25 8.703125 \nQ 6.34375 19.234375 6.34375 36.1875 \nQ 6.34375 53.265625 13.296875 63.671875 \nQ 20.265625 74.078125 31.640625 74.078125 \nQ 43.015625 74.078125 49.96875 63.671875 \nQ 56.9375 53.265625 56.9375 36.328125 \nQ 56.9375 18.953125 49.96875 8.5625 \nQ 43.015625 -1.8125 31.34375 -1.8125 \nz\nM 31.453125 5.421875 \nQ 46.734375 5.421875 46.734375 36.46875 \nQ 46.734375 66.84375 31.640625 66.84375 \nQ 16.609375 66.84375 16.609375 36.1875 \nQ 16.609375 5.421875 31.453125 5.421875 \nz\n\" id=\"LucidaGrande-48\"/>\n      </defs>\n      <g transform=\"translate(42.141467 239.349375)scale(0.1 -0.1)\">\n       <use xlink:href=\"#LucidaGrande-8722\"/>\n       <use x=\"79.541016\" xlink:href=\"#LucidaGrande-49\"/>\n       <use x=\"142.773438\" xlink:href=\"#LucidaGrande-48\"/>\n       <use x=\"206.005859\" xlink:href=\"#LucidaGrande-48\"/>\n      </g>\n     </g>\n    </g>\n    <g id=\"xtick_2\">\n     <g id=\"line2d_2\">\n      <g>\n       <use style=\"stroke:#000000;stroke-width:0.8;\" x=\"94.285652\" xlink:href=\"#m04652163e2\" y=\"224.64\"/>\n      </g>\n     </g>\n     <g id=\"text_2\">\n      <!-- −75 -->\n      <defs>\n       <path d=\"M 15.046875 0 \nQ 16.453125 8.453125 19.0625 14.59375 \nQ 21.6875 20.75 28.328125 31.5 \nL 48.046875 63.234375 \nL 10.84375 63.234375 \nL 10.84375 72.265625 \nL 57.234375 72.265625 \nL 57.234375 63.234375 \nQ 29.4375 22.265625 26.125 0 \nz\n\" id=\"LucidaGrande-55\"/>\n       <path d=\"M 12.15625 -0.296875 \nL 12.15625 8.296875 \nQ 19.34375 5.421875 25.828125 5.421875 \nQ 32.953125 5.421875 37.03125 9.609375 \nQ 41.109375 13.8125 41.109375 21.1875 \nQ 41.109375 37.453125 18.703125 37.453125 \nQ 16.15625 37.453125 13.375 37.109375 \nL 13.375 72.265625 \nL 49.953125 72.265625 \nL 49.953125 63.875 \nL 21.828125 63.875 \nL 21.828125 44.828125 \nQ 35.75 44.828125 43.5625 38.421875 \nQ 51.375 32.03125 51.375 20.703125 \nQ 51.375 10.15625 44.265625 4.171875 \nQ 37.15625 -1.8125 24.5625 -1.8125 \nQ 19.09375 -1.8125 12.15625 -0.296875 \nz\n\" id=\"LucidaGrande-53\"/>\n      </defs>\n      <g transform=\"translate(83.98487 239.349375)scale(0.1 -0.1)\">\n       <use xlink:href=\"#LucidaGrande-8722\"/>\n       <use x=\"79.541016\" xlink:href=\"#LucidaGrande-55\"/>\n       <use x=\"142.773438\" xlink:href=\"#LucidaGrande-53\"/>\n      </g>\n     </g>\n    </g>\n    <g id=\"xtick_3\">\n     <g id=\"line2d_3\">\n      <g>\n       <use style=\"stroke:#000000;stroke-width:0.8;\" x=\"132.967336\" xlink:href=\"#m04652163e2\" y=\"224.64\"/>\n      </g>\n     </g>\n     <g id=\"text_3\">\n      <!-- −50 -->\n      <g transform=\"translate(122.666555 239.349375)scale(0.1 -0.1)\">\n       <use xlink:href=\"#LucidaGrande-8722\"/>\n       <use x=\"79.541016\" xlink:href=\"#LucidaGrande-53\"/>\n       <use x=\"142.773438\" xlink:href=\"#LucidaGrande-48\"/>\n      </g>\n     </g>\n    </g>\n    <g id=\"xtick_4\">\n     <g id=\"line2d_4\">\n      <g>\n       <use style=\"stroke:#000000;stroke-width:0.8;\" x=\"171.649021\" xlink:href=\"#m04652163e2\" y=\"224.64\"/>\n      </g>\n     </g>\n     <g id=\"text_4\">\n      <!-- −25 -->\n      <defs>\n       <path d=\"M 8.296875 0 \nL 8.296875 8.453125 \nQ 12.5 18.265625 25.296875 29.828125 \nL 30.8125 34.765625 \nQ 41.453125 44.390625 41.453125 53.859375 \nQ 41.453125 59.90625 37.8125 63.375 \nQ 34.1875 66.84375 27.828125 66.84375 \nQ 20.3125 66.84375 10.109375 61.03125 \nL 10.109375 69.53125 \nQ 19.734375 74.078125 29.203125 74.078125 \nQ 39.359375 74.078125 45.5 68.609375 \nQ 51.65625 63.140625 51.65625 54.109375 \nQ 51.65625 47.609375 48.546875 42.578125 \nQ 45.453125 37.546875 37.015625 30.375 \nL 33.296875 27.203125 \nQ 21.734375 17.390625 19.921875 8.453125 \nL 51.3125 8.453125 \nL 51.3125 0 \nz\n\" id=\"LucidaGrande-50\"/>\n      </defs>\n      <g transform=\"translate(161.34824 239.349375)scale(0.1 -0.1)\">\n       <use xlink:href=\"#LucidaGrande-8722\"/>\n       <use x=\"79.541016\" xlink:href=\"#LucidaGrande-50\"/>\n       <use x=\"142.773438\" xlink:href=\"#LucidaGrande-53\"/>\n      </g>\n     </g>\n    </g>\n    <g id=\"xtick_5\">\n     <g id=\"line2d_5\">\n      <g>\n       <use style=\"stroke:#000000;stroke-width:0.8;\" x=\"210.330705\" xlink:href=\"#m04652163e2\" y=\"224.64\"/>\n      </g>\n     </g>\n     <g id=\"text_5\">\n      <!-- 0 -->\n      <g transform=\"translate(207.168987 239.349375)scale(0.1 -0.1)\">\n       <use xlink:href=\"#LucidaGrande-48\"/>\n      </g>\n     </g>\n    </g>\n    <g id=\"xtick_6\">\n     <g id=\"line2d_6\">\n      <g>\n       <use style=\"stroke:#000000;stroke-width:0.8;\" x=\"249.01239\" xlink:href=\"#m04652163e2\" y=\"224.64\"/>\n      </g>\n     </g>\n     <g id=\"text_6\">\n      <!-- 25 -->\n      <g transform=\"translate(242.688953 239.349375)scale(0.1 -0.1)\">\n       <use xlink:href=\"#LucidaGrande-50\"/>\n       <use x=\"63.232422\" xlink:href=\"#LucidaGrande-53\"/>\n      </g>\n     </g>\n    </g>\n    <g id=\"xtick_7\">\n     <g id=\"line2d_7\">\n      <g>\n       <use style=\"stroke:#000000;stroke-width:0.8;\" x=\"287.694075\" xlink:href=\"#m04652163e2\" y=\"224.64\"/>\n      </g>\n     </g>\n     <g id=\"text_7\">\n      <!-- 50 -->\n      <g transform=\"translate(281.370637 239.349375)scale(0.1 -0.1)\">\n       <use xlink:href=\"#LucidaGrande-53\"/>\n       <use x=\"63.232422\" xlink:href=\"#LucidaGrande-48\"/>\n      </g>\n     </g>\n    </g>\n    <g id=\"xtick_8\">\n     <g id=\"line2d_8\">\n      <g>\n       <use style=\"stroke:#000000;stroke-width:0.8;\" x=\"326.375759\" xlink:href=\"#m04652163e2\" y=\"224.64\"/>\n      </g>\n     </g>\n     <g id=\"text_8\">\n      <!-- 75 -->\n      <g transform=\"translate(320.052322 239.349375)scale(0.1 -0.1)\">\n       <use xlink:href=\"#LucidaGrande-55\"/>\n       <use x=\"63.232422\" xlink:href=\"#LucidaGrande-53\"/>\n      </g>\n     </g>\n    </g>\n    <g id=\"xtick_9\">\n     <g id=\"line2d_9\">\n      <g>\n       <use style=\"stroke:#000000;stroke-width:0.8;\" x=\"365.057444\" xlink:href=\"#m04652163e2\" y=\"224.64\"/>\n      </g>\n     </g>\n     <g id=\"text_9\">\n      <!-- 100 -->\n      <g transform=\"translate(355.572288 239.349375)scale(0.1 -0.1)\">\n       <use xlink:href=\"#LucidaGrande-49\"/>\n       <use x=\"63.232422\" xlink:href=\"#LucidaGrande-48\"/>\n       <use x=\"126.464844\" xlink:href=\"#LucidaGrande-48\"/>\n      </g>\n     </g>\n    </g>\n   </g>\n   <g id=\"matplotlib.axis_2\">\n    <g id=\"ytick_1\">\n     <g id=\"line2d_10\">\n      <defs>\n       <path d=\"M 0 0 \nL -3.5 0 \n\" id=\"me689e0dbd6\" style=\"stroke:#000000;stroke-width:0.8;\"/>\n      </defs>\n      <g>\n       <use style=\"stroke:#000000;stroke-width:0.8;\" x=\"41.125\" xlink:href=\"#me689e0dbd6\" y=\"205.283586\"/>\n      </g>\n     </g>\n     <g id=\"text_10\">\n      <!-- −400 -->\n      <defs>\n       <path d=\"M 37.640625 0 \nL 37.640625 20.453125 \nL 5.125 20.453125 \nL 5.125 27.734375 \nL 37.640625 72.265625 \nL 46.6875 72.265625 \nL 46.6875 28.328125 \nL 56.34375 28.328125 \nL 56.34375 20.453125 \nL 46.6875 20.453125 \nL 46.6875 0 \nz\nM 14.546875 28.328125 \nL 38.28125 28.328125 \nL 38.28125 60.453125 \nz\n\" id=\"LucidaGrande-52\"/>\n      </defs>\n      <g transform=\"translate(7.2 209.138273)scale(0.1 -0.1)\">\n       <use xlink:href=\"#LucidaGrande-8722\"/>\n       <use x=\"79.541016\" xlink:href=\"#LucidaGrande-52\"/>\n       <use x=\"142.773438\" xlink:href=\"#LucidaGrande-48\"/>\n       <use x=\"206.005859\" xlink:href=\"#LucidaGrande-48\"/>\n      </g>\n     </g>\n    </g>\n    <g id=\"ytick_2\">\n     <g id=\"line2d_11\">\n      <g>\n       <use style=\"stroke:#000000;stroke-width:0.8;\" x=\"41.125\" xlink:href=\"#me689e0dbd6\" y=\"161.092658\"/>\n      </g>\n     </g>\n     <g id=\"text_11\">\n      <!-- −200 -->\n      <g transform=\"translate(7.2 164.947345)scale(0.1 -0.1)\">\n       <use xlink:href=\"#LucidaGrande-8722\"/>\n       <use x=\"79.541016\" xlink:href=\"#LucidaGrande-50\"/>\n       <use x=\"142.773438\" xlink:href=\"#LucidaGrande-48\"/>\n       <use x=\"206.005859\" xlink:href=\"#LucidaGrande-48\"/>\n      </g>\n     </g>\n    </g>\n    <g id=\"ytick_3\">\n     <g id=\"line2d_12\">\n      <g>\n       <use style=\"stroke:#000000;stroke-width:0.8;\" x=\"41.125\" xlink:href=\"#me689e0dbd6\" y=\"116.90173\"/>\n      </g>\n     </g>\n     <g id=\"text_12\">\n      <!-- 0 -->\n      <g transform=\"translate(27.801562 120.756418)scale(0.1 -0.1)\">\n       <use xlink:href=\"#LucidaGrande-48\"/>\n      </g>\n     </g>\n    </g>\n    <g id=\"ytick_4\">\n     <g id=\"line2d_13\">\n      <g>\n       <use style=\"stroke:#000000;stroke-width:0.8;\" x=\"41.125\" xlink:href=\"#me689e0dbd6\" y=\"72.710803\"/>\n      </g>\n     </g>\n     <g id=\"text_13\">\n      <!-- 200 -->\n      <g transform=\"translate(15.154687 76.56549)scale(0.1 -0.1)\">\n       <use xlink:href=\"#LucidaGrande-50\"/>\n       <use x=\"63.232422\" xlink:href=\"#LucidaGrande-48\"/>\n       <use x=\"126.464844\" xlink:href=\"#LucidaGrande-48\"/>\n      </g>\n     </g>\n    </g>\n    <g id=\"ytick_5\">\n     <g id=\"line2d_14\">\n      <g>\n       <use style=\"stroke:#000000;stroke-width:0.8;\" x=\"41.125\" xlink:href=\"#me689e0dbd6\" y=\"28.519875\"/>\n      </g>\n     </g>\n     <g id=\"text_14\">\n      <!-- 400 -->\n      <g transform=\"translate(15.154687 32.374562)scale(0.1 -0.1)\">\n       <use xlink:href=\"#LucidaGrande-52\"/>\n       <use x=\"63.232422\" xlink:href=\"#LucidaGrande-48\"/>\n       <use x=\"126.464844\" xlink:href=\"#LucidaGrande-48\"/>\n      </g>\n     </g>\n    </g>\n   </g>\n   <g id=\"patch_3\">\n    <path d=\"M 41.125 224.64 \nL 41.125 7.2 \n\" style=\"fill:none;stroke:#000000;stroke-linecap:square;stroke-linejoin:miter;stroke-width:0.8;\"/>\n   </g>\n   <g id=\"patch_4\">\n    <path d=\"M 375.925 224.64 \nL 375.925 7.2 \n\" style=\"fill:none;stroke:#000000;stroke-linecap:square;stroke-linejoin:miter;stroke-width:0.8;\"/>\n   </g>\n   <g id=\"patch_5\">\n    <path d=\"M 41.125 224.64 \nL 375.925 224.64 \n\" style=\"fill:none;stroke:#000000;stroke-linecap:square;stroke-linejoin:miter;stroke-width:0.8;\"/>\n   </g>\n   <g id=\"patch_6\">\n    <path d=\"M 41.125 7.2 \nL 375.925 7.2 \n\" style=\"fill:none;stroke:#000000;stroke-linecap:square;stroke-linejoin:miter;stroke-width:0.8;\"/>\n   </g>\n  </g>\n </g>\n <defs>\n  <clipPath id=\"p376890f7ec\">\n   <rect height=\"217.44\" width=\"334.8\" x=\"41.125\" y=\"7.2\"/>\n  </clipPath>\n </defs>\n</svg>\n",
      "image/png": "[encoded data removed]"
     },
     "metadata": {
      "needs_background": "light"
     }
    },
    {
     "output_type": "execute_result",
     "data": {
      "text/plain": "<matplotlib.collections.PathCollection at 0x130ec2c10>"
     },
     "metadata": {},
     "execution_count": 9
    },
    {
     "output_type": "display_data",
     "data": {
      "text/plain": "<Figure size 432x288 with 1 Axes>",
      "image/svg+xml": "<?xml version=\"1.0\" encoding=\"utf-8\" standalone=\"no\"?>\n<!DOCTYPE svg PUBLIC \"-//W3C//DTD SVG 1.1//EN\"\n  \"http://www.w3.org/Graphics/SVG/1.1/DTD/svg11.dtd\">\n<!-- Created with matplotlib (https://matplotlib.org/) -->\n<svg height=\"248.4775pt\" version=\"1.1\" viewBox=\"0 0 383.125 248.4775\" width=\"383.125pt\" xmlns=\"http://www.w3.org/2000/svg\" xmlns:xlink=\"http://www.w3.org/1999/xlink\">\n <defs>\n  <style type=\"text/css\">\n*{stroke-linecap:butt;stroke-linejoin:round;}\n  </style>\n </defs>\n <g id=\"figure_1\">\n  <g id=\"patch_1\">\n   <path d=\"M 0 248.4775 \nL 383.125 248.4775 \nL 383.125 0 \nL 0 0 \nz\n\" style=\"fill:none;\"/>\n  </g>\n  <g id=\"axes_1\">\n   <g id=\"patch_2\">\n    <path d=\"M 41.125 224.64 \nL 375.925 224.64 \nL 375.925 7.2 \nL 41.125 7.2 \nz\n\" style=\"fill:#ffffff;\"/>\n   </g>\n   <g id=\"PathCollection_1\">\n    <defs>\n     <path d=\"M 0 3 \nC 0.795609 3 1.55874 2.683901 2.12132 2.12132 \nC 2.683901 1.55874 3 0.795609 3 0 \nC 3 -0.795609 2.683901 -1.55874 2.12132 -2.12132 \nC 1.55874 -2.683901 0.795609 -3 0 -3 \nC -0.795609 -3 -1.55874 -2.683901 -2.12132 -2.12132 \nC -2.683901 -1.55874 -3 -0.795609 -3 0 \nC -3 0.795609 -2.683901 1.55874 -2.12132 2.12132 \nC -1.55874 2.683901 -0.795609 3 0 3 \nz\n\" id=\"m86d5359597\" style=\"stroke:#1f77b4;\"/>\n    </defs>\n    <g clip-path=\"url(#p37f4a81dc5)\">\n     <use style=\"fill:#1f77b4;stroke:#1f77b4;\" x=\"115.163678\" xlink:href=\"#m86d5359597\" y=\"86.605039\"/>\n     <use style=\"fill:#1f77b4;stroke:#1f77b4;\" x=\"257.002125\" xlink:href=\"#m86d5359597\" y=\"50.181739\"/>\n     <use style=\"fill:#1f77b4;stroke:#1f77b4;\" x=\"173.440254\" xlink:href=\"#m86d5359597\" y=\"189.826669\"/>\n     <use style=\"fill:#1f77b4;stroke:#1f77b4;\" x=\"170.210307\" xlink:href=\"#m86d5359597\" y=\"61.883676\"/>\n     <use style=\"fill:#1f77b4;stroke:#1f77b4;\" x=\"245.992968\" xlink:href=\"#m86d5359597\" y=\"31.287262\"/>\n     <use style=\"fill:#1f77b4;stroke:#1f77b4;\" x=\"264.524492\" xlink:href=\"#m86d5359597\" y=\"124.822742\"/>\n     <use style=\"fill:#1f77b4;stroke:#1f77b4;\" x=\"150.433597\" xlink:href=\"#m86d5359597\" y=\"89.778333\"/>\n     <use style=\"fill:#1f77b4;stroke:#1f77b4;\" x=\"345.113899\" xlink:href=\"#m86d5359597\" y=\"100.620524\"/>\n     <use style=\"fill:#1f77b4;stroke:#1f77b4;\" x=\"223.493808\" xlink:href=\"#m86d5359597\" y=\"70.874093\"/>\n     <use style=\"fill:#1f77b4;stroke:#1f77b4;\" x=\"196.529193\" xlink:href=\"#m86d5359597\" y=\"161.66889\"/>\n     <use style=\"fill:#1f77b4;stroke:#1f77b4;\" x=\"147.653262\" xlink:href=\"#m86d5359597\" y=\"43.894873\"/>\n     <use style=\"fill:#1f77b4;stroke:#1f77b4;\" x=\"114.358898\" xlink:href=\"#m86d5359597\" y=\"124.189522\"/>\n     <use style=\"fill:#1f77b4;stroke:#1f77b4;\" x=\"266.423411\" xlink:href=\"#m86d5359597\" y=\"133.037778\"/>\n     <use style=\"fill:#1f77b4;stroke:#1f77b4;\" x=\"145.218609\" xlink:href=\"#m86d5359597\" y=\"126.044449\"/>\n     <use style=\"fill:#1f77b4;stroke:#1f77b4;\" x=\"114.604156\" xlink:href=\"#m86d5359597\" y=\"74.041848\"/>\n     <use style=\"fill:#1f77b4;stroke:#1f77b4;\" x=\"183.521494\" xlink:href=\"#m86d5359597\" y=\"45.355888\"/>\n     <use style=\"fill:#1f77b4;stroke:#1f77b4;\" x=\"194.899607\" xlink:href=\"#m86d5359597\" y=\"51.342397\"/>\n     <use style=\"fill:#1f77b4;stroke:#1f77b4;\" x=\"328.37089\" xlink:href=\"#m86d5359597\" y=\"49.47665\"/>\n     <use style=\"fill:#1f77b4;stroke:#1f77b4;\" x=\"199.39471\" xlink:href=\"#m86d5359597\" y=\"106.804225\"/>\n     <use style=\"fill:#1f77b4;stroke:#1f77b4;\" x=\"182.20678\" xlink:href=\"#m86d5359597\" y=\"171.638574\"/>\n     <use style=\"fill:#1f77b4;stroke:#1f77b4;\" x=\"141.171655\" xlink:href=\"#m86d5359597\" y=\"17.083636\"/>\n     <use style=\"fill:#1f77b4;stroke:#1f77b4;\" x=\"164.167042\" xlink:href=\"#m86d5359597\" y=\"30.290705\"/>\n     <use style=\"fill:#1f77b4;stroke:#1f77b4;\" x=\"231.257831\" xlink:href=\"#m86d5359597\" y=\"148.202835\"/>\n     <use style=\"fill:#1f77b4;stroke:#1f77b4;\" x=\"216.961344\" xlink:href=\"#m86d5359597\" y=\"66.588718\"/>\n     <use style=\"fill:#1f77b4;stroke:#1f77b4;\" x=\"252.345314\" xlink:href=\"#m86d5359597\" y=\"177.516097\"/>\n     <use style=\"fill:#1f77b4;stroke:#1f77b4;\" x=\"108.823788\" xlink:href=\"#m86d5359597\" y=\"174.46387\"/>\n     <use style=\"fill:#1f77b4;stroke:#1f77b4;\" x=\"131.65745\" xlink:href=\"#m86d5359597\" y=\"122.55029\"/>\n     <use style=\"fill:#1f77b4;stroke:#1f77b4;\" x=\"251.223096\" xlink:href=\"#m86d5359597\" y=\"167.95474\"/>\n     <use style=\"fill:#1f77b4;stroke:#1f77b4;\" x=\"243.023266\" xlink:href=\"#m86d5359597\" y=\"89.963832\"/>\n     <use style=\"fill:#1f77b4;stroke:#1f77b4;\" x=\"360.706818\" xlink:href=\"#m86d5359597\" y=\"60.349684\"/>\n     <use style=\"fill:#1f77b4;stroke:#1f77b4;\" x=\"173.229738\" xlink:href=\"#m86d5359597\" y=\"189.33697\"/>\n     <use style=\"fill:#1f77b4;stroke:#1f77b4;\" x=\"282.644121\" xlink:href=\"#m86d5359597\" y=\"203.809637\"/>\n     <use style=\"fill:#1f77b4;stroke:#1f77b4;\" x=\"197.47329\" xlink:href=\"#m86d5359597\" y=\"155.92188\"/>\n     <use style=\"fill:#1f77b4;stroke:#1f77b4;\" x=\"264.93022\" xlink:href=\"#m86d5359597\" y=\"130.113274\"/>\n     <use style=\"fill:#1f77b4;stroke:#1f77b4;\" x=\"328.92808\" xlink:href=\"#m86d5359597\" y=\"159.746006\"/>\n     <use style=\"fill:#1f77b4;stroke:#1f77b4;\" x=\"248.511594\" xlink:href=\"#m86d5359597\" y=\"193.114054\"/>\n     <use style=\"fill:#1f77b4;stroke:#1f77b4;\" x=\"220.727227\" xlink:href=\"#m86d5359597\" y=\"182.661471\"/>\n     <use style=\"fill:#1f77b4;stroke:#1f77b4;\" x=\"155.713763\" xlink:href=\"#m86d5359597\" y=\"166.055275\"/>\n     <use style=\"fill:#1f77b4;stroke:#1f77b4;\" x=\"147.59646\" xlink:href=\"#m86d5359597\" y=\"148.66232\"/>\n     <use style=\"fill:#1f77b4;stroke:#1f77b4;\" x=\"197.00156\" xlink:href=\"#m86d5359597\" y=\"76.074531\"/>\n     <use style=\"fill:#1f77b4;stroke:#1f77b4;\" x=\"266.51241\" xlink:href=\"#m86d5359597\" y=\"60.578001\"/>\n     <use style=\"fill:#1f77b4;stroke:#1f77b4;\" x=\"279.613054\" xlink:href=\"#m86d5359597\" y=\"114.721757\"/>\n     <use style=\"fill:#1f77b4;stroke:#1f77b4;\" x=\"165.640124\" xlink:href=\"#m86d5359597\" y=\"102.790655\"/>\n     <use style=\"fill:#1f77b4;stroke:#1f77b4;\" x=\"98.456992\" xlink:href=\"#m86d5359597\" y=\"128.394018\"/>\n     <use style=\"fill:#1f77b4;stroke:#1f77b4;\" x=\"118.330752\" xlink:href=\"#m86d5359597\" y=\"132.721301\"/>\n     <use style=\"fill:#1f77b4;stroke:#1f77b4;\" x=\"146.27512\" xlink:href=\"#m86d5359597\" y=\"157.947287\"/>\n     <use style=\"fill:#1f77b4;stroke:#1f77b4;\" x=\"343.303056\" xlink:href=\"#m86d5359597\" y=\"128.978395\"/>\n     <use style=\"fill:#1f77b4;stroke:#1f77b4;\" x=\"161.35436\" xlink:href=\"#m86d5359597\" y=\"121.792963\"/>\n     <use style=\"fill:#1f77b4;stroke:#1f77b4;\" x=\"338.203899\" xlink:href=\"#m86d5359597\" y=\"122.989641\"/>\n     <use style=\"fill:#1f77b4;stroke:#1f77b4;\" x=\"158.961565\" xlink:href=\"#m86d5359597\" y=\"153.738727\"/>\n     <use style=\"fill:#1f77b4;stroke:#1f77b4;\" x=\"315.200104\" xlink:href=\"#m86d5359597\" y=\"35.882719\"/>\n     <use style=\"fill:#1f77b4;stroke:#1f77b4;\" x=\"194.842253\" xlink:href=\"#m86d5359597\" y=\"121.467585\"/>\n     <use style=\"fill:#1f77b4;stroke:#1f77b4;\" x=\"347.958281\" xlink:href=\"#m86d5359597\" y=\"77.144085\"/>\n     <use style=\"fill:#1f77b4;stroke:#1f77b4;\" x=\"266.09724\" xlink:href=\"#m86d5359597\" y=\"158.996274\"/>\n     <use style=\"fill:#1f77b4;stroke:#1f77b4;\" x=\"338.51871\" xlink:href=\"#m86d5359597\" y=\"113.34753\"/>\n     <use style=\"fill:#1f77b4;stroke:#1f77b4;\" x=\"216.87882\" xlink:href=\"#m86d5359597\" y=\"140.774106\"/>\n     <use style=\"fill:#1f77b4;stroke:#1f77b4;\" x=\"94.739028\" xlink:href=\"#m86d5359597\" y=\"130.356035\"/>\n     <use style=\"fill:#1f77b4;stroke:#1f77b4;\" x=\"128.652013\" xlink:href=\"#m86d5359597\" y=\"88.457239\"/>\n     <use style=\"fill:#1f77b4;stroke:#1f77b4;\" x=\"204.553744\" xlink:href=\"#m86d5359597\" y=\"18.189316\"/>\n     <use style=\"fill:#1f77b4;stroke:#1f77b4;\" x=\"282.005255\" xlink:href=\"#m86d5359597\" y=\"160.617914\"/>\n     <use style=\"fill:#1f77b4;stroke:#1f77b4;\" x=\"215.77601\" xlink:href=\"#m86d5359597\" y=\"144.951373\"/>\n     <use style=\"fill:#1f77b4;stroke:#1f77b4;\" x=\"56.343182\" xlink:href=\"#m86d5359597\" y=\"181.103974\"/>\n     <use style=\"fill:#1f77b4;stroke:#1f77b4;\" x=\"211.108249\" xlink:href=\"#m86d5359597\" y=\"182.236256\"/>\n     <use style=\"fill:#1f77b4;stroke:#1f77b4;\" x=\"149.342407\" xlink:href=\"#m86d5359597\" y=\"94.59912\"/>\n     <use style=\"fill:#1f77b4;stroke:#1f77b4;\" x=\"188.706843\" xlink:href=\"#m86d5359597\" y=\"49.514044\"/>\n     <use style=\"fill:#1f77b4;stroke:#1f77b4;\" x=\"160.148151\" xlink:href=\"#m86d5359597\" y=\"64.381779\"/>\n     <use style=\"fill:#1f77b4;stroke:#1f77b4;\" x=\"288.417793\" xlink:href=\"#m86d5359597\" y=\"156.829621\"/>\n     <use style=\"fill:#1f77b4;stroke:#1f77b4;\" x=\"62.552939\" xlink:href=\"#m86d5359597\" y=\"159.468518\"/>\n     <use style=\"fill:#1f77b4;stroke:#1f77b4;\" x=\"357.56725\" xlink:href=\"#m86d5359597\" y=\"71.145458\"/>\n     <use style=\"fill:#1f77b4;stroke:#1f77b4;\" x=\"271.116432\" xlink:href=\"#m86d5359597\" y=\"122.660161\"/>\n     <use style=\"fill:#1f77b4;stroke:#1f77b4;\" x=\"132.607145\" xlink:href=\"#m86d5359597\" y=\"38.492039\"/>\n     <use style=\"fill:#1f77b4;stroke:#1f77b4;\" x=\"134.123884\" xlink:href=\"#m86d5359597\" y=\"49.450199\"/>\n     <use style=\"fill:#1f77b4;stroke:#1f77b4;\" x=\"150.793821\" xlink:href=\"#m86d5359597\" y=\"140.576302\"/>\n     <use style=\"fill:#1f77b4;stroke:#1f77b4;\" x=\"104.314567\" xlink:href=\"#m86d5359597\" y=\"160.669604\"/>\n     <use style=\"fill:#1f77b4;stroke:#1f77b4;\" x=\"149.502097\" xlink:href=\"#m86d5359597\" y=\"28.017823\"/>\n     <use style=\"fill:#1f77b4;stroke:#1f77b4;\" x=\"301.972599\" xlink:href=\"#m86d5359597\" y=\"34.906631\"/>\n     <use style=\"fill:#1f77b4;stroke:#1f77b4;\" x=\"176.251073\" xlink:href=\"#m86d5359597\" y=\"117.829653\"/>\n     <use style=\"fill:#1f77b4;stroke:#1f77b4;\" x=\"271.641603\" xlink:href=\"#m86d5359597\" y=\"103.476023\"/>\n     <use style=\"fill:#1f77b4;stroke:#1f77b4;\" x=\"252.453088\" xlink:href=\"#m86d5359597\" y=\"199.805806\"/>\n     <use style=\"fill:#1f77b4;stroke:#1f77b4;\" x=\"279.865548\" xlink:href=\"#m86d5359597\" y=\"69.437658\"/>\n     <use style=\"fill:#1f77b4;stroke:#1f77b4;\" x=\"122.723904\" xlink:href=\"#m86d5359597\" y=\"72.582269\"/>\n     <use style=\"fill:#1f77b4;stroke:#1f77b4;\" x=\"245.405898\" xlink:href=\"#m86d5359597\" y=\"46.569822\"/>\n     <use style=\"fill:#1f77b4;stroke:#1f77b4;\" x=\"266.881404\" xlink:href=\"#m86d5359597\" y=\"131.889093\"/>\n     <use style=\"fill:#1f77b4;stroke:#1f77b4;\" x=\"104.848449\" xlink:href=\"#m86d5359597\" y=\"90.368539\"/>\n     <use style=\"fill:#1f77b4;stroke:#1f77b4;\" x=\"131.847106\" xlink:href=\"#m86d5359597\" y=\"166.445737\"/>\n     <use style=\"fill:#1f77b4;stroke:#1f77b4;\" x=\"139.15972\" xlink:href=\"#m86d5359597\" y=\"80.216068\"/>\n     <use style=\"fill:#1f77b4;stroke:#1f77b4;\" x=\"239.015069\" xlink:href=\"#m86d5359597\" y=\"55.539273\"/>\n     <use style=\"fill:#1f77b4;stroke:#1f77b4;\" x=\"107.103846\" xlink:href=\"#m86d5359597\" y=\"171.77454\"/>\n     <use style=\"fill:#1f77b4;stroke:#1f77b4;\" x=\"292.330549\" xlink:href=\"#m86d5359597\" y=\"202.468433\"/>\n     <use style=\"fill:#1f77b4;stroke:#1f77b4;\" x=\"297.089866\" xlink:href=\"#m86d5359597\" y=\"90.357015\"/>\n     <use style=\"fill:#1f77b4;stroke:#1f77b4;\" x=\"264.774014\" xlink:href=\"#m86d5359597\" y=\"214.756364\"/>\n     <use style=\"fill:#1f77b4;stroke:#1f77b4;\" x=\"187.880065\" xlink:href=\"#m86d5359597\" y=\"47.024859\"/>\n     <use style=\"fill:#1f77b4;stroke:#1f77b4;\" x=\"245.108872\" xlink:href=\"#m86d5359597\" y=\"25.281382\"/>\n     <use style=\"fill:#1f77b4;stroke:#1f77b4;\" x=\"327.180914\" xlink:href=\"#m86d5359597\" y=\"93.851681\"/>\n     <use style=\"fill:#1f77b4;stroke:#1f77b4;\" x=\"320.508466\" xlink:href=\"#m86d5359597\" y=\"176.44569\"/>\n     <use style=\"fill:#1f77b4;stroke:#1f77b4;\" x=\"140.449082\" xlink:href=\"#m86d5359597\" y=\"82.734463\"/>\n     <use style=\"fill:#1f77b4;stroke:#1f77b4;\" x=\"285.967463\" xlink:href=\"#m86d5359597\" y=\"131.647661\"/>\n     <use style=\"fill:#1f77b4;stroke:#1f77b4;\" x=\"140.679933\" xlink:href=\"#m86d5359597\" y=\"123.634989\"/>\n     <use style=\"fill:#1f77b4;stroke:#1f77b4;\" x=\"144.702293\" xlink:href=\"#m86d5359597\" y=\"22.795921\"/>\n     <use style=\"fill:#1f77b4;stroke:#1f77b4;\" x=\"247.393628\" xlink:href=\"#m86d5359597\" y=\"168.885299\"/>\n    </g>\n   </g>\n   <g id=\"matplotlib.axis_1\">\n    <g id=\"xtick_1\">\n     <g id=\"line2d_1\">\n      <defs>\n       <path d=\"M 0 0 \nL 0 3.5 \n\" id=\"md13d74a4f9\" style=\"stroke:#000000;stroke-width:0.8;\"/>\n      </defs>\n      <g>\n       <use style=\"stroke:#000000;stroke-width:0.8;\" x=\"50.465675\" xlink:href=\"#md13d74a4f9\" y=\"224.64\"/>\n      </g>\n     </g>\n     <g id=\"text_1\">\n      <!-- −30 -->\n      <defs>\n       <path d=\"M 10.84375 25.296875 \nL 10.84375 32.515625 \nL 68.65625 32.515625 \nL 68.65625 25.296875 \nz\n\" id=\"LucidaGrande-8722\"/>\n       <path d=\"M 10.15625 0.53125 \nL 10.15625 9.515625 \nQ 20.515625 5.421875 26.46875 5.421875 \nQ 33.34375 5.421875 37.671875 9.453125 \nQ 42 13.484375 42 19.875 \nQ 42 35.109375 20.65625 35.109375 \nL 16.84375 35.109375 \nL 16.84375 41.609375 \nL 20.21875 41.65625 \nQ 40.234375 41.65625 40.234375 55.765625 \nQ 40.234375 66.84375 27.046875 66.84375 \nQ 19.828125 66.84375 11.140625 62.796875 \nL 11.140625 71.1875 \nQ 19.671875 74.078125 27.734375 74.078125 \nQ 49.90625 74.078125 49.90625 57.328125 \nQ 49.90625 44.578125 34.8125 39.15625 \nQ 52.296875 35.109375 52.296875 20.015625 \nQ 52.296875 9.8125 45.546875 4 \nQ 38.8125 -1.8125 27.046875 -1.8125 \nQ 20.359375 -1.8125 10.15625 0.53125 \nz\n\" id=\"LucidaGrande-51\"/>\n       <path d=\"M 31.34375 -1.8125 \nQ 20.171875 -1.8125 13.25 8.703125 \nQ 6.34375 19.234375 6.34375 36.1875 \nQ 6.34375 53.265625 13.296875 63.671875 \nQ 20.265625 74.078125 31.640625 74.078125 \nQ 43.015625 74.078125 49.96875 63.671875 \nQ 56.9375 53.265625 56.9375 36.328125 \nQ 56.9375 18.953125 49.96875 8.5625 \nQ 43.015625 -1.8125 31.34375 -1.8125 \nz\nM 31.453125 5.421875 \nQ 46.734375 5.421875 46.734375 36.46875 \nQ 46.734375 66.84375 31.640625 66.84375 \nQ 16.609375 66.84375 16.609375 36.1875 \nQ 16.609375 5.421875 31.453125 5.421875 \nz\n\" id=\"LucidaGrande-48\"/>\n      </defs>\n      <g transform=\"translate(40.164894 239.349375)scale(0.1 -0.1)\">\n       <use xlink:href=\"#LucidaGrande-8722\"/>\n       <use x=\"79.541016\" xlink:href=\"#LucidaGrande-51\"/>\n       <use x=\"142.773438\" xlink:href=\"#LucidaGrande-48\"/>\n      </g>\n     </g>\n    </g>\n    <g id=\"xtick_2\">\n     <g id=\"line2d_2\">\n      <g>\n       <use style=\"stroke:#000000;stroke-width:0.8;\" x=\"105.805903\" xlink:href=\"#md13d74a4f9\" y=\"224.64\"/>\n      </g>\n     </g>\n     <g id=\"text_2\">\n      <!-- −20 -->\n      <defs>\n       <path d=\"M 8.296875 0 \nL 8.296875 8.453125 \nQ 12.5 18.265625 25.296875 29.828125 \nL 30.8125 34.765625 \nQ 41.453125 44.390625 41.453125 53.859375 \nQ 41.453125 59.90625 37.8125 63.375 \nQ 34.1875 66.84375 27.828125 66.84375 \nQ 20.3125 66.84375 10.109375 61.03125 \nL 10.109375 69.53125 \nQ 19.734375 74.078125 29.203125 74.078125 \nQ 39.359375 74.078125 45.5 68.609375 \nQ 51.65625 63.140625 51.65625 54.109375 \nQ 51.65625 47.609375 48.546875 42.578125 \nQ 45.453125 37.546875 37.015625 30.375 \nL 33.296875 27.203125 \nQ 21.734375 17.390625 19.921875 8.453125 \nL 51.3125 8.453125 \nL 51.3125 0 \nz\n\" id=\"LucidaGrande-50\"/>\n      </defs>\n      <g transform=\"translate(95.505122 239.349375)scale(0.1 -0.1)\">\n       <use xlink:href=\"#LucidaGrande-8722\"/>\n       <use x=\"79.541016\" xlink:href=\"#LucidaGrande-50\"/>\n       <use x=\"142.773438\" xlink:href=\"#LucidaGrande-48\"/>\n      </g>\n     </g>\n    </g>\n    <g id=\"xtick_3\">\n     <g id=\"line2d_3\">\n      <g>\n       <use style=\"stroke:#000000;stroke-width:0.8;\" x=\"161.146131\" xlink:href=\"#md13d74a4f9\" y=\"224.64\"/>\n      </g>\n     </g>\n     <g id=\"text_3\">\n      <!-- −10 -->\n      <defs>\n       <path d=\"M 15.046875 0 \nL 15.046875 7.234375 \nL 29.5 7.234375 \nL 29.5 64.265625 \nL 15.046875 60.640625 \nL 15.046875 68.0625 \nL 39.15625 74.078125 \nL 39.15625 7.234375 \nL 53.609375 7.234375 \nL 53.609375 0 \nz\n\" id=\"LucidaGrande-49\"/>\n      </defs>\n      <g transform=\"translate(150.84535 239.349375)scale(0.1 -0.1)\">\n       <use xlink:href=\"#LucidaGrande-8722\"/>\n       <use x=\"79.541016\" xlink:href=\"#LucidaGrande-49\"/>\n       <use x=\"142.773438\" xlink:href=\"#LucidaGrande-48\"/>\n      </g>\n     </g>\n    </g>\n    <g id=\"xtick_4\">\n     <g id=\"line2d_4\">\n      <g>\n       <use style=\"stroke:#000000;stroke-width:0.8;\" x=\"216.486359\" xlink:href=\"#md13d74a4f9\" y=\"224.64\"/>\n      </g>\n     </g>\n     <g id=\"text_4\">\n      <!-- 0 -->\n      <g transform=\"translate(213.32464 239.349375)scale(0.1 -0.1)\">\n       <use xlink:href=\"#LucidaGrande-48\"/>\n      </g>\n     </g>\n    </g>\n    <g id=\"xtick_5\">\n     <g id=\"line2d_5\">\n      <g>\n       <use style=\"stroke:#000000;stroke-width:0.8;\" x=\"271.826587\" xlink:href=\"#md13d74a4f9\" y=\"224.64\"/>\n      </g>\n     </g>\n     <g id=\"text_5\">\n      <!-- 10 -->\n      <g transform=\"translate(265.50315 239.349375)scale(0.1 -0.1)\">\n       <use xlink:href=\"#LucidaGrande-49\"/>\n       <use x=\"63.232422\" xlink:href=\"#LucidaGrande-48\"/>\n      </g>\n     </g>\n    </g>\n    <g id=\"xtick_6\">\n     <g id=\"line2d_6\">\n      <g>\n       <use style=\"stroke:#000000;stroke-width:0.8;\" x=\"327.166815\" xlink:href=\"#md13d74a4f9\" y=\"224.64\"/>\n      </g>\n     </g>\n     <g id=\"text_6\">\n      <!-- 20 -->\n      <g transform=\"translate(320.843378 239.349375)scale(0.1 -0.1)\">\n       <use xlink:href=\"#LucidaGrande-50\"/>\n       <use x=\"63.232422\" xlink:href=\"#LucidaGrande-48\"/>\n      </g>\n     </g>\n    </g>\n   </g>\n   <g id=\"matplotlib.axis_2\">\n    <g id=\"ytick_1\">\n     <g id=\"line2d_7\">\n      <defs>\n       <path d=\"M 0 0 \nL -3.5 0 \n\" id=\"m6b5c1d7874\" style=\"stroke:#000000;stroke-width:0.8;\"/>\n      </defs>\n      <g>\n       <use style=\"stroke:#000000;stroke-width:0.8;\" x=\"41.125\" xlink:href=\"#m6b5c1d7874\" y=\"201.406854\"/>\n      </g>\n     </g>\n     <g id=\"text_7\">\n      <!-- −400 -->\n      <defs>\n       <path d=\"M 37.640625 0 \nL 37.640625 20.453125 \nL 5.125 20.453125 \nL 5.125 27.734375 \nL 37.640625 72.265625 \nL 46.6875 72.265625 \nL 46.6875 28.328125 \nL 56.34375 28.328125 \nL 56.34375 20.453125 \nL 46.6875 20.453125 \nL 46.6875 0 \nz\nM 14.546875 28.328125 \nL 38.28125 28.328125 \nL 38.28125 60.453125 \nz\n\" id=\"LucidaGrande-52\"/>\n      </defs>\n      <g transform=\"translate(7.2 205.261542)scale(0.1 -0.1)\">\n       <use xlink:href=\"#LucidaGrande-8722\"/>\n       <use x=\"79.541016\" xlink:href=\"#LucidaGrande-52\"/>\n       <use x=\"142.773438\" xlink:href=\"#LucidaGrande-48\"/>\n       <use x=\"206.005859\" xlink:href=\"#LucidaGrande-48\"/>\n      </g>\n     </g>\n    </g>\n    <g id=\"ytick_2\">\n     <g id=\"line2d_8\">\n      <g>\n       <use style=\"stroke:#000000;stroke-width:0.8;\" x=\"41.125\" xlink:href=\"#m6b5c1d7874\" y=\"158.108658\"/>\n      </g>\n     </g>\n     <g id=\"text_8\">\n      <!-- −200 -->\n      <g transform=\"translate(7.2 161.963346)scale(0.1 -0.1)\">\n       <use xlink:href=\"#LucidaGrande-8722\"/>\n       <use x=\"79.541016\" xlink:href=\"#LucidaGrande-50\"/>\n       <use x=\"142.773438\" xlink:href=\"#LucidaGrande-48\"/>\n       <use x=\"206.005859\" xlink:href=\"#LucidaGrande-48\"/>\n      </g>\n     </g>\n    </g>\n    <g id=\"ytick_3\">\n     <g id=\"line2d_9\">\n      <g>\n       <use style=\"stroke:#000000;stroke-width:0.8;\" x=\"41.125\" xlink:href=\"#m6b5c1d7874\" y=\"114.810462\"/>\n      </g>\n     </g>\n     <g id=\"text_9\">\n      <!-- 0 -->\n      <g transform=\"translate(27.801562 118.66515)scale(0.1 -0.1)\">\n       <use xlink:href=\"#LucidaGrande-48\"/>\n      </g>\n     </g>\n    </g>\n    <g id=\"ytick_4\">\n     <g id=\"line2d_10\">\n      <g>\n       <use style=\"stroke:#000000;stroke-width:0.8;\" x=\"41.125\" xlink:href=\"#m6b5c1d7874\" y=\"71.512266\"/>\n      </g>\n     </g>\n     <g id=\"text_10\">\n      <!-- 200 -->\n      <g transform=\"translate(15.154687 75.366954)scale(0.1 -0.1)\">\n       <use xlink:href=\"#LucidaGrande-50\"/>\n       <use x=\"63.232422\" xlink:href=\"#LucidaGrande-48\"/>\n       <use x=\"126.464844\" xlink:href=\"#LucidaGrande-48\"/>\n      </g>\n     </g>\n    </g>\n    <g id=\"ytick_5\">\n     <g id=\"line2d_11\">\n      <g>\n       <use style=\"stroke:#000000;stroke-width:0.8;\" x=\"41.125\" xlink:href=\"#m6b5c1d7874\" y=\"28.21407\"/>\n      </g>\n     </g>\n     <g id=\"text_11\">\n      <!-- 400 -->\n      <g transform=\"translate(15.154687 32.068758)scale(0.1 -0.1)\">\n       <use xlink:href=\"#LucidaGrande-52\"/>\n       <use x=\"63.232422\" xlink:href=\"#LucidaGrande-48\"/>\n       <use x=\"126.464844\" xlink:href=\"#LucidaGrande-48\"/>\n      </g>\n     </g>\n    </g>\n   </g>\n   <g id=\"patch_3\">\n    <path d=\"M 41.125 224.64 \nL 41.125 7.2 \n\" style=\"fill:none;stroke:#000000;stroke-linecap:square;stroke-linejoin:miter;stroke-width:0.8;\"/>\n   </g>\n   <g id=\"patch_4\">\n    <path d=\"M 375.925 224.64 \nL 375.925 7.2 \n\" style=\"fill:none;stroke:#000000;stroke-linecap:square;stroke-linejoin:miter;stroke-width:0.8;\"/>\n   </g>\n   <g id=\"patch_5\">\n    <path d=\"M 41.125 224.64 \nL 375.925 224.64 \n\" style=\"fill:none;stroke:#000000;stroke-linecap:square;stroke-linejoin:miter;stroke-width:0.8;\"/>\n   </g>\n   <g id=\"patch_6\">\n    <path d=\"M 41.125 7.2 \nL 375.925 7.2 \n\" style=\"fill:none;stroke:#000000;stroke-linecap:square;stroke-linejoin:miter;stroke-width:0.8;\"/>\n   </g>\n  </g>\n </g>\n <defs>\n  <clipPath id=\"p37f4a81dc5\">\n   <rect height=\"217.44\" width=\"334.8\" x=\"41.125\" y=\"7.2\"/>\n  </clipPath>\n </defs>\n</svg>\n",
      "image/png": "[encoded data removed]"
     },
     "metadata": {
      "needs_background": "light"
     }
    }
   ],
   "source": [
    "X = generate_noisy_line(4)\n",
    "_,eig_dec = pca_eig(X)\n",
    "svd_dec = pca_svd(X)\n",
    "plt.scatter(X[:,0], X[:,1])\n",
    "print(eig_dec)\n",
    "print(svd_dec)\n",
    "origin = [0,0]\n",
    "eig_vec1, eig_vec2 = eig_dec[0, :], eig_dec[1,:]\n",
    "plt.quiver(*origin, *eig_vec1, color=['r'], scale=10)\n",
    "plt.quiver(*origin, *eig_vec2, color=['b'], scale=10)\n",
    "plt.show()\n",
    "\n",
    "Z = X@eig_dec\n",
    "plt.scatter(Z[:,0], Z[:,1])"
   ]
  },
  {
   "cell_type": "code",
   "execution_count": 6,
   "metadata": {},
   "outputs": [],
   "source": [
    "from sklearn.decomposition import PCA\n",
    "fitted = PCA().fit(X)"
   ]
  },
  {
   "cell_type": "code",
   "execution_count": 7,
   "metadata": {},
   "outputs": [
    {
     "output_type": "execute_result",
     "data": {
      "text/plain": "array([[ 0.22559108,  0.97422208],\n       [-0.97422208,  0.22559108]])"
     },
     "metadata": {},
     "execution_count": 7
    }
   ],
   "source": [
    "fitted.components_"
   ]
  },
  {
   "cell_type": "code",
   "execution_count": 145,
   "metadata": {},
   "outputs": [
    {
     "output_type": "stream",
     "name": "stdout",
     "text": "[[-0.70710678 -0.70710678]\n [ 0.70710678 -0.70710678]]\n"
    }
   ],
   "source": [
    "_,_,D_prime = np.linalg.svd(X)\n",
    "print(D_prime)"
   ]
  },
  {
   "cell_type": "markdown",
   "metadata": {},
   "source": [
    "### Eigenfaces"
   ]
  },
  {
   "cell_type": "code",
   "execution_count": 26,
   "metadata": {},
   "outputs": [],
   "source": [
    "from PIL import Image\n",
    "import glob\n",
    "dims = (40,60)\n",
    "images = [Image.open(n).convert(\"L\").resize((dims[0], dims[1])) for n in glob.glob('photos/utkcropped/*.jpg')]\n",
    "# images = [Image.open(n).convert(\"L\").resize((dims[0], dims[1])) for n in glob.glob('photos/*.png')]\n",
    "imag_arr = np.zeros(shape=(len(images), dims[0]*dims[1]))\n",
    "for i in range(len(images)):\n",
    "    imag_arr[i, :] = np.array(images[i]).reshape(1, dims[0]*dims[1])\n",
    "# for i in range(1,5):\n",
    "\n",
    "#     X[i, :] = np.array().reshape(1, dims[0]*dims[1]))"
   ]
  },
  {
   "cell_type": "code",
   "execution_count": 11,
   "metadata": {},
   "outputs": [
    {
     "output_type": "execute_result",
     "data": {
      "text/plain": "<PIL.Image.Image image mode=L size=40x60 at 0x130F7C210>",
      "image/png": "[encoded data removed]"
     },
     "metadata": {},
     "execution_count": 11
    }
   ],
   "source": [
    "Image.fromarray(np.uint8(np.mean(imag_arr, axis=0)).reshape(dims[1], dims[0]))"
   ]
  },
  {
   "cell_type": "code",
   "execution_count": 12,
   "metadata": {},
   "outputs": [
    {
     "output_type": "execute_result",
     "data": {
      "text/plain": "array([[-0.01449769,  0.02432601,  0.01800359, ..., -0.00260456,\n        -0.00424974, -0.00322823],\n       [-0.01410733,  0.02340599,  0.01990105, ..., -0.00032233,\n         0.00464777,  0.00052506],\n       [-0.01403792,  0.0218387 ,  0.02165501, ...,  0.00910833,\n         0.00449913,  0.00365528],\n       ...,\n       [-0.0173794 ,  0.03519392, -0.01486302, ..., -0.00027073,\n         0.00219523,  0.00076805],\n       [-0.01741188,  0.03576593, -0.0135625 , ..., -0.00097625,\n         0.00040196, -0.00218996],\n       [-0.01748186,  0.03596164, -0.01234977, ..., -0.00168592,\n         0.00066804, -0.00050403]])"
     },
     "metadata": {},
     "execution_count": 12
    }
   ],
   "source": [
    "w,D_eig = pca_eig(imag_arr)\n",
    "D_eig"
   ]
  },
  {
   "cell_type": "code",
   "execution_count": 27,
   "metadata": {},
   "outputs": [
    {
     "output_type": "execute_result",
     "data": {
      "text/plain": "array([[-0.0327061 , -0.03150882, -0.03071861, ..., -0.02212203,\n        -0.02213526, -0.02261451],\n       [-0.02215797, -0.02766727, -0.03256112, ..., -0.01051414,\n        -0.01425937, -0.01329424],\n       [-0.06117763, -0.05406349, -0.03734055, ...,  0.03487309,\n         0.02982214,  0.02201364],\n       ...,\n       [-0.01249382,  0.00459081, -0.01046419, ...,  0.990676  ,\n        -0.00817422, -0.00452857],\n       [-0.01620377, -0.00514071, -0.0100943 , ..., -0.00827202,\n         0.99157679, -0.00600857],\n       [-0.02322883, -0.02205798, -0.00161522, ..., -0.00522722,\n        -0.00638262,  0.98775798]])"
     },
     "metadata": {},
     "execution_count": 27
    }
   ],
   "source": [
    "D = pca_svd(imag_arr)\n",
    "D"
   ]
  },
  {
   "cell_type": "code",
   "execution_count": 1,
   "metadata": {},
   "outputs": [
    {
     "output_type": "error",
     "ename": "NameError",
     "evalue": "name 'np' is not defined",
     "traceback": [
      "\u001b[0;31m---------------------------------------------------------------------------\u001b[0m",
      "\u001b[0;31mNameError\u001b[0m                                 Traceback (most recent call last)",
      "\u001b[0;32m<ipython-input-1-faa29fa32b50>\u001b[0m in \u001b[0;36m<module>\u001b[0;34m\u001b[0m\n\u001b[1;32m      1\u001b[0m \u001b[0mn_c\u001b[0m \u001b[0;34m=\u001b[0m \u001b[0;36m400\u001b[0m\u001b[0;34m\u001b[0m\u001b[0;34m\u001b[0m\u001b[0m\n\u001b[0;32m----> 2\u001b[0;31m \u001b[0mcomps\u001b[0m \u001b[0;34m=\u001b[0m \u001b[0mnp\u001b[0m\u001b[0;34m.\u001b[0m\u001b[0margsort\u001b[0m\u001b[0;34m(\u001b[0m\u001b[0;34m-\u001b[0m\u001b[0;36m1\u001b[0m\u001b[0;34m*\u001b[0m\u001b[0mnp\u001b[0m\u001b[0;34m.\u001b[0m\u001b[0mabs\u001b[0m\u001b[0;34m(\u001b[0m\u001b[0mw\u001b[0m\u001b[0;34m)\u001b[0m\u001b[0;34m)\u001b[0m\u001b[0;34m[\u001b[0m\u001b[0;34m:\u001b[0m\u001b[0mn_c\u001b[0m\u001b[0;34m]\u001b[0m\u001b[0;34m\u001b[0m\u001b[0;34m\u001b[0m\u001b[0m\n\u001b[0m\u001b[1;32m      3\u001b[0m \u001b[0mproj\u001b[0m \u001b[0;34m=\u001b[0m \u001b[0mD_eig\u001b[0m\u001b[0;34m[\u001b[0m\u001b[0;34m:\u001b[0m\u001b[0;34m,\u001b[0m\u001b[0;34m:\u001b[0m\u001b[0mn_c\u001b[0m\u001b[0;34m]\u001b[0m\u001b[0;34m\u001b[0m\u001b[0;34m\u001b[0m\u001b[0m\n\u001b[1;32m      4\u001b[0m \u001b[0mtest_im\u001b[0m \u001b[0;34m=\u001b[0m \u001b[0mimag_arr\u001b[0m\u001b[0;34m[\u001b[0m\u001b[0;36m0\u001b[0m\u001b[0;34m,\u001b[0m\u001b[0;34m:\u001b[0m\u001b[0;34m]\u001b[0m\u001b[0;34m\u001b[0m\u001b[0;34m\u001b[0m\u001b[0m\n\u001b[1;32m      5\u001b[0m \u001b[0;31m# rec = ((proj.T@(proj@test_im))+np.mean(imag_arr, axis=0)).reshape((dims[1], dims[0]))\u001b[0m\u001b[0;34m\u001b[0m\u001b[0;34m\u001b[0m\u001b[0;34m\u001b[0m\u001b[0m\n",
      "\u001b[0;31mNameError\u001b[0m: name 'np' is not defined"
     ]
    }
   ],
   "source": [
    "n_c = 400\n",
    "comps = np.argsort(-1*np.abs(w))[:n_c]\n",
    "proj = D_eig[:,:n_c]\n",
    "test_im = imag_arr[0,:]\n",
    "# rec = ((proj.T@(proj@test_im))+np.mean(imag_arr, axis=0)).reshape((dims[1], dims[0]))\n",
    "# rec = (proj.T@(proj@test_im)).reshape((dims[1], dims[0]))\n",
    "rec = (test_im@proj@proj.T).reshape((dims[1], dims[0]))\n",
    "print(rec)\n",
    "Image.fromarray(np.uint8(scale(rec)))"
   ]
  },
  {
   "cell_type": "code",
   "execution_count": 33,
   "metadata": {},
   "outputs": [
    {
     "output_type": "stream",
     "name": "stdout",
     "text": "[[217.35281234 203.13889634 147.64387957 ...  61.09967132  76.27780785\n   89.03547935]\n [210.20052004 215.5562819  127.88128935 ...  63.16587927  71.65715856\n   82.3075767 ]\n [214.24572361 197.74823826 105.79342823 ...  75.13663506  63.51288029\n   73.96095043]\n ...\n [ 90.21182879  82.10655798 111.5263709  ...  92.13963166  58.33965254\n   59.22855468]\n [152.70598995 159.7047898  169.03016537 ...  78.76076925  75.3484259\n  120.63478299]\n [173.64341628 171.24445402 162.51359818 ...  78.03312582  76.41534597\n  121.27739407]]\n"
    },
    {
     "output_type": "execute_result",
     "data": {
      "text/plain": "<PIL.Image.Image image mode=L size=40x60 at 0x1316BBDD0>",
      "image/png": "[encoded data removed]"
     },
     "metadata": {},
     "execution_count": 33
    }
   ],
   "source": [
    "n_c = 400\n",
    "proj = D[:n_c,:]\n",
    "test_im = imag_arr[0,:]\n",
    "# rec = ((proj.T@(proj@test_im))+np.mean(imag_arr, axis=0)).reshape((dims[1], dims[0]))\n",
    "rec = (proj.T@proj@test_im).reshape((dims[1], dims[0]))\n",
    "# rec = (test_im@proj@proj.T).reshape((dims[1], dims[0]))\n",
    "print(rec)\n",
    "Image.fromarray(np.uint8(rec))"
   ]
  },
  {
   "cell_type": "code",
   "execution_count": 508,
   "metadata": {},
   "outputs": [
    {
     "output_type": "execute_result",
     "data": {
      "text/plain": "<PIL.Image.Image image mode=L size=40x60 at 0x12694ED50>",
      "image/png": "[encoded data removed]"
     },
     "metadata": {},
     "execution_count": 508
    }
   ],
   "source": [
    "def scale(arr):\n",
    "    return 255*(arr-np.min(arr))/(np.max(arr)-np.min(arr))\n",
    "# Image.fromarray(np.uint8(D[1,:]).reshape(dims[1],dims[0]))\n",
    "Image.fromarray(np.uint8(scale(D[5,:])).reshape(dims[1],dims[0]))"
   ]
  },
  {
   "cell_type": "code",
   "execution_count": 493,
   "metadata": {},
   "outputs": [
    {
     "output_type": "execute_result",
     "data": {
      "text/plain": "<PIL.Image.Image image mode=L size=40x60 at 0x1266B7410>",
      "image/png": "[encoded data removed]"
     },
     "metadata": {},
     "execution_count": 493
    }
   ],
   "source": [
    "images[0]"
   ]
  },
  {
   "cell_type": "code",
   "execution_count": 484,
   "metadata": {},
   "outputs": [
    {
     "output_type": "execute_result",
     "data": {
      "text/plain": "array([[ 89.74491079,  86.95773464,  86.23249658, ...,  86.99501061,\n         88.67279327,  91.86345398],\n       [ 89.34507735,  86.85824678,  86.32769218, ...,  87.08140539,\n         88.37546881,  91.49980539],\n       [ 89.13006652,  86.73743089,  86.64948763, ...,  87.04110348,\n         88.24918279,  91.10020465],\n       ...,\n       [108.60957089, 108.03186369, 107.32457681, ..., 107.24056852,\n        107.98049465, 108.66084029],\n       [108.25795716, 107.8602669 , 107.33880091, ..., 107.29614313,\n        107.77133696, 108.44592901],\n       [107.93513932, 107.51611634, 107.12135627, ..., 107.22319959,\n        107.54947842, 108.14727148]])"
     },
     "metadata": {},
     "execution_count": 484
    }
   ],
   "source": [
    "rec"
   ]
  },
  {
   "cell_type": "code",
   "execution_count": 406,
   "metadata": {},
   "outputs": [
    {
     "output_type": "error",
     "ename": "ValueError",
     "evalue": "matmul: Input operand 1 has a mismatch in its core dimension 0, with gufunc signature (n?,k),(k,m?)->(n?,m?) (size 1500 is different from 2400)",
     "traceback": [
      "\u001b[0;31m---------------------------------------------------------------------------\u001b[0m",
      "\u001b[0;31mValueError\u001b[0m                                Traceback (most recent call last)",
      "\u001b[0;32m<ipython-input-406-2e5269bfa4c5>\u001b[0m in \u001b[0;36m<module>\u001b[0;34m\u001b[0m\n\u001b[0;32m----> 1\u001b[0;31m \u001b[0;34m(\u001b[0m\u001b[0mproj\u001b[0m\u001b[0;34m.\u001b[0m\u001b[0mT\u001b[0m\u001b[0;34m@\u001b[0m\u001b[0;34m(\u001b[0m\u001b[0mtest_im\u001b[0m\u001b[0;34m@\u001b[0m\u001b[0mproj\u001b[0m\u001b[0;34m)\u001b[0m\u001b[0;34m)\u001b[0m\u001b[0;34m.\u001b[0m\u001b[0mshape\u001b[0m\u001b[0;34m\u001b[0m\u001b[0;34m\u001b[0m\u001b[0m\n\u001b[0m",
      "\u001b[0;31mValueError\u001b[0m: matmul: Input operand 1 has a mismatch in its core dimension 0, with gufunc signature (n?,k),(k,m?)->(n?,m?) (size 1500 is different from 2400)"
     ]
    }
   ],
   "source": [
    "(proj.T@(test_im@proj)).shape"
   ]
  },
  {
   "cell_type": "code",
   "execution_count": 206,
   "metadata": {},
   "outputs": [
    {
     "output_type": "execute_result",
     "data": {
      "text/plain": "<PIL.Image.Image image mode=L size=50x50 at 0x124CFE0D0>",
      "image/png": "[encoded data removed]"
     },
     "metadata": {},
     "execution_count": 206
    }
   ],
   "source": [
    "Image.fromarray(np.uint8(imag_arr[3,:].reshape(50,50)))"
   ]
  },
  {
   "cell_type": "code",
   "execution_count": 249,
   "metadata": {},
   "outputs": [
    {
     "output_type": "execute_result",
     "data": {
      "text/plain": "2499"
     },
     "metadata": {},
     "execution_count": 249
    }
   ],
   "source": [
    "np.argmax(np.abs(w))"
   ]
  },
  {
   "cell_type": "code",
   "execution_count": 503,
   "metadata": {},
   "outputs": [
    {
     "output_type": "execute_result",
     "data": {
      "text/plain": "array([  8.60767467,   8.1293819 ,   6.61637366, ..., -10.42399639,\n       -10.89898312, -10.99819138])"
     },
     "metadata": {},
     "execution_count": 503
    }
   ],
   "source": [
    "255*D[4,:]"
   ]
  },
  {
   "cell_type": "code",
   "execution_count": 444,
   "metadata": {},
   "outputs": [
    {
     "output_type": "execute_result",
     "data": {
      "text/plain": "<PIL.Image.Image image mode=L size=40x60 at 0x12839EDD0>",
      "image/png": "[encoded data removed]"
     },
     "metadata": {},
     "execution_count": 444
    }
   ],
   "source": [
    "Image.fromarray(np.uint8(np.mean(imag_arr, axis=0) + 255*D[6,:]).reshape(dims[1], dims[0]))"
   ]
  },
  {
   "cell_type": "code",
   "execution_count": 65,
   "metadata": {},
   "outputs": [
    {
     "output_type": "execute_result",
     "data": {
      "text/plain": "array([-0.02044449+0.j, -0.01783256+0.j, -0.02044449+0.j, ...,\n       -0.02014646+0.j, -0.02038187+0.j, -0.02017757+0.j])"
     },
     "metadata": {},
     "execution_count": 65
    }
   ],
   "source": [
    "D[:,0]"
   ]
  },
  {
   "cell_type": "code",
   "execution_count": null,
   "metadata": {},
   "outputs": [],
   "source": []
  }
 ],
 "metadata": {
  "language_info": {
   "codemirror_mode": {
    "name": "ipython",
    "version": 3
   },
   "file_extension": ".py",
   "mimetype": "text/x-python",
   "name": "python",
   "nbconvert_exporter": "python",
   "pygments_lexer": "ipython3",
   "version": "3.7.7-final"
  },
  "orig_nbformat": 2,
  "kernelspec": {
   "name": "python37764bit6dabe67d171d4bf8b961096c36d10ba5",
   "display_name": "Python 3.7.7 64-bit"
  }
 },
 "nbformat": 4,
 "nbformat_minor": 2
}