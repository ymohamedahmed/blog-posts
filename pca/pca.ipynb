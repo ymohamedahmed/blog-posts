{
 "cells": [
  {
   "cell_type": "markdown",
   "metadata": {},
   "source": [
    "# Understanding principal component analysis "
   ]
  },
  {
   "cell_type": "markdown",
   "metadata": {},
   "source": [
    "In this post, we'll take a deep dive into PCA, from both a mathematical and implementation perspective.\n",
    "We'll derive the equation from the ground up, look at how we can compute it and finally end with what it can be used for. This post is primarily targeted at those with a basic understanding of PCA but want to know the assumptions it relies on, its properties and derive how it can be computed."
   ]
  },
  {
   "cell_type": "markdown",
   "metadata": {},
   "source": [
    "## The optimal coding perspective\n",
    "\n",
    "### Finding a low dimensional representation\n",
    "PCA can be thought of as finding a low-dimensional representation of a set of vectors. Given points in an _n_-dimensional space, we might wish to find some new _k_-dimensional space (with _k_ < _n_) which captures as much of the _essence_ of the original space as possible. The exact definition of capturing the '_essence_' is subject to design, however, we can consider it from multiple perspectives. \n",
    "\n",
    "![](diagrams/pca.svg)\n",
    "\n",
    "### The notion of reconstruction error\n",
    "If we take our low-dimensional representation and attempt to recover the original _n_-dimensional vector of each point, we could measure how much each point varies from its reconstruction. The difference between each reconstruction and the original, is one way of measuring the effectiveness of our new _k_-dimensional space and is the approach taken by PCA.  Naturally, this requires a definition of a _similarity_ between two matrices. If we have a matrix $X$ of our original points and our reconstruction $X'$ then we can define the difference between them as a sum of the square of errors $\\sum_{i,j} (X-X')_{i,j}^2$.\n",
    "\n",
    "This quantity is known as the _Frobenius_ norm of the matrix $X-X'$ and is essentially an extension of the L2 ($||\\mathbf{v}||_2^2 =  \\sum_i \\mathbf{v}_i^2 = \\mathbf{v}^\\top \\mathbf{v}$) norm from vectors to matrices. It is just a fancy name for squaring every element in a matrix and taking their sum. Crucially, however, we can see that the Frobenius norm of a matrix, $A$, is precisely equivalent to $Tr[A^\\top A]$ (see the illustration below).\n",
    "\n",
    "![](diagrams/media/videos/frobenius_animation/1440p60/FrobeniusScene.mp4)\n",
    "`Add illustration`\n",
    "\n",
    "As a result, our error of interest, can be computed as $Tr[(X-X')^\\top (X-X')]$, this will come in handy since the trace operator comes with a bunch of neat tricks for manipulating the matrices involved.\n",
    "\n",
    "\n"
   ]
  },
  {
   "cell_type": "markdown",
   "metadata": {},
   "source": [
    "### PCA Assumptions\n",
    "We've defined how we're going to evaluate this reconstruction, but not at all the means of performing the coding or its inverse.\n",
    "\n",
    "PCA chooses to implement both the encoding and decoding as a matrix multiplication. So we can think of PCA as finding a matrix $D$ that will transform our input, $X$ to our coded version $C$ by a matrix multiplication (i.e. $C = XD$).\n",
    "The matrix, $X$, being our original data of $m$ rows and $n$ columns.\n",
    "\n",
    "We might choose, however, to use some matrix, $D_k$ which reduces the number of dimensions of our data from $m$ to $k$. To make it easier, we can tag the matrix with the new number of dimensions. If this is the case, then $D_k$ is of size $n \\times k$ and so that the resulting coding, $C$, is of size $m \\times k$.\n",
    "\n",
    "One of the most crucial assumptions made by PCA is that the transformation matrix, $D_k$, has __orthonormal__ columns. Criticially, this does not, technically, make it an __orthogonal__ matrix since it may not be square and the rows may not be orthonormal.\n",
    "\n",
    "This assumption is useful since it simplifies the reconstruction process since $X'$ can be computed as $XD_kD_k^\\top$, i.e. we can use the transpose of the ecoding matrix to perform the decoding. To understand exactly why the reconstruction can be performed by the transpose of the matrix see [here (page 46)](http://www.deeplearningbook.org/contents/linear_algebra.html).\n",
    "\n",
    "`ADD PROOF HERE OF WHY TRANSPOSE GIVES THE CORRECT RECONSTRUCTION`\n",
    "\n",
    "This means that formally, for some given value $k$, we wish to discover the matrix $D_k^*$. \n",
    "$$D_k^* = argmin_{D_k} ||X-X'||_F =  argmin_{D_k} ||X-XD_kD_k^\\top||_F$$\n",
    "\n",
    "### Discovering the coding function\n",
    "\n",
    "Given that we wish to minimise the reconstruction error, let us attempt to discover the transformation precisely capable of this.\n",
    "\n",
    "\n",
    "\n",
    "\n",
    "\n",
    "\n"
   ]
  },
  {
   "cell_type": "markdown",
   "metadata": {},
   "source": [
    "We'll need a few tricks to get us there: \n",
    "\n",
    "- $(A+B)^\\top = A^\\top + B^\\top$\n",
    "- $(AB)^\\top = B^\\top A^\\top$\n",
    "- $(A^\\top)^\\top = A$\n",
    "\n",
    "From the visual illustration, recall that we can write the reconstruction error as $\\text{Tr}((X-XD_kD_k^\\top)^\\top(X-XD_kD_k^\\top))$.\n",
    "\n",
    "By using the rules  this can be expanded into $$\\text{argmin}_{D_k}\\text{Tr}(X^\\top X -X^\\top XD_kD_k^\\top - D_kD_k^\\top X^\\top X + D_kD_k^\\top X^\\top XD_kD_k^\\top)$$\n",
    "\n",
    "We are, however, only interested in the effect of the matrix $D_k$ so we'll axe the first term $$\\text{argmin}_{D_k}\\text{Tr}(-X^\\top XD_kD_k^\\top - D_kD_k^\\top X^\\top X + D_kD_k^\\top X^\\top XD_kD_k^\\top)$$\n"
   ]
  },
  {
   "cell_type": "markdown",
   "metadata": {},
   "source": [
    "Crucially, however, the trace operator has two useful properties for us: \n",
    " - it's insensitive to cyclic permutations (i.e. $\\text{Tr}(ABC) = \\text{Tr}(CAB) = \\text{Tr}(BCA)$)\n",
    " - the trace of a sum of matrices is the sum of their traces (i.e $\\text{Tr}(\\sum_i \\mathbf{A}_i) = \\sum_i \\text{Tr}(\\mathbf{A}_i)$)\n",
    " \n",
    "Given this, we can write the equation of interest as: $$\\text{argmin}_{D_k}-2\\text{Tr}(-X^\\top XD_kD_k^\\top)+ \\text{Tr}(D_kD_k^\\top X^\\top XD_kD_k^\\top)$$."
   ]
  },
  {
   "cell_type": "markdown",
   "metadata": {},
   "source": [
    "Furthermore, since we define the columns of $D_k$ as being orthonormal, $\\mathbf{D}_k^\\top \\mathbf{D}_k = \\mathbf{I}$ and so we can rewrite the second term as $\\text{Tr}(\\mathbf{D}_k^\\top \\mathbf{X}^\\top  \\mathbf{X}\\mathbf{D}_k)$ which matches the form of the first term (from permuting it) and therefore can be written as the following maximisation.\n",
    "$$\\text{argmax}_{\\mathbf{D}_k} \\text{Tr}(\\mathbf{D}_k^\\top \\mathbf{X}^\\top  \\mathbf{X}\\mathbf{D}_k)$$\n",
    "\n",
    "This is sets up exactly the quantity that PCA is attempting to maximise."
   ]
  },
  {
   "cell_type": "markdown",
   "metadata": {},
   "source": [
    "#### Relationship with eigendecomposition\n",
    "\n",
    "Having happily derived the maximisation problem, I'll do my best to convince you that this is, in fact, maximised by having the k-columns of $\\mathbf{D}_k$ as the k eigenvectors of $\\mathbf{X}^\\top\\mathbf{X}$ with largest eigenvalues. This will roughly take the form of an inductive proof. So let's start with considering $k=1$, that is if we had the choice of using a single vector, what would we go with?\n",
    "\n",
    "##### Base case\n",
    "We'll use the lowercase, $\\mathbf{d}$, to emphasise that it's a vector rather than matrix. So let's try and tackle: $$\\text{argmax}_{\\mathbf{d}} \\text{Tr}(\\mathbf{d}^\\top \\mathbf{X}^\\top  \\mathbf{X}\\mathbf{d})$$\n",
    "The trace of a scalar, is defined as itself, so we wish to find $$\\text{argmax}_{\\mathbf{d}} \\mathbf{d}^\\top \\mathbf{X}^\\top  \\mathbf{X}\\mathbf{d}$$\n",
    "\n",
    "However, recall that we mandated as our first assumption that the columns of $\\mathbf{D}$ are orthonormal and hence we know that $\\mathbf{d}^\\top\\mathbf{d} = 1$.\n",
    "\n",
    "This allows us to reframe this as a constrained optimisation problem and use Lagrange multipliers to discover which vector minimises the quantity of interest whilst satisfying the norm constraint. For convenience, we'll use $\\mathbf{A} = \\mathbf{X}^\\top  \\mathbf{X}$.\n",
    "\n",
    "Hence we can write this as:\n",
    "$$L(\\mathbf{d}, \\mathbf{A}, \\lambda) = \\mathbf{d}^\\top \\mathbf{A}\\mathbf{d} - \\lambda(\\mathbf{d}^\\top \\mathbf{d} - 1)$$\n",
    "\n",
    "\n",
    "> TL;DR Lagrange multipliers are just a technique for optimising a function over a specific region, in our case we're not looking for all vectors but only ones with a norm of 1. We rewrite the function to include the constraint and take the derivative of the new function, known as the _Lagrangian_.\n"
   ]
  },
  {
   "cell_type": "markdown",
   "metadata": {},
   "source": [
    "By taking the derivative of $L$ we can find the solution. $$\\frac{\\partial L}{\\partial \\mathbf{d}} = 2\\mathbf{A}\\mathbf{d} - 2\\lambda\\mathbf{d}$$\n",
    "\n",
    " The derivative is precisely zero when $\\mathbf{A}\\mathbf{d} = \\lambda\\mathbf{d}$, that is when $\\mathbf{d}$ is an eigenvector of the matrix $\\mathbf{A}$.\n",
    "Furthermore, we can see that the quantity in fact takes on the associated eigenvalue since $\\mathbf{d}^\\top \\mathbf{A}\\mathbf{d} = \\mathbf{d}^\\top \\lambda\\mathbf{d} = \\lambda $, where $\\lambda$ is the associated eigenvalue. This is always possible since we can mandate that the eigenvector has a unit norm.\n",
    "\n",
    "Hence, we can see here that for the base case, the best vector is the eigenvector with the largest eigenvalue."
   ]
  },
  {
   "cell_type": "markdown",
   "metadata": {},
   "source": [
    "##### Inductive step\n",
    "\n",
    "Having showcased our hypothesis for $k=1$, let's see what happens for other values of $k$. Precisely, let us show that if our hypothesis is true for some arbitrary $k$ then it is also true for some $k+1$. That is the best encoding matrix with $k+1$ columns, consists of the $k+1$ unit eigenvectors with the largest associated eigenvalues.\n",
    "\n",
    "We are now interested in the following problem: \n",
    "\n",
    "$$\\text{argmax}_{\\mathbf{D}_{k+1}} \\mathrm{Tr}(\\mathbf{D}_{k+1}^\\top \\mathbf{X}^\\top  \\mathbf{X}\\mathbf{D}_{k+1})$$\n",
    "\n",
    "The key insight comes from thinking of the $\\mathbf{D}_{k+1}$ as the previous matrix,$\\mathbf{D}_{k}$, for which we have assumed the property to hold, and a new column which we would like to show corresponds the eigenvector with the $(k+1)$-th largest eigenvalue.\n",
    "\n",
    "![](diagrams/pca-proof.svg)\n"
   ]
  },
  {
   "cell_type": "markdown",
   "metadata": {},
   "source": [
    "The matrix of interest is split into two new matrices, $\\Lambda_k$ and $\\Lambda_{k+1}$ as shown in the diagram. So we can rewrite the maximisation and expand it.\n",
    "\n",
    "$$\\text{argmax}_{\\mathbf{\\Lambda}_{k+1}} \\mathrm{Tr}((\\mathbf{\\Lambda}_{k} + \\mathbf{\\Lambda}_{k+1})^\\top \\mathbf{X}^\\top  \\mathbf{X}(\\mathbf{\\Lambda}_{k} + \\mathbf{\\Lambda}_{k+1}))$$"
   ]
  },
  {
   "cell_type": "markdown",
   "metadata": {},
   "source": [
    "$$\\text{argmax}_{\\mathbf{\\Lambda}_{k+1}} \\mathrm{Tr}[\\mathbf{\\Lambda}_{k}^\\top \\mathbf{X}^\\top  \\mathbf{X}\\mathbf{\\Lambda}_{k} + \\mathbf{\\Lambda}_{k+1}^\\top \\mathbf{X}^\\top  \\mathbf{X}\\mathbf{\\Lambda}_{k} + \\mathbf{\\Lambda}_{k}^\\top \\mathbf{X}^\\top  \\mathbf{X}\\mathbf{\\Lambda}_{k+1} + \\mathbf{\\Lambda}_{k+1}^\\top \\mathbf{X}^\\top  \\mathbf{X}\\mathbf{\\Lambda}_{k+1}]$$\n",
    "\n",
    "We'll slowly get rid of three of these four terms and show our initial hypothesis holds.\n",
    "- First term: is a constant from our perspective and so we don't have to consider it\n",
    "- Second and third term: I'll try to convince you from the diagram that both of these have zero entries along the diagonal. The diagram shows why it's true for the second term and by symmetry we can see it's also true for the third term. Since they have zeroes along the diagonal they will have a trace of zero and hence by splitting the trace we end up with $\\mathrm{Tr}[\\mathbf{\\Lambda}_{k+1}^\\top \\mathbf{X}^\\top  \\mathbf{X}\\mathbf{\\Lambda}_{k+1}]$ as the final maximisation.\n",
    "\n",
    "![](diagrams/pca-proof-2.svg)"
   ]
  },
  {
   "cell_type": "markdown",
   "metadata": {},
   "source": [
    "However, if we look carefully enough we can see that the fourth term has zeroes everywhere other than in the bottom right corner, which I denote by $\\mu$.\n",
    "\n",
    "<img src=\"diagrams/pca-proof-3.svg\" align=\"center\"/>\n",
    "\n",
    "Furthermore, from the diagram we can see that $\\mu = \\mathbf{a}'\\mathbf{d}_{k+1}$ and that $\\mathbf{a}'=\\mathbf{d}_{k+1}^\\top\\mathbf{A}$.\n",
    "\n",
    "Now we can, finally, reframe our inductive case as $$\\text{argmax}_{\\mathbf{d}_{k+1}} \\mathbf{d}_{k+1}^\\top\\mathbf{X}^\\top\\mathbf{X}\\mathbf{d}_{k+1}$$"
   ]
  },
  {
   "cell_type": "markdown",
   "metadata": {},
   "source": [
    "However, recall that we mandated that all the columns of the encoding matrix are orthonormal and hence, this condition is maximised, precisely, by the eigenvector with (k+1)-th largest eigenvalue. It is important to note that the eigenvectors (corresponding to different eigenvalues) are orthogonal here, since $\\mathbf{X}^\\top \\mathbf{X}$ is real and symmetric. Given that we chose our base case as an eigenvector, we know that if we pick the $k+1$ vector as a different eigenvector, it will necessarily be orthogonal to all the other columns."
   ]
  },
  {
   "cell_type": "markdown",
   "metadata": {},
   "source": [
    "Finally, this induction cannot continue indefinitely, since we cannot have $n+1$ orthogonal $n$-dimensional vectors. This is intuitive since PCA is designed to find a lower-dimensional representation not increase the number of dimensions.\n",
    "\n"
   ]
  },
  {
   "cell_type": "markdown",
   "metadata": {},
   "source": [
    "I hope I have convinced you that the we can find the principal components by eigendecomposition of $\\mathbf{X}^\\top \\mathbf{X}$.\n",
    "\n",
    "That is, if we write it as $\\mathbf{X}^\\top \\mathbf{X} = \\mathbf{V}\\text{diag}(\\mathbf{\\lambda})\\mathbf{V}$, with the matrix $V$ containing the eigenvectors as columns and with eigenvalues in the vector $\\mathbf{\\lambda}$ then we can pick our encoding matrix as the $k$ eigenvectors with largest eigenvalues."
   ]
  },
  {
   "cell_type": "markdown",
   "metadata": {},
   "source": [
    "### Relationship with SVD\n",
    "\n",
    "Recall that singular value decomposition is defined as rewriting a matrix, $\\mathbf{A}$, as a product, $\\mathbf{U}\\mathbf{D}\\mathbf{V}^\\top$, of orthogonal matrices, $\\mathbf{U}$ and $\\mathbf{V}$ and a diagonal matrix $\\mathbf{D}$.\n",
    "\n",
    "Crucially, however, $\\mathbf{V}$ is defined as the eigenvectors of the matrix $\\mathbf{A}^\\top\\mathbf{A}$. Sound familiar? That's precisely the eigenvectors that we need for the PCA encoding.\n",
    "\n",
    "Hence, we know that if $\\mathbf{X}^\\top \\mathbf{X} = \\mathbf{V}\\text{diag}(\\mathbf{\\lambda})\\mathbf{V}$, then we could also write $\\mathbf{X} = \\mathbf{U}\\mathbf{D}\\mathbf{V}^\\top$, where $\\mathbf{V}$ is our encoding matrix.\n",
    "\n",
    "This now leaves us with two separate but equivalent ways of computing our encoding matrix --- SVD or eigendecomposition."
   ]
  },
  {
   "cell_type": "markdown",
   "metadata": {},
   "source": [
    "## The decorrelation perspective\n",
    "\n",
    "There are two key properties of PCA to understand: \n",
    "- Minimisation of the reconstruction error\n",
    "- 'Decorrelation' of the features of data\n",
    "\n",
    "We've just finished showing the first one so let's take a quick look at the second (much easier to show!).\n",
    "\n",
    "\n"
   ]
  },
  {
   "cell_type": "markdown",
   "metadata": {},
   "source": [
    "Recall the unbiased estimator of the covariance of a centered matrix, $\\mathbf{Z}$, is $\\text{Var}[\\mathbf{Z}] = \\frac{1}{m-1}\\mathbf{Z}^\\top\\mathbf{Z}$ where $m$ is the number of rows of the matrix. The covariance matrix is such that $\\text{Var}(\\mathbf{Z})_{i,j} = \\text{cov}(\\mathbf{Z}_i, \\mathbf{Z}_j)$, that is it tells us the covariance between random variables."
   ]
  },
  {
   "cell_type": "markdown",
   "metadata": {},
   "source": [
    "If we can show that the covariance of PCA-encoded data, $\\mathbf{Z}$ is a diagonal matrix, then we will know that covariance between each feature derived by PCA is zero.\n",
    "We know that $\\mathbf{Z} = \\mathbf{X}\\mathbf{D}$, if $\\mathbf{X}$ is our original data and $\\mathbf{D}$ is the encoding matrix.\n",
    "\n",
    "Therefore $\\text{Var}[\\mathbf{Z}] = \\frac{1}{m-1}\\mathbf{Z}^\\top\\mathbf{Z} = \\frac{1}{m-1}\\mathbf{D}^\\top\\mathbf{X}^\\top\\mathbf{X}\\mathbf{D}$.\n",
    "\n"
   ]
  },
  {
   "cell_type": "markdown",
   "metadata": {},
   "source": [
    "However, recall that from the SVD approach we know that $\\mathbf{X} = \\mathbf{U}\\mathbf{\\Sigma}\\mathbf{D}^\\top$ for a diagonal matrix $\\mathbf{\\Sigma}$.\n",
    "\n",
    "From this we can rewrite $\\mathbf{X}^\\top\\mathbf{X}$ as $(\\mathbf{U}\\mathbf{\\Sigma}\\mathbf{D}^\\top)^\\top(\\mathbf{U}\\mathbf{\\Sigma}\\mathbf{D}^\\top)=\\mathbf{D}\\mathbf{\\Sigma}^\\top\\mathbf{U}^\\top\\mathbf{U}\\mathbf{\\Sigma}\\mathbf{D}^\\top$, but since SVD gives us orthogonal matrices we know that $\\mathbf{U}^\\top\\mathbf{U}=I$. Hence, $\\mathbf{X}^\\top\\mathbf{X} = \\mathbf{D}\\mathbf{\\Sigma}^\\top\\mathbf{\\Sigma}\\mathbf{D}^\\top$"
   ]
  },
  {
   "cell_type": "markdown",
   "metadata": {},
   "source": [
    "At this point, we're very close and you might be tempted to suggest that $\\mathbf{\\Sigma}^\\top\\mathbf{\\Sigma} = \\mathbf{\\Sigma}^2$ since $\\mathbf{\\Sigma}$ is a diagonal matrix, and the transpose of a square, diagonal matrix is itself. However, $\\mathbf{\\Sigma}$ is not necessarily square! In fact, from the properties of SVD it has the same dimensions as $\\mathbf{X}$. We do, however, know that the matrix $\\mathbf{\\Sigma}^\\top\\mathbf{\\Sigma}$ is necessarily diagonal since it is a product of two diagonal matrices, and so the point still stands."
   ]
  },
  {
   "cell_type": "markdown",
   "metadata": {},
   "source": [
    "Hence, we have shown that the resulting encoding has a diagonal covariance matrix, which means that the features have no linear dependence between each other. We'll be able to visualise this later!"
   ]
  },
  {
   "cell_type": "markdown",
   "metadata": {},
   "source": [
    "It's crucial to understand that a zero covariance does not imply that no relationship exists between the features of the transformed space but rather that no linear relationship can exist. The stronger condition of having no relationship, would require a different algorithm and is the approach taken by Independent Component Analysis."
   ]
  },
  {
   "cell_type": "markdown",
   "metadata": {},
   "source": [
    "One of the beauties of PCA is that there are lots of ways to think about it. I've only presented one, but you can also think about it as maximising variance, or transforming the coordinate axes amongst many others."
   ]
  },
  {
   "cell_type": "markdown",
   "metadata": {},
   "source": [
    "### Implementation"
   ]
  },
  {
   "cell_type": "markdown",
   "metadata": {},
   "source": [
    "I didn't say much about what PCA can be used for, but now that we have an understanding of where the computation comes from, let's take a quick look at what it can be used for. We'll look at it as a technique for compression and for visualisation of high-dimensional data."
   ]
  },
  {
   "cell_type": "code",
   "execution_count": 31,
   "metadata": {},
   "outputs": [],
   "source": [
    "import numpy as np\n",
    "import matplotlib.pyplot as plt\n",
    "import pandas as pd"
   ]
  },
  {
   "cell_type": "code",
   "execution_count": 3,
   "metadata": {},
   "outputs": [],
   "source": [
    "def generate_noisy_line(gradient, N=100):\n",
    "    X = np.zeros(shape=(N, 2))\n",
    "    X[:,0] = np.random.uniform(-100, 100, size=N)\n",
    "    X[:,1] = (X[:,0]*gradient)+ np.random.uniform(-100, 100, size=N)\n",
    "    return X"
   ]
  },
  {
   "cell_type": "markdown",
   "metadata": {},
   "source": [
    "We can implement it in two-lines both via eigendecomposition and SVD. Although, we are essentially cheating since NumPy is doing all the heavy-lifting by computing the eigenvectors for us. That being said, computing eigenvectors should be itself the topic of a separate blog post."
   ]
  },
  {
   "cell_type": "code",
   "execution_count": 29,
   "metadata": {},
   "outputs": [],
   "source": [
    "def pca_eig(X):\n",
    "    eigenvals, eigenvectors = np.linalg.eig(X.T @ X)\n",
    "    return eigenvals, eigenvectors\n",
    "\n",
    "def pca_svd(X):\n",
    "    _,root_eigenvalues,x = np.linalg.svd(X)\n",
    "    return root_eigenvalues**2, x"
   ]
  },
  {
   "cell_type": "code",
   "execution_count": 27,
   "metadata": {},
   "outputs": [
    {
     "name": "stdout",
     "output_type": "stream",
     "text": [
      "[[-0.97496792 -0.22234558]\n",
      " [ 0.22234558 -0.97496792]]\n",
      "[[-0.22234558 -0.97496792]\n",
      " [ 0.97496792 -0.22234558]]\n"
     ]
    },
    {
     "data": {
      "image/png": "[encoded data removed]",
      "text/plain": [
       "<Figure size 432x288 with 1 Axes>"
      ]
     },
     "metadata": {
      "needs_background": "light"
     },
     "output_type": "display_data"
    }
   ],
   "source": [
    "X = generate_noisy_line(4)\n",
    "_,eig_dec = pca_eig(X)\n",
    "_,svd_dec = pca_svd(X)\n",
    "plt.scatter(X[:,0], X[:,1])\n",
    "print(eig_dec)\n",
    "print(svd_dec)\n",
    "origin = [0,0]\n",
    "eig_vec1, eig_vec2 = eig_dec[0, :], eig_dec[1,:]\n",
    "plt.quiver(*origin, *eig_vec1, color=['r'], scale=10)\n",
    "plt.quiver(*origin, *eig_vec2, color=['b'], scale=10)\n",
    "rec = Z@eig_dec.T\n",
    "plt.scatter(Z[:,0], Z[:,1])\n",
    "plt.show()\n",
    "\n",
    "\n"
   ]
  },
  {
   "cell_type": "markdown",
   "metadata": {},
   "source": [
    "Let's compare our simple two-line implementations to the sklearn implementation."
   ]
  },
  {
   "cell_type": "code",
   "execution_count": 30,
   "metadata": {},
   "outputs": [
    {
     "name": "stdout",
     "output_type": "stream",
     "text": [
      "[[-0.22291338 -0.97483825]\n",
      " [-0.97483825  0.22291338]]\n",
      "[[-0.97496792 -0.22234558]\n",
      " [ 0.22234558 -0.97496792]]\n",
      "[[-0.22234558 -0.97496792]\n",
      " [ 0.97496792 -0.22234558]]\n"
     ]
    }
   ],
   "source": [
    "# Our basic implementation vs. the sklearn implementation\n",
    "from sklearn.decomposition import PCA\n",
    "fitted = PCA().fit(X)\n",
    "print(fitted.components_)\n",
    "print(pca_eig(X)[1])\n",
    "print(pca_svd(X)[1])"
   ]
  },
  {
   "cell_type": "markdown",
   "metadata": {},
   "source": [
    "They match, but I still wouldn't rely on ours too much! SkLearn is doing a bunch of stuff behind the scenes to make sure it is always accurate!"
   ]
  },
  {
   "cell_type": "code",
   "execution_count": 100,
   "metadata": {},
   "outputs": [
    {
     "data": {
      "text/plain": [
       "array(['Overall rank', 'Country or region', 'Score', 'GDP per capita',\n",
       "       'Social support', 'Healthy life expectancy',\n",
       "       'Freedom to make life choices', 'Generosity',\n",
       "       'Perceptions of corruption', 'PCA Component 1', 'PCA Component 2'],\n",
       "      dtype=object)"
      ]
     },
     "execution_count": 100,
     "metadata": {},
     "output_type": "execute_result"
    }
   ],
   "source": [
    "df.columns.values"
   ]
  },
  {
   "cell_type": "code",
   "execution_count": 50,
   "metadata": {},
   "outputs": [
    {
     "name": "stdout",
     "output_type": "stream",
     "text": [
      "(156, 7)\n"
     ]
    }
   ],
   "source": [
    "df = pd.read_csv(\"data/country-data.csv\")\n",
    "df.head()\n",
    "X = df[df.columns[2:]].to_numpy()\n",
    "_, eigenvectors = pca_svd(X)"
   ]
  },
  {
   "cell_type": "markdown",
   "metadata": {},
   "source": [
    "Let's try to project this 7-dimensional country data onto only two."
   ]
  },
  {
   "cell_type": "code",
   "execution_count": 45,
   "metadata": {},
   "outputs": [
    {
     "data": {
      "text/plain": [
       "'Denmark'"
      ]
     },
     "execution_count": 45,
     "metadata": {},
     "output_type": "execute_result"
    }
   ],
   "source": [
    "df.iloc[1][\"Country or region\"]"
   ]
  },
  {
   "cell_type": "code",
   "execution_count": 88,
   "metadata": {},
   "outputs": [
    {
     "name": "stdout",
     "output_type": "stream",
     "text": [
      "(156, 7)\n",
      "(7, 2)\n"
     ]
    },
    {
     "data": {
      "image/png": "[encoded data removed]",
      "text/plain": [
       "<Figure size 1440x720 with 1 Axes>"
      ]
     },
     "metadata": {
      "needs_background": "light"
     },
     "output_type": "display_data"
    }
   ],
   "source": [
    "fig, ax = plt.subplots(figsize=(20,10))\n",
    "projection = eigenvectors[:,:2]\n",
    "print(X.shape)\n",
    "print(projection.shape)\n",
    "projected = X@projection\n",
    "ax.scatter(projected[:,0], projected[:,1])\n",
    "\n",
    "idxs = np.arange(len(df))\n",
    "np.random.shuffle(idxs)\n",
    "idxs = idxs[:30]\n",
    "\n",
    "for i in idxs:\n",
    "    ax.annotate(df.iloc[i][\"Country or region\"], (projected[i, 0]+0.01, projected[i,1] + 0.01))"
   ]
  },
  {
   "cell_type": "code",
   "execution_count": 102,
   "metadata": {},
   "outputs": [
    {
     "data": {
      "text/plain": [
       "array(['Overall rank', 'Country or region', 'Score', 'GDP per capita',\n",
       "       'Social support', 'Healthy life expectancy',\n",
       "       'Freedom to make life choices', 'Generosity',\n",
       "       'Perceptions of corruption'], dtype=object)"
      ]
     },
     "execution_count": 102,
     "metadata": {},
     "output_type": "execute_result"
    }
   ],
   "source": [
    "df.columns.values[:-2]"
   ]
  },
  {
   "cell_type": "markdown",
   "metadata": {},
   "source": [
    "[](https://en.wikipedia.org/wiki/World_Happiness_Report)"
   ]
  },
  {
   "cell_type": "code",
   "execution_count": 104,
   "metadata": {},
   "outputs": [
    {
     "data": {
      "text/html": [
       "\n",
       "<div id=\"altair-viz-dae5b33c0df741bba67ae22eee18ac81\"></div>\n",
       "<script type=\"text/javascript\">\n",
       "  (function(spec, embedOpt){\n",
       "    let outputDiv = document.currentScript.previousElementSibling;\n",
       "    if (outputDiv.id !== \"altair-viz-dae5b33c0df741bba67ae22eee18ac81\") {\n",
       "      outputDiv = document.getElementById(\"altair-viz-dae5b33c0df741bba67ae22eee18ac81\");\n",
       "    }\n",
       "    const paths = {\n",
       "      \"vega\": \"https://cdn.jsdelivr.net/npm//vega@5?noext\",\n",
       "      \"vega-lib\": \"https://cdn.jsdelivr.net/npm//vega-lib?noext\",\n",
       "      \"vega-lite\": \"https://cdn.jsdelivr.net/npm//vega-lite@4.8.1?noext\",\n",
       "      \"vega-embed\": \"https://cdn.jsdelivr.net/npm//vega-embed@6?noext\",\n",
       "    };\n",
       "\n",
       "    function loadScript(lib) {\n",
       "      return new Promise(function(resolve, reject) {\n",
       "        var s = document.createElement('script');\n",
       "        s.src = paths[lib];\n",
       "        s.async = true;\n",
       "        s.onload = () => resolve(paths[lib]);\n",
       "        s.onerror = () => reject(`Error loading script: ${paths[lib]}`);\n",
       "        document.getElementsByTagName(\"head\")[0].appendChild(s);\n",
       "      });\n",
       "    }\n",
       "\n",
       "    function showError(err) {\n",
       "      outputDiv.innerHTML = `<div class=\"error\" style=\"color:red;\">${err}</div>`;\n",
       "      throw err;\n",
       "    }\n",
       "\n",
       "    function displayChart(vegaEmbed) {\n",
       "      vegaEmbed(outputDiv, spec, embedOpt)\n",
       "        .catch(err => showError(`Javascript Error: ${err.message}<br>This usually means there's a typo in your chart specification. See the javascript console for the full traceback.`));\n",
       "    }\n",
       "\n",
       "    if(typeof define === \"function\" && define.amd) {\n",
       "      requirejs.config({paths});\n",
       "      require([\"vega-embed\"], displayChart, err => showError(`Error loading script: ${err.message}`));\n",
       "    } else if (typeof vegaEmbed === \"function\") {\n",
       "      displayChart(vegaEmbed);\n",
       "    } else {\n",
       "      loadScript(\"vega\")\n",
       "        .then(() => loadScript(\"vega-lite\"))\n",
       "        .then(() => loadScript(\"vega-embed\"))\n",
       "        .catch(showError)\n",
       "        .then(() => displayChart(vegaEmbed));\n",
       "    }\n",
       "  })({\"config\": {\"view\": {\"continuousWidth\": 400, \"continuousHeight\": 300}}, \"layer\": [{\"mark\": {\"type\": \"circle\", \"size\": 60}, \"encoding\": {\"color\": {\"type\": \"quantitative\", \"field\": \"Score\"}, \"tooltip\": [{\"type\": \"quantitative\", \"field\": \"Overall rank\"}, {\"type\": \"nominal\", \"field\": \"Country or region\"}, {\"type\": \"quantitative\", \"field\": \"Score\"}, {\"type\": \"quantitative\", \"field\": \"GDP per capita\"}, {\"type\": \"quantitative\", \"field\": \"Social support\"}, {\"type\": \"quantitative\", \"field\": \"Healthy life expectancy\"}, {\"type\": \"quantitative\", \"field\": \"Freedom to make life choices\"}, {\"type\": \"quantitative\", \"field\": \"Generosity\"}, {\"type\": \"quantitative\", \"field\": \"Perceptions of corruption\"}], \"x\": {\"type\": \"quantitative\", \"field\": \"PCA Component 1\"}, \"y\": {\"type\": \"quantitative\", \"field\": \"PCA Component 2\"}}, \"selection\": {\"selector035\": {\"type\": \"interval\", \"bind\": \"scales\", \"encodings\": [\"x\", \"y\"]}}}, {\"mark\": {\"type\": \"text\", \"align\": \"left\", \"baseline\": \"middle\", \"color\": \"#000000\", \"dx\": 7, \"fill\": \"#000000\", \"fontSize\": 8}, \"encoding\": {\"color\": {\"type\": \"quantitative\", \"field\": \"Score\"}, \"text\": {\"type\": \"nominal\", \"field\": \"Country or region\"}, \"tooltip\": [{\"type\": \"quantitative\", \"field\": \"Overall rank\"}, {\"type\": \"nominal\", \"field\": \"Country or region\"}, {\"type\": \"quantitative\", \"field\": \"Score\"}, {\"type\": \"quantitative\", \"field\": \"GDP per capita\"}, {\"type\": \"quantitative\", \"field\": \"Social support\"}, {\"type\": \"quantitative\", \"field\": \"Healthy life expectancy\"}, {\"type\": \"quantitative\", \"field\": \"Freedom to make life choices\"}, {\"type\": \"quantitative\", \"field\": \"Generosity\"}, {\"type\": \"quantitative\", \"field\": \"Perceptions of corruption\"}], \"x\": {\"type\": \"quantitative\", \"field\": \"PCA Component 1\"}, \"y\": {\"type\": \"quantitative\", \"field\": \"PCA Component 2\"}}}], \"data\": {\"name\": \"data-b7e89a3053140261e30cf3551f319bb5\"}, \"$schema\": \"https://vega.github.io/schema/vega-lite/v4.8.1.json\", \"datasets\": {\"data-b7e89a3053140261e30cf3551f319bb5\": [{\"Overall rank\": 1, \"Country or region\": \"Finland\", \"Score\": 7.769, \"GDP per capita\": 1.34, \"Social support\": 1.587, \"Healthy life expectancy\": 0.986, \"Freedom to make life choices\": 0.596, \"Generosity\": 0.153, \"Perceptions of corruption\": 0.39299999999999996, \"PCA Component 1\": -7.324527992470908, \"PCA Component 2\": 0.5001995305583886}, {\"Overall rank\": 2, \"Country or region\": \"Denmark\", \"Score\": 7.6, \"GDP per capita\": 1.383, \"Social support\": 1.5730000000000002, \"Healthy life expectancy\": 0.996, \"Freedom to make life choices\": 0.5920000000000001, \"Generosity\": 0.252, \"Perceptions of corruption\": 0.41, \"PCA Component 1\": -7.177073090974004, \"PCA Component 2\": 0.5686614816145492}, {\"Overall rank\": 3, \"Country or region\": \"Norway\", \"Score\": 7.553999999999999, \"GDP per capita\": 1.4880000000000002, \"Social support\": 1.5819999999999999, \"Healthy life expectancy\": 1.028, \"Freedom to make life choices\": 0.603, \"Generosity\": 0.271, \"Perceptions of corruption\": 0.341, \"PCA Component 1\": -7.152731187499048, \"PCA Component 2\": 0.6646444115061174}, {\"Overall rank\": 4, \"Country or region\": \"Iceland\", \"Score\": 7.494, \"GDP per capita\": 1.38, \"Social support\": 1.624, \"Healthy life expectancy\": 1.026, \"Freedom to make life choices\": 0.591, \"Generosity\": 0.354, \"Perceptions of corruption\": 0.11800000000000001, \"PCA Component 1\": -7.065611467120357, \"PCA Component 2\": 0.569616399707883}, {\"Overall rank\": 5, \"Country or region\": \"Netherlands\", \"Score\": 7.4879999999999995, \"GDP per capita\": 1.396, \"Social support\": 1.5219999999999998, \"Healthy life expectancy\": 0.9990000000000001, \"Freedom to make life choices\": 0.557, \"Generosity\": 0.322, \"Perceptions of corruption\": 0.298, \"PCA Component 1\": -7.083902505856121, \"PCA Component 2\": 0.5647336225108358}, {\"Overall rank\": 6, \"Country or region\": \"Switzerland\", \"Score\": 7.48, \"GDP per capita\": 1.452, \"Social support\": 1.526, \"Healthy life expectancy\": 1.052, \"Freedom to make life choices\": 0.5720000000000001, \"Generosity\": 0.263, \"Perceptions of corruption\": 0.34299999999999997, \"PCA Component 1\": -7.081118120811811, \"PCA Component 2\": 0.6175056848338695}, {\"Overall rank\": 7, \"Country or region\": \"Sweden\", \"Score\": 7.343, \"GDP per capita\": 1.3869999999999998, \"Social support\": 1.4869999999999999, \"Healthy life expectancy\": 1.0090000000000001, \"Freedom to make life choices\": 0.574, \"Generosity\": 0.267, \"Perceptions of corruption\": 0.373, \"PCA Component 1\": -6.9464894691268, \"PCA Component 2\": 0.5813133710861662}, {\"Overall rank\": 8, \"Country or region\": \"New Zealand\", \"Score\": 7.307, \"GDP per capita\": 1.3030000000000002, \"Social support\": 1.557, \"Healthy life expectancy\": 1.026, \"Freedom to make life choices\": 0.585, \"Generosity\": 0.33, \"Perceptions of corruption\": 0.38, \"PCA Component 1\": -6.8803865061052605, \"PCA Component 2\": 0.5414472570599675}, {\"Overall rank\": 9, \"Country or region\": \"Canada\", \"Score\": 7.278, \"GDP per capita\": 1.365, \"Social support\": 1.505, \"Healthy life expectancy\": 1.0390000000000001, \"Freedom to make life choices\": 0.584, \"Generosity\": 0.285, \"Perceptions of corruption\": 0.308, \"PCA Component 1\": -6.873046988522187, \"PCA Component 2\": 0.5733845733946168}, {\"Overall rank\": 10, \"Country or region\": \"Austria\", \"Score\": 7.246, \"GDP per capita\": 1.376, \"Social support\": 1.475, \"Healthy life expectancy\": 1.016, \"Freedom to make life choices\": 0.532, \"Generosity\": 0.244, \"Perceptions of corruption\": 0.226, \"PCA Component 1\": -6.853814804334363, \"PCA Component 2\": 0.5503406204148549}, {\"Overall rank\": 11, \"Country or region\": \"Australia\", \"Score\": 7.228, \"GDP per capita\": 1.3719999999999999, \"Social support\": 1.548, \"Healthy life expectancy\": 1.036, \"Freedom to make life choices\": 0.557, \"Generosity\": 0.332, \"Perceptions of corruption\": 0.29, \"PCA Component 1\": -6.822835137402166, \"PCA Component 2\": 0.5905401961959333}, {\"Overall rank\": 12, \"Country or region\": \"Costa Rica\", \"Score\": 7.167000000000001, \"GDP per capita\": 1.034, \"Social support\": 1.4409999999999998, \"Healthy life expectancy\": 0.963, \"Freedom to make life choices\": 0.5579999999999999, \"Generosity\": 0.14400000000000002, \"Perceptions of corruption\": 0.09300000000000001, \"PCA Component 1\": -6.7061046512004, \"PCA Component 2\": 0.2506722615630534}, {\"Overall rank\": 13, \"Country or region\": \"Israel\", \"Score\": 7.138999999999999, \"GDP per capita\": 1.276, \"Social support\": 1.455, \"Healthy life expectancy\": 1.0290000000000001, \"Freedom to make life choices\": 0.371, \"Generosity\": 0.261, \"Perceptions of corruption\": 0.08199999999999999, \"PCA Component 1\": -6.737343160117342, \"PCA Component 2\": 0.40080547786646414}, {\"Overall rank\": 14, \"Country or region\": \"Luxembourg\", \"Score\": 7.09, \"GDP per capita\": 1.609, \"Social support\": 1.479, \"Healthy life expectancy\": 1.012, \"Freedom to make life choices\": 0.526, \"Generosity\": 0.19399999999999998, \"Perceptions of corruption\": 0.316, \"PCA Component 1\": -6.759513508918464, \"PCA Component 2\": 0.7819532116340656}, {\"Overall rank\": 15, \"Country or region\": \"United Kingdom\", \"Score\": 7.053999999999999, \"GDP per capita\": 1.3330000000000002, \"Social support\": 1.538, \"Healthy life expectancy\": 0.996, \"Freedom to make life choices\": 0.45, \"Generosity\": 0.348, \"Perceptions of corruption\": 0.278, \"PCA Component 1\": -6.659251317647125, \"PCA Component 2\": 0.5457239812039735}, {\"Overall rank\": 16, \"Country or region\": \"Ireland\", \"Score\": 7.021, \"GDP per capita\": 1.499, \"Social support\": 1.5530000000000002, \"Healthy life expectancy\": 0.9990000000000001, \"Freedom to make life choices\": 0.516, \"Generosity\": 0.298, \"Perceptions of corruption\": 0.31, \"PCA Component 1\": -6.660376545092016, \"PCA Component 2\": 0.7222019205104836}, {\"Overall rank\": 17, \"Country or region\": \"Germany\", \"Score\": 6.985, \"GDP per capita\": 1.3730000000000002, \"Social support\": 1.454, \"Healthy life expectancy\": 0.987, \"Freedom to make life choices\": 0.495, \"Generosity\": 0.261, \"Perceptions of corruption\": 0.265, \"PCA Component 1\": -6.613416119155952, \"PCA Component 2\": 0.579003425157374}, {\"Overall rank\": 18, \"Country or region\": \"Belgium\", \"Score\": 6.922999999999999, \"GDP per capita\": 1.3559999999999999, \"Social support\": 1.504, \"Healthy life expectancy\": 0.986, \"Freedom to make life choices\": 0.473, \"Generosity\": 0.16, \"Perceptions of corruption\": 0.21, \"PCA Component 1\": -6.541619037294267, \"PCA Component 2\": 0.5653804663816279}, {\"Overall rank\": 19, \"Country or region\": \"United States of America\", \"Score\": 6.892, \"GDP per capita\": 1.433, \"Social support\": 1.4569999999999999, \"Healthy life expectancy\": 0.8740000000000001, \"Freedom to make life choices\": 0.45399999999999996, \"Generosity\": 0.28, \"Perceptions of corruption\": 0.128, \"PCA Component 1\": -6.553272304185463, \"PCA Component 2\": 0.6259591935373053}, {\"Overall rank\": 20, \"Country or region\": \"Czech Republic\", \"Score\": 6.852, \"GDP per capita\": 1.2690000000000001, \"Social support\": 1.4869999999999999, \"Healthy life expectancy\": 0.92, \"Freedom to make life choices\": 0.457, \"Generosity\": 0.046, \"Perceptions of corruption\": 0.036000000000000004, \"PCA Component 1\": -6.46183473397198, \"PCA Component 2\": 0.46829877184437635}, {\"Overall rank\": 21, \"Country or region\": \"United Arab Emirates\", \"Score\": 6.825, \"GDP per capita\": 1.5030000000000001, \"Social support\": 1.31, \"Healthy life expectancy\": 0.825, \"Freedom to make life choices\": 0.598, \"Generosity\": 0.262, \"Perceptions of corruption\": 0.182, \"PCA Component 1\": -6.5278463584308435, \"PCA Component 2\": 0.7210889544573722}, {\"Overall rank\": 22, \"Country or region\": \"Malta\", \"Score\": 6.726, \"GDP per capita\": 1.3, \"Social support\": 1.52, \"Healthy life expectancy\": 0.9990000000000001, \"Freedom to make life choices\": 0.564, \"Generosity\": 0.375, \"Perceptions of corruption\": 0.151, \"PCA Component 1\": -6.33710587369587, \"PCA Component 2\": 0.5966401354387147}, {\"Overall rank\": 23, \"Country or region\": \"Mexico\", \"Score\": 6.595, \"GDP per capita\": 1.07, \"Social support\": 1.3230000000000002, \"Healthy life expectancy\": 0.861, \"Freedom to make life choices\": 0.433, \"Generosity\": 0.07400000000000001, \"Perceptions of corruption\": 0.073, \"PCA Component 1\": -6.2044867725792505, \"PCA Component 2\": 0.29795483979668796}, {\"Overall rank\": 24, \"Country or region\": \"France\", \"Score\": 6.5920000000000005, \"GDP per capita\": 1.324, \"Social support\": 1.472, \"Healthy life expectancy\": 1.045, \"Freedom to make life choices\": 0.436, \"Generosity\": 0.111, \"Perceptions of corruption\": 0.183, \"PCA Component 1\": -6.218141118009947, \"PCA Component 2\": 0.5588013275208685}, {\"Overall rank\": 25, \"Country or region\": \"Taiwan\", \"Score\": 6.446000000000001, \"GDP per capita\": 1.368, \"Social support\": 1.43, \"Healthy life expectancy\": 0.914, \"Freedom to make life choices\": 0.35100000000000003, \"Generosity\": 0.242, \"Perceptions of corruption\": 0.09699999999999999, \"PCA Component 1\": -6.117132117911763, \"PCA Component 2\": 0.5882260171845293}, {\"Overall rank\": 26, \"Country or region\": \"Chile\", \"Score\": 6.444, \"GDP per capita\": 1.159, \"Social support\": 1.369, \"Healthy life expectancy\": 0.92, \"Freedom to make life choices\": 0.35700000000000004, \"Generosity\": 0.187, \"Perceptions of corruption\": 0.055999999999999994, \"PCA Component 1\": -6.073477209959916, \"PCA Component 2\": 0.385553077860336}, {\"Overall rank\": 27, \"Country or region\": \"Guatemala\", \"Score\": 6.436, \"GDP per capita\": 0.8, \"Social support\": 1.2690000000000001, \"Healthy life expectancy\": 0.746, \"Freedom to make life choices\": 0.535, \"Generosity\": 0.175, \"Perceptions of corruption\": 0.078, \"PCA Component 1\": -6.008585076613533, \"PCA Component 2\": 0.13204712545709396}, {\"Overall rank\": 28, \"Country or region\": \"Saudi Arabia\", \"Score\": 6.375, \"GDP per capita\": 1.403, \"Social support\": 1.357, \"Healthy life expectancy\": 0.795, \"Freedom to make life choices\": 0.439, \"Generosity\": 0.08, \"Perceptions of corruption\": 0.132, \"PCA Component 1\": -6.075647947511854, \"PCA Component 2\": 0.6439340782591514}, {\"Overall rank\": 29, \"Country or region\": \"Qatar\", \"Score\": 6.374, \"GDP per capita\": 1.6840000000000002, \"Social support\": 1.3130000000000002, \"Healthy life expectancy\": 0.871, \"Freedom to make life choices\": 0.555, \"Generosity\": 0.22, \"Perceptions of corruption\": 0.16699999999999998, \"PCA Component 1\": -6.136745996459815, \"PCA Component 2\": 0.9274434676585708}, {\"Overall rank\": 30, \"Country or region\": \"Spain\", \"Score\": 6.354, \"GDP per capita\": 1.286, \"Social support\": 1.484, \"Healthy life expectancy\": 1.062, \"Freedom to make life choices\": 0.36200000000000004, \"Generosity\": 0.153, \"Perceptions of corruption\": 0.079, \"PCA Component 1\": -5.982879163723361, \"PCA Component 2\": 0.530997591088366}, {\"Overall rank\": 31, \"Country or region\": \"Panama\", \"Score\": 6.321000000000001, \"GDP per capita\": 1.149, \"Social support\": 1.442, \"Healthy life expectancy\": 0.91, \"Freedom to make life choices\": 0.516, \"Generosity\": 0.109, \"Perceptions of corruption\": 0.054000000000000006, \"PCA Component 1\": -5.935228699702142, \"PCA Component 2\": 0.4697531127006601}, {\"Overall rank\": 32, \"Country or region\": \"Brazil\", \"Score\": 6.3, \"GDP per capita\": 1.004, \"Social support\": 1.439, \"Healthy life expectancy\": 0.802, \"Freedom to make life choices\": 0.39, \"Generosity\": 0.099, \"Perceptions of corruption\": 0.086, \"PCA Component 1\": -5.899286555330287, \"PCA Component 2\": 0.31104020426760537}, {\"Overall rank\": 33, \"Country or region\": \"Uruguay\", \"Score\": 6.292999999999999, \"GDP per capita\": 1.124, \"Social support\": 1.465, \"Healthy life expectancy\": 0.8909999999999999, \"Freedom to make life choices\": 0.523, \"Generosity\": 0.127, \"Perceptions of corruption\": 0.15, \"PCA Component 1\": -5.901503854375153, \"PCA Component 2\": 0.47477898691566833}, {\"Overall rank\": 34, \"Country or region\": \"Singapore\", \"Score\": 6.2620000000000005, \"GDP per capita\": 1.5719999999999998, \"Social support\": 1.463, \"Healthy life expectancy\": 1.141, \"Freedom to make life choices\": 0.556, \"Generosity\": 0.271, \"Perceptions of corruption\": 0.45299999999999996, \"PCA Component 1\": -5.951443659642345, \"PCA Component 2\": 0.9044388675550359}, {\"Overall rank\": 35, \"Country or region\": \"El Salvador\", \"Score\": 6.252999999999999, \"GDP per capita\": 0.794, \"Social support\": 1.242, \"Healthy life expectancy\": 0.789, \"Freedom to make life choices\": 0.43, \"Generosity\": 0.09300000000000001, \"Perceptions of corruption\": 0.07400000000000001, \"PCA Component 1\": -5.835479629230389, \"PCA Component 2\": 0.10073338465872105}, {\"Overall rank\": 36, \"Country or region\": \"Italy\", \"Score\": 6.223, \"GDP per capita\": 1.294, \"Social support\": 1.4880000000000002, \"Healthy life expectancy\": 1.0390000000000001, \"Freedom to make life choices\": 0.231, \"Generosity\": 0.158, \"Perceptions of corruption\": 0.03, \"PCA Component 1\": -5.867929388503542, \"PCA Component 2\": 0.5081390322827768}, {\"Overall rank\": 37, \"Country or region\": \"Bahrain\", \"Score\": 6.199, \"GDP per capita\": 1.3619999999999999, \"Social support\": 1.368, \"Healthy life expectancy\": 0.871, \"Freedom to make life choices\": 0.536, \"Generosity\": 0.255, \"Perceptions of corruption\": 0.11, \"PCA Component 1\": -5.8873265975354725, \"PCA Component 2\": 0.6820388669148348}, {\"Overall rank\": 38, \"Country or region\": \"Slovakia\", \"Score\": 6.1979999999999995, \"GDP per capita\": 1.246, \"Social support\": 1.504, \"Healthy life expectancy\": 0.8809999999999999, \"Freedom to make life choices\": 0.33399999999999996, \"Generosity\": 0.121, \"Perceptions of corruption\": 0.013999999999999999, \"PCA Component 1\": -5.842872880499666, \"PCA Component 2\": 0.5202902646565705}, {\"Overall rank\": 39, \"Country or region\": \"Trinidad & Tobago\", \"Score\": 6.192, \"GDP per capita\": 1.2309999999999999, \"Social support\": 1.4769999999999999, \"Healthy life expectancy\": 0.713, \"Freedom to make life choices\": 0.489, \"Generosity\": 0.185, \"Perceptions of corruption\": 0.016, \"PCA Component 1\": -5.851208158398492, \"PCA Component 2\": 0.5766036084054531}, {\"Overall rank\": 40, \"Country or region\": \"Poland\", \"Score\": 6.182, \"GDP per capita\": 1.206, \"Social support\": 1.4380000000000002, \"Healthy life expectancy\": 0.884, \"Freedom to make life choices\": 0.483, \"Generosity\": 0.11699999999999999, \"Perceptions of corruption\": 0.05, \"PCA Component 1\": -5.821576902232988, \"PCA Component 2\": 0.5303794410778192}, {\"Overall rank\": 41, \"Country or region\": \"Uzbekistan\", \"Score\": 6.1739999999999995, \"GDP per capita\": 0.745, \"Social support\": 1.5290000000000001, \"Healthy life expectancy\": 0.7559999999999999, \"Freedom to make life choices\": 0.631, \"Generosity\": 0.322, \"Perceptions of corruption\": 0.24, \"PCA Component 1\": -5.7036000035779875, \"PCA Component 2\": 0.2593254393043399}, {\"Overall rank\": 42, \"Country or region\": \"Lithuania\", \"Score\": 6.149, \"GDP per capita\": 1.238, \"Social support\": 1.515, \"Healthy life expectancy\": 0.818, \"Freedom to make life choices\": 0.29100000000000004, \"Generosity\": 0.043, \"Perceptions of corruption\": 0.042, \"PCA Component 1\": -5.800215679207487, \"PCA Component 2\": 0.5098683075095184}, {\"Overall rank\": 43, \"Country or region\": \"Colombia\", \"Score\": 6.125, \"GDP per capita\": 0.985, \"Social support\": 1.41, \"Healthy life expectancy\": 0.841, \"Freedom to make life choices\": 0.47, \"Generosity\": 0.099, \"Perceptions of corruption\": 0.034, \"PCA Component 1\": -5.724780853529014, \"PCA Component 2\": 0.33703914731247014}, {\"Overall rank\": 44, \"Country or region\": \"Slovenia\", \"Score\": 6.117999999999999, \"GDP per capita\": 1.258, \"Social support\": 1.5230000000000001, \"Healthy life expectancy\": 0.953, \"Freedom to make life choices\": 0.564, \"Generosity\": 0.14400000000000002, \"Perceptions of corruption\": 0.057, \"PCA Component 1\": -5.748790689188985, \"PCA Component 2\": 0.6357671946897272}, {\"Overall rank\": 45, \"Country or region\": \"Nicaragua\", \"Score\": 6.105, \"GDP per capita\": 0.6940000000000001, \"Social support\": 1.325, \"Healthy life expectancy\": 0.835, \"Freedom to make life choices\": 0.435, \"Generosity\": 0.2, \"Perceptions of corruption\": 0.127, \"PCA Component 1\": -5.654975058691968, \"PCA Component 2\": 0.07294090938118447}, {\"Overall rank\": 46, \"Country or region\": \"Kosovo\", \"Score\": 6.1, \"GDP per capita\": 0.882, \"Social support\": 1.232, \"Healthy life expectancy\": 0.758, \"Freedom to make life choices\": 0.489, \"Generosity\": 0.262, \"Perceptions of corruption\": 0.006, \"PCA Component 1\": -5.716240207944575, \"PCA Component 2\": 0.22890508136704}, {\"Overall rank\": 47, \"Country or region\": \"Argentina\", \"Score\": 6.086, \"GDP per capita\": 1.092, \"Social support\": 1.432, \"Healthy life expectancy\": 0.8809999999999999, \"Freedom to make life choices\": 0.47100000000000003, \"Generosity\": 0.066, \"Perceptions of corruption\": 0.05, \"PCA Component 1\": -5.704233745318187, \"PCA Component 2\": 0.43804466000571046}, {\"Overall rank\": 48, \"Country or region\": \"Romania\", \"Score\": 6.07, \"GDP per capita\": 1.162, \"Social support\": 1.232, \"Healthy life expectancy\": 0.825, \"Freedom to make life choices\": 0.462, \"Generosity\": 0.083, \"Perceptions of corruption\": 0.005, \"PCA Component 1\": -5.743684135998031, \"PCA Component 2\": 0.4462643696775727}, {\"Overall rank\": 49, \"Country or region\": \"Cyprus\", \"Score\": 6.046, \"GDP per capita\": 1.263, \"Social support\": 1.2229999999999999, \"Healthy life expectancy\": 1.042, \"Freedom to make life choices\": 0.406, \"Generosity\": 0.19, \"Perceptions of corruption\": 0.040999999999999995, \"PCA Component 1\": -5.726154440053462, \"PCA Component 2\": 0.5105257089864366}, {\"Overall rank\": 50, \"Country or region\": \"Ecuador\", \"Score\": 6.028, \"GDP per capita\": 0.912, \"Social support\": 1.3119999999999998, \"Healthy life expectancy\": 0.868, \"Freedom to make life choices\": 0.498, \"Generosity\": 0.126, \"Perceptions of corruption\": 0.087, \"PCA Component 1\": -5.6269690753990975, \"PCA Component 2\": 0.28105120584729004}, {\"Overall rank\": 51, \"Country or region\": \"Kuwait\", \"Score\": 6.011, \"GDP per capita\": 1.05, \"Social support\": 1.409, \"Healthy life expectancy\": 0.828, \"Freedom to make life choices\": 0.557, \"Generosity\": 0.359, \"Perceptions of corruption\": 0.027999999999999997, \"PCA Component 1\": -5.634462377234488, \"PCA Component 2\": 0.46439564451565685}, {\"Overall rank\": 52, \"Country or region\": \"Thailand\", \"Score\": 6.007999999999999, \"GDP per capita\": 1.05, \"Social support\": 1.409, \"Healthy life expectancy\": 0.828, \"Freedom to make life choices\": 0.557, \"Generosity\": 0.359, \"Perceptions of corruption\": 0.027999999999999997, \"PCA Component 1\": -5.631608241559523, \"PCA Component 2\": 0.46488685427421816}, {\"Overall rank\": 53, \"Country or region\": \"Latvia\", \"Score\": 5.94, \"GDP per capita\": 1.187, \"Social support\": 1.465, \"Healthy life expectancy\": 0.812, \"Freedom to make life choices\": 0.264, \"Generosity\": 0.075, \"Perceptions of corruption\": 0.064, \"PCA Component 1\": -5.599739898693323, \"PCA Component 2\": 0.4824555047996746}, {\"Overall rank\": 54, \"Country or region\": \"South Korea\", \"Score\": 5.895, \"GDP per capita\": 1.301, \"Social support\": 1.219, \"Healthy life expectancy\": 1.036, \"Freedom to make life choices\": 0.159, \"Generosity\": 0.175, \"Perceptions of corruption\": 0.055999999999999994, \"PCA Component 1\": -5.603460966181576, \"PCA Component 2\": 0.47576411155321574}, {\"Overall rank\": 55, \"Country or region\": \"Estonia\", \"Score\": 5.893, \"GDP per capita\": 1.237, \"Social support\": 1.528, \"Healthy life expectancy\": 0.8740000000000001, \"Freedom to make life choices\": 0.495, \"Generosity\": 0.10300000000000001, \"Perceptions of corruption\": 0.161, \"PCA Component 1\": -5.540416888288076, \"PCA Component 2\": 0.6441648503541298}, {\"Overall rank\": 56, \"Country or region\": \"Jamaica\", \"Score\": 5.89, \"GDP per capita\": 0.831, \"Social support\": 1.4780000000000002, \"Healthy life expectancy\": 0.831, \"Freedom to make life choices\": 0.49, \"Generosity\": 0.107, \"Perceptions of corruption\": 0.027999999999999997, \"PCA Component 1\": -5.45474307678126, \"PCA Component 2\": 0.26850535285964233}, {\"Overall rank\": 57, \"Country or region\": \"Mauritius\", \"Score\": 5.888, \"GDP per capita\": 1.12, \"Social support\": 1.402, \"Healthy life expectancy\": 0.7979999999999999, \"Freedom to make life choices\": 0.498, \"Generosity\": 0.215, \"Perceptions of corruption\": 0.06, \"PCA Component 1\": -5.538258835146109, \"PCA Component 2\": 0.5156243701666227}, {\"Overall rank\": 58, \"Country or region\": \"Japan\", \"Score\": 5.886, \"GDP per capita\": 1.327, \"Social support\": 1.419, \"Healthy life expectancy\": 1.088, \"Freedom to make life choices\": 0.445, \"Generosity\": 0.069, \"Perceptions of corruption\": 0.14, \"PCA Component 1\": -5.549276929983186, \"PCA Component 2\": 0.6554553790028357}, {\"Overall rank\": 59, \"Country or region\": \"Honduras\", \"Score\": 5.86, \"GDP per capita\": 0.642, \"Social support\": 1.236, \"Healthy life expectancy\": 0.828, \"Freedom to make life choices\": 0.507, \"Generosity\": 0.24600000000000002, \"Perceptions of corruption\": 0.078, \"PCA Component 1\": -5.4219434896319605, \"PCA Component 2\": 0.07067898051203056}, {\"Overall rank\": 60, \"Country or region\": \"Kazakhstan\", \"Score\": 5.809, \"GDP per capita\": 1.173, \"Social support\": 1.508, \"Healthy life expectancy\": 0.7290000000000001, \"Freedom to make life choices\": 0.41, \"Generosity\": 0.146, \"Perceptions of corruption\": 0.096, \"PCA Component 1\": -5.4694481493614955, \"PCA Component 2\": 0.5725462830660873}, {\"Overall rank\": 61, \"Country or region\": \"Bolivia\", \"Score\": 5.779, \"GDP per capita\": 0.7759999999999999, \"Social support\": 1.209, \"Healthy life expectancy\": 0.706, \"Freedom to make life choices\": 0.511, \"Generosity\": 0.13699999999999998, \"Perceptions of corruption\": 0.064, \"PCA Component 1\": -5.392067149294146, \"PCA Component 2\": 0.19285076548452962}, {\"Overall rank\": 62, \"Country or region\": \"Hungary\", \"Score\": 5.757999999999999, \"GDP per capita\": 1.2009999999999998, \"Social support\": 1.41, \"Healthy life expectancy\": 0.828, \"Freedom to make life choices\": 0.19899999999999998, \"Generosity\": 0.081, \"Perceptions of corruption\": 0.02, \"PCA Component 1\": -5.439581367129319, \"PCA Component 2\": 0.4802507586499679}, {\"Overall rank\": 63, \"Country or region\": \"Paraguay\", \"Score\": 5.742999999999999, \"GDP per capita\": 0.855, \"Social support\": 1.475, \"Healthy life expectancy\": 0.777, \"Freedom to make life choices\": 0.514, \"Generosity\": 0.184, \"Perceptions of corruption\": 0.08, \"PCA Component 1\": -5.327659738163004, \"PCA Component 2\": 0.33711794410780316}, {\"Overall rank\": 64, \"Country or region\": \"Northern Cyprus\", \"Score\": 5.718, \"GDP per capita\": 1.263, \"Social support\": 1.252, \"Healthy life expectancy\": 1.042, \"Freedom to make life choices\": 0.41700000000000004, \"Generosity\": 0.191, \"Perceptions of corruption\": 0.162, \"PCA Component 1\": -5.409352792817895, \"PCA Component 2\": 0.5893410898989541}, {\"Overall rank\": 65, \"Country or region\": \"Peru\", \"Score\": 5.697, \"GDP per capita\": 0.96, \"Social support\": 1.274, \"Healthy life expectancy\": 0.8540000000000001, \"Freedom to make life choices\": 0.455, \"Generosity\": 0.083, \"Perceptions of corruption\": 0.027000000000000003, \"PCA Component 1\": -5.331817078811, \"PCA Component 2\": 0.3417777612694602}, {\"Overall rank\": 66, \"Country or region\": \"Portugal\", \"Score\": 5.693, \"GDP per capita\": 1.2209999999999999, \"Social support\": 1.431, \"Healthy life expectancy\": 0.9990000000000001, \"Freedom to make life choices\": 0.508, \"Generosity\": 0.047, \"Perceptions of corruption\": 0.025, \"PCA Component 1\": -5.3454389002883405, \"PCA Component 2\": 0.6143085069486812}, {\"Overall rank\": 67, \"Country or region\": \"Pakistan\", \"Score\": 5.653, \"GDP per capita\": 0.677, \"Social support\": 0.8859999999999999, \"Healthy life expectancy\": 0.535, \"Freedom to make life choices\": 0.313, \"Generosity\": 0.22, \"Perceptions of corruption\": 0.098, \"PCA Component 1\": -5.329177784372775, \"PCA Component 2\": -0.006728717812975879}, {\"Overall rank\": 68, \"Country or region\": \"Russia\", \"Score\": 5.648, \"GDP per capita\": 1.183, \"Social support\": 1.452, \"Healthy life expectancy\": 0.726, \"Freedom to make life choices\": 0.33399999999999996, \"Generosity\": 0.08199999999999999, \"Perceptions of corruption\": 0.031, \"PCA Component 1\": -5.32970348799909, \"PCA Component 2\": 0.5527172313909804}, {\"Overall rank\": 69, \"Country or region\": \"Philippines\", \"Score\": 5.631, \"GDP per capita\": 0.807, \"Social support\": 1.2930000000000001, \"Healthy life expectancy\": 0.657, \"Freedom to make life choices\": 0.5579999999999999, \"Generosity\": 0.11699999999999999, \"Perceptions of corruption\": 0.107, \"PCA Component 1\": -5.248582486918293, \"PCA Component 2\": 0.2898893611798598}, {\"Overall rank\": 70, \"Country or region\": \"Serbia\", \"Score\": 5.603, \"GDP per capita\": 1.004, \"Social support\": 1.383, \"Healthy life expectancy\": 0.8540000000000001, \"Freedom to make life choices\": 0.282, \"Generosity\": 0.13699999999999998, \"Perceptions of corruption\": 0.039, \"PCA Component 1\": -5.24449574075885, \"PCA Component 2\": 0.3643149989053323}, {\"Overall rank\": 71, \"Country or region\": \"Moldova\", \"Score\": 5.529, \"GDP per capita\": 0.685, \"Social support\": 1.328, \"Healthy life expectancy\": 0.7390000000000001, \"Freedom to make life choices\": 0.245, \"Generosity\": 0.18100000000000002, \"Perceptions of corruption\": 0.0, \"PCA Component 1\": -5.123062526488644, \"PCA Component 2\": 0.08082788410561144}, {\"Overall rank\": 72, \"Country or region\": \"Libya\", \"Score\": 5.525, \"GDP per capita\": 1.044, \"Social support\": 1.3030000000000002, \"Healthy life expectancy\": 0.6729999999999999, \"Freedom to make life choices\": 0.41600000000000004, \"Generosity\": 0.133, \"Perceptions of corruption\": 0.152, \"PCA Component 1\": -5.206844981851246, \"PCA Component 2\": 0.4662532700752097}, {\"Overall rank\": 73, \"Country or region\": \"Montenegro\", \"Score\": 5.523, \"GDP per capita\": 1.051, \"Social support\": 1.361, \"Healthy life expectancy\": 0.871, \"Freedom to make life choices\": 0.19699999999999998, \"Generosity\": 0.142, \"Perceptions of corruption\": 0.08, \"PCA Component 1\": -5.184919668122215, \"PCA Component 2\": 0.3842207434984506}, {\"Overall rank\": 74, \"Country or region\": \"Tajikistan\", \"Score\": 5.4670000000000005, \"GDP per capita\": 0.493, \"Social support\": 1.0979999999999999, \"Healthy life expectancy\": 0.718, \"Freedom to make life choices\": 0.389, \"Generosity\": 0.23, \"Perceptions of corruption\": 0.14400000000000002, \"PCA Component 1\": -5.052052228582175, \"PCA Component 2\": -0.05910463083038911}, {\"Overall rank\": 75, \"Country or region\": \"Croatia\", \"Score\": 5.432, \"GDP per capita\": 1.155, \"Social support\": 1.266, \"Healthy life expectancy\": 0.914, \"Freedom to make life choices\": 0.29600000000000004, \"Generosity\": 0.11900000000000001, \"Perceptions of corruption\": 0.022000000000000002, \"PCA Component 1\": -5.127812747307567, \"PCA Component 2\": 0.48976188740336785}, {\"Overall rank\": 76, \"Country or region\": \"Hong Kong\", \"Score\": 5.43, \"GDP per capita\": 1.4380000000000002, \"Social support\": 1.2770000000000001, \"Healthy life expectancy\": 1.122, \"Freedom to make life choices\": 0.44, \"Generosity\": 0.258, \"Perceptions of corruption\": 0.287, \"PCA Component 1\": -5.164128729745677, \"PCA Component 2\": 0.8156567180458585}, {\"Overall rank\": 77, \"Country or region\": \"Dominican Republic\", \"Score\": 5.425, \"GDP per capita\": 1.015, \"Social support\": 1.401, \"Healthy life expectancy\": 0.779, \"Freedom to make life choices\": 0.49700000000000005, \"Generosity\": 0.113, \"Perceptions of corruption\": 0.10099999999999999, \"PCA Component 1\": -5.073498944513501, \"PCA Component 2\": 0.4982948040167973}, {\"Overall rank\": 78, \"Country or region\": \"Bosnia and Herzegovina\", \"Score\": 5.386, \"GDP per capita\": 0.945, \"Social support\": 1.212, \"Healthy life expectancy\": 0.845, \"Freedom to make life choices\": 0.212, \"Generosity\": 0.263, \"Perceptions of corruption\": 0.006, \"PCA Component 1\": -5.057406143407038, \"PCA Component 2\": 0.2853446796455304}, {\"Overall rank\": 79, \"Country or region\": \"Turkey\", \"Score\": 5.372999999999999, \"GDP per capita\": 1.183, \"Social support\": 1.36, \"Healthy life expectancy\": 0.8079999999999999, \"Freedom to make life choices\": 0.195, \"Generosity\": 0.083, \"Perceptions of corruption\": 0.106, \"PCA Component 1\": -5.07952892640411, \"PCA Component 2\": 0.5244765043996633}, {\"Overall rank\": 80, \"Country or region\": \"Malaysia\", \"Score\": 5.3389999999999995, \"GDP per capita\": 1.2209999999999999, \"Social support\": 1.171, \"Healthy life expectancy\": 0.828, \"Freedom to make life choices\": 0.508, \"Generosity\": 0.26, \"Perceptions of corruption\": 0.024, \"PCA Component 1\": -5.072760843921914, \"PCA Component 2\": 0.6338035748725173}, {\"Overall rank\": 81, \"Country or region\": \"Belarus\", \"Score\": 5.3229999999999995, \"GDP per capita\": 1.067, \"Social support\": 1.465, \"Healthy life expectancy\": 0.789, \"Freedom to make life choices\": 0.235, \"Generosity\": 0.094, \"Perceptions of corruption\": 0.142, \"PCA Component 1\": -4.988931018744519, \"PCA Component 2\": 0.48100372496841187}, {\"Overall rank\": 82, \"Country or region\": \"Greece\", \"Score\": 5.287000000000001, \"GDP per capita\": 1.181, \"Social support\": 1.156, \"Healthy life expectancy\": 0.9990000000000001, \"Freedom to make life choices\": 0.067, \"Generosity\": 0.0, \"Perceptions of corruption\": 0.034, \"PCA Component 1\": -5.011424059797122, \"PCA Component 2\": 0.40789868047403927}, {\"Overall rank\": 83, \"Country or region\": \"Mongolia\", \"Score\": 5.285, \"GDP per capita\": 0.948, \"Social support\": 1.531, \"Healthy life expectancy\": 0.667, \"Freedom to make life choices\": 0.317, \"Generosity\": 0.235, \"Perceptions of corruption\": 0.038, \"PCA Component 1\": -4.927172161753342, \"PCA Component 2\": 0.4406152887700674}, {\"Overall rank\": 84, \"Country or region\": \"North Macedonia\", \"Score\": 5.274, \"GDP per capita\": 0.983, \"Social support\": 1.294, \"Healthy life expectancy\": 0.838, \"Freedom to make life choices\": 0.345, \"Generosity\": 0.185, \"Perceptions of corruption\": 0.034, \"PCA Component 1\": -4.940388781787957, \"PCA Component 2\": 0.404865826600529}, {\"Overall rank\": 85, \"Country or region\": \"Nigeria\", \"Score\": 5.265, \"GDP per capita\": 0.696, \"Social support\": 1.111, \"Healthy life expectancy\": 0.245, \"Freedom to make life choices\": 0.426, \"Generosity\": 0.215, \"Perceptions of corruption\": 0.040999999999999995, \"PCA Component 1\": -4.956914035739231, \"PCA Component 2\": 0.18804397589044777}, {\"Overall rank\": 86, \"Country or region\": \"Kyrgyzstan\", \"Score\": 5.261, \"GDP per capita\": 0.551, \"Social support\": 1.4380000000000002, \"Healthy life expectancy\": 0.723, \"Freedom to make life choices\": 0.508, \"Generosity\": 0.3, \"Perceptions of corruption\": 0.023, \"PCA Component 1\": -4.811884339793919, \"PCA Component 2\": 0.14873915054977652}, {\"Overall rank\": 87, \"Country or region\": \"Turkmenistan\", \"Score\": 5.247000000000001, \"GDP per capita\": 1.052, \"Social support\": 1.538, \"Healthy life expectancy\": 0.657, \"Freedom to make life choices\": 0.39399999999999996, \"Generosity\": 0.244, \"Perceptions of corruption\": 0.027999999999999997, \"PCA Component 1\": -4.912255447045081, \"PCA Component 2\": 0.5673580619392005}, {\"Overall rank\": 88, \"Country or region\": \"Algeria\", \"Score\": 5.211, \"GDP per capita\": 1.002, \"Social support\": 1.16, \"Healthy life expectancy\": 0.785, \"Freedom to make life choices\": 0.086, \"Generosity\": 0.073, \"Perceptions of corruption\": 0.114, \"PCA Component 1\": -4.9213243429924205, \"PCA Component 2\": 0.3042733995102229}, {\"Overall rank\": 89, \"Country or region\": \"Morocco\", \"Score\": 5.207999999999999, \"GDP per capita\": 0.8009999999999999, \"Social support\": 0.782, \"Healthy life expectancy\": 0.782, \"Freedom to make life choices\": 0.418, \"Generosity\": 0.036000000000000004, \"Perceptions of corruption\": 0.076, \"PCA Component 1\": -4.914982191127601, \"PCA Component 2\": 0.15055923678785563}, {\"Overall rank\": 90, \"Country or region\": \"Azerbaijan\", \"Score\": 5.207999999999999, \"GDP per capita\": 1.043, \"Social support\": 1.147, \"Healthy life expectancy\": 0.769, \"Freedom to make life choices\": 0.35100000000000003, \"Generosity\": 0.035, \"Perceptions of corruption\": 0.182, \"PCA Component 1\": -4.919562576878258, \"PCA Component 2\": 0.44136693430622087}, {\"Overall rank\": 91, \"Country or region\": \"Lebanon\", \"Score\": 5.197, \"GDP per capita\": 0.987, \"Social support\": 1.224, \"Healthy life expectancy\": 0.815, \"Freedom to make life choices\": 0.21600000000000003, \"Generosity\": 0.166, \"Perceptions of corruption\": 0.027000000000000003, \"PCA Component 1\": -4.886955045853986, \"PCA Component 2\": 0.3540911473800795}, {\"Overall rank\": 92, \"Country or region\": \"Indonesia\", \"Score\": 5.192, \"GDP per capita\": 0.9309999999999999, \"Social support\": 1.203, \"Healthy life expectancy\": 0.66, \"Freedom to make life choices\": 0.491, \"Generosity\": 0.498, \"Perceptions of corruption\": 0.027999999999999997, \"PCA Component 1\": -4.884110397739282, \"PCA Component 2\": 0.4409484135595846}, {\"Overall rank\": 93, \"Country or region\": \"China\", \"Score\": 5.191, \"GDP per capita\": 1.0290000000000001, \"Social support\": 1.125, \"Healthy life expectancy\": 0.893, \"Freedom to make life choices\": 0.521, \"Generosity\": 0.057999999999999996, \"Perceptions of corruption\": 0.1, \"PCA Component 1\": -4.882236934342519, \"PCA Component 2\": 0.47345859057435086}, {\"Overall rank\": 94, \"Country or region\": \"Vietnam\", \"Score\": 5.175, \"GDP per capita\": 0.741, \"Social support\": 1.3459999999999999, \"Healthy life expectancy\": 0.851, \"Freedom to make life choices\": 0.5429999999999999, \"Generosity\": 0.147, \"Perceptions of corruption\": 0.073, \"PCA Component 1\": -4.7702075697738096, \"PCA Component 2\": 0.30020199887198695}, {\"Overall rank\": 95, \"Country or region\": \"Bhutan\", \"Score\": 5.082, \"GDP per capita\": 0.813, \"Social support\": 1.321, \"Healthy life expectancy\": 0.604, \"Freedom to make life choices\": 0.457, \"Generosity\": 0.37, \"Perceptions of corruption\": 0.16699999999999998, \"PCA Component 1\": -4.738886316405303, \"PCA Component 2\": 0.3846695713772344}, {\"Overall rank\": 96, \"Country or region\": \"Cameroon\", \"Score\": 5.044, \"GDP per capita\": 0.5489999999999999, \"Social support\": 0.91, \"Healthy life expectancy\": 0.331, \"Freedom to make life choices\": 0.381, \"Generosity\": 0.187, \"Perceptions of corruption\": 0.037000000000000005, \"PCA Component 1\": -4.735188152060977, \"PCA Component 2\": 0.01976072560416755}, {\"Overall rank\": 97, \"Country or region\": \"Bulgaria\", \"Score\": 5.011, \"GDP per capita\": 1.092, \"Social support\": 1.5130000000000001, \"Healthy life expectancy\": 0.815, \"Freedom to make life choices\": 0.311, \"Generosity\": 0.081, \"Perceptions of corruption\": 0.004, \"PCA Component 1\": -4.683628448119733, \"PCA Component 2\": 0.5762237170373182}, {\"Overall rank\": 98, \"Country or region\": \"Ghana\", \"Score\": 4.996, \"GDP per capita\": 0.611, \"Social support\": 0.868, \"Healthy life expectancy\": 0.486, \"Freedom to make life choices\": 0.381, \"Generosity\": 0.245, \"Perceptions of corruption\": 0.04, \"PCA Component 1\": -4.694291483732902, \"PCA Component 2\": 0.0637303919531684}, {\"Overall rank\": 99, \"Country or region\": \"Ivory Coast\", \"Score\": 4.944, \"GDP per capita\": 0.569, \"Social support\": 0.8079999999999999, \"Healthy life expectancy\": 0.23199999999999998, \"Freedom to make life choices\": 0.35200000000000004, \"Generosity\": 0.154, \"Perceptions of corruption\": 0.09, \"PCA Component 1\": -4.672625741326535, \"PCA Component 2\": 0.026670593512363144}, {\"Overall rank\": 100, \"Country or region\": \"Nepal\", \"Score\": 4.913, \"GDP per capita\": 0.446, \"Social support\": 1.226, \"Healthy life expectancy\": 0.677, \"Freedom to make life choices\": 0.439, \"Generosity\": 0.285, \"Perceptions of corruption\": 0.08900000000000001, \"PCA Component 1\": -4.497319009646611, \"PCA Component 2\": 0.04404834889780243}, {\"Overall rank\": 101, \"Country or region\": \"Jordan\", \"Score\": 4.906000000000001, \"GDP per capita\": 0.8370000000000001, \"Social support\": 1.225, \"Healthy life expectancy\": 0.815, \"Freedom to make life choices\": 0.38299999999999995, \"Generosity\": 0.11, \"Perceptions of corruption\": 0.13, \"PCA Component 1\": -4.566344062945944, \"PCA Component 2\": 0.3420548216087028}, {\"Overall rank\": 102, \"Country or region\": \"Benin\", \"Score\": 4.883, \"GDP per capita\": 0.39299999999999996, \"Social support\": 0.43700000000000006, \"Healthy life expectancy\": 0.397, \"Freedom to make life choices\": 0.349, \"Generosity\": 0.175, \"Perceptions of corruption\": 0.08199999999999999, \"PCA Component 1\": -4.61300187450064, \"PCA Component 2\": -0.22357600013367382}, {\"Overall rank\": 103, \"Country or region\": \"Congo (Brazzaville)\", \"Score\": 4.812, \"GDP per capita\": 0.6729999999999999, \"Social support\": 0.799, \"Healthy life expectancy\": 0.508, \"Freedom to make life choices\": 0.37200000000000005, \"Generosity\": 0.105, \"Perceptions of corruption\": 0.09300000000000001, \"PCA Component 1\": -4.539874231792193, \"PCA Component 2\": 0.11949355028442103}, {\"Overall rank\": 104, \"Country or region\": \"Gabon\", \"Score\": 4.7989999999999995, \"GDP per capita\": 1.057, \"Social support\": 1.183, \"Healthy life expectancy\": 0.5710000000000001, \"Freedom to make life choices\": 0.295, \"Generosity\": 0.043, \"Perceptions of corruption\": 0.055, \"PCA Component 1\": -4.552887316910471, \"PCA Component 2\": 0.5098064794630222}, {\"Overall rank\": 105, \"Country or region\": \"Laos\", \"Score\": 4.796, \"GDP per capita\": 0.764, \"Social support\": 1.03, \"Healthy life expectancy\": 0.551, \"Freedom to make life choices\": 0.547, \"Generosity\": 0.266, \"Perceptions of corruption\": 0.16399999999999998, \"PCA Component 1\": -4.500648971736627, \"PCA Component 2\": 0.34291759534380317}, {\"Overall rank\": 106, \"Country or region\": \"South Africa\", \"Score\": 4.7219999999999995, \"GDP per capita\": 0.96, \"Social support\": 1.351, \"Healthy life expectancy\": 0.469, \"Freedom to make life choices\": 0.389, \"Generosity\": 0.13, \"Perceptions of corruption\": 0.055, \"PCA Component 1\": -4.439631316802933, \"PCA Component 2\": 0.5315523681654147}, {\"Overall rank\": 107, \"Country or region\": \"Albania\", \"Score\": 4.718999999999999, \"GDP per capita\": 0.9470000000000001, \"Social support\": 0.848, \"Healthy life expectancy\": 0.8740000000000001, \"Freedom to make life choices\": 0.38299999999999995, \"Generosity\": 0.17800000000000002, \"Perceptions of corruption\": 0.027000000000000003, \"PCA Component 1\": -4.467642958986674, \"PCA Component 2\": 0.35941538367620246}, {\"Overall rank\": 108, \"Country or region\": \"Venezuela\", \"Score\": 4.707, \"GDP per capita\": 0.96, \"Social support\": 1.4269999999999998, \"Healthy life expectancy\": 0.805, \"Freedom to make life choices\": 0.154, \"Generosity\": 0.064, \"Perceptions of corruption\": 0.047, \"PCA Component 1\": -4.384653043888185, \"PCA Component 2\": 0.43552717802513485}, {\"Overall rank\": 109, \"Country or region\": \"Cambodia\", \"Score\": 4.7, \"GDP per capita\": 0.574, \"Social support\": 1.122, \"Healthy life expectancy\": 0.637, \"Freedom to make life choices\": 0.609, \"Generosity\": 0.23199999999999998, \"Perceptions of corruption\": 0.062, \"PCA Component 1\": -4.336894559017421, \"PCA Component 2\": 0.2215726906373994}, {\"Overall rank\": 110, \"Country or region\": \"Palestinian Territories\", \"Score\": 4.696000000000001, \"GDP per capita\": 0.657, \"Social support\": 1.247, \"Healthy life expectancy\": 0.672, \"Freedom to make life choices\": 0.225, \"Generosity\": 0.10300000000000001, \"Perceptions of corruption\": 0.066, \"PCA Component 1\": -4.343693894583424, \"PCA Component 2\": 0.17078883293814864}, {\"Overall rank\": 111, \"Country or region\": \"Senegal\", \"Score\": 4.681, \"GDP per capita\": 0.45, \"Social support\": 1.1340000000000001, \"Healthy life expectancy\": 0.5710000000000001, \"Freedom to make life choices\": 0.292, \"Generosity\": 0.153, \"Perceptions of corruption\": 0.07200000000000001, \"PCA Component 1\": -4.307801141102671, \"PCA Component 2\": 0.0024128789538096196}, {\"Overall rank\": 112, \"Country or region\": \"Somalia\", \"Score\": 4.668, \"GDP per capita\": 0.0, \"Social support\": 0.698, \"Healthy life expectancy\": 0.268, \"Freedom to make life choices\": 0.5589999999999999, \"Generosity\": 0.243, \"Perceptions of corruption\": 0.27, \"PCA Component 1\": -4.282201811287383, \"PCA Component 2\": -0.3457251632122654}, {\"Overall rank\": 113, \"Country or region\": \"Namibia\", \"Score\": 4.638999999999999, \"GDP per capita\": 0.879, \"Social support\": 1.3130000000000002, \"Healthy life expectancy\": 0.47700000000000004, \"Freedom to make life choices\": 0.401, \"Generosity\": 0.07, \"Perceptions of corruption\": 0.055999999999999994, \"PCA Component 1\": -4.344931595542259, \"PCA Component 2\": 0.4648159845484286}, {\"Overall rank\": 114, \"Country or region\": \"Niger\", \"Score\": 4.628, \"GDP per capita\": 0.138, \"Social support\": 0.774, \"Healthy life expectancy\": 0.366, \"Freedom to make life choices\": 0.318, \"Generosity\": 0.188, \"Perceptions of corruption\": 0.102, \"PCA Component 1\": -4.262960373900064, \"PCA Component 2\": -0.320461899803115}, {\"Overall rank\": 115, \"Country or region\": \"Burkina Faso\", \"Score\": 4.587, \"GDP per capita\": 0.331, \"Social support\": 1.056, \"Healthy life expectancy\": 0.38, \"Freedom to make life choices\": 0.255, \"Generosity\": 0.177, \"Perceptions of corruption\": 0.113, \"PCA Component 1\": -4.226346720086535, \"PCA Component 2\": -0.0984696866102031}, {\"Overall rank\": 116, \"Country or region\": \"Armenia\", \"Score\": 4.559, \"GDP per capita\": 0.85, \"Social support\": 1.055, \"Healthy life expectancy\": 0.815, \"Freedom to make life choices\": 0.28300000000000003, \"Generosity\": 0.095, \"Perceptions of corruption\": 0.064, \"PCA Component 1\": -4.269839564939004, \"PCA Component 2\": 0.3202577472761584}, {\"Overall rank\": 117, \"Country or region\": \"Iran\", \"Score\": 4.548, \"GDP per capita\": 1.1, \"Social support\": 0.8420000000000001, \"Healthy life expectancy\": 0.785, \"Freedom to make life choices\": 0.305, \"Generosity\": 0.27, \"Perceptions of corruption\": 0.125, \"PCA Component 1\": -4.357425282342185, \"PCA Component 2\": 0.5131595131223922}, {\"Overall rank\": 118, \"Country or region\": \"Guinea\", \"Score\": 4.534, \"GDP per capita\": 0.38, \"Social support\": 0.8290000000000001, \"Healthy life expectancy\": 0.375, \"Freedom to make life choices\": 0.332, \"Generosity\": 0.207, \"Perceptions of corruption\": 0.086, \"PCA Component 1\": -4.220574698667472, \"PCA Component 2\": -0.07791864203792838}, {\"Overall rank\": 119, \"Country or region\": \"Georgia\", \"Score\": 4.519, \"GDP per capita\": 0.8859999999999999, \"Social support\": 0.6659999999999999, \"Healthy life expectancy\": 0.752, \"Freedom to make life choices\": 0.34600000000000003, \"Generosity\": 0.043, \"Perceptions of corruption\": 0.16399999999999998, \"PCA Component 1\": -4.3045062882453005, \"PCA Component 2\": 0.29223667384529145}, {\"Overall rank\": 120, \"Country or region\": \"Gambia\", \"Score\": 4.516, \"GDP per capita\": 0.308, \"Social support\": 0.9390000000000001, \"Healthy life expectancy\": 0.428, \"Freedom to make life choices\": 0.382, \"Generosity\": 0.26899999999999996, \"Perceptions of corruption\": 0.16699999999999998, \"PCA Component 1\": -4.162501937054657, \"PCA Component 2\": -0.0799717821912283}, {\"Overall rank\": 121, \"Country or region\": \"Kenya\", \"Score\": 4.5089999999999995, \"GDP per capita\": 0.512, \"Social support\": 0.983, \"Healthy life expectancy\": 0.581, \"Freedom to make life choices\": 0.431, \"Generosity\": 0.37200000000000005, \"Perceptions of corruption\": 0.053, \"PCA Component 1\": -4.1792777904327165, \"PCA Component 2\": 0.11092848143076726}, {\"Overall rank\": 122, \"Country or region\": \"Mauritania\", \"Score\": 4.49, \"GDP per capita\": 0.57, \"Social support\": 1.167, \"Healthy life expectancy\": 0.489, \"Freedom to make life choices\": 0.066, \"Generosity\": 0.106, \"Perceptions of corruption\": 0.08800000000000001, \"PCA Component 1\": -4.1675962544086165, \"PCA Component 2\": 0.0654819026172958}, {\"Overall rank\": 123, \"Country or region\": \"Mozambique\", \"Score\": 4.466, \"GDP per capita\": 0.204, \"Social support\": 0.986, \"Healthy life expectancy\": 0.39, \"Freedom to make life choices\": 0.494, \"Generosity\": 0.19699999999999998, \"Perceptions of corruption\": 0.138, \"PCA Component 1\": -4.080967390224351, \"PCA Component 2\": -0.11352261975951276}, {\"Overall rank\": 124, \"Country or region\": \"Tunisia\", \"Score\": 4.461, \"GDP per capita\": 0.9209999999999999, \"Social support\": 1.0, \"Healthy life expectancy\": 0.815, \"Freedom to make life choices\": 0.16699999999999998, \"Generosity\": 0.059000000000000004, \"Perceptions of corruption\": 0.055, \"PCA Component 1\": -4.2063311296595, \"PCA Component 2\": 0.33620355045367856}, {\"Overall rank\": 125, \"Country or region\": \"Bangladesh\", \"Score\": 4.456, \"GDP per capita\": 0.562, \"Social support\": 0.9279999999999999, \"Healthy life expectancy\": 0.723, \"Freedom to make life choices\": 0.527, \"Generosity\": 0.166, \"Perceptions of corruption\": 0.14300000000000002, \"PCA Component 1\": -4.12502858328223, \"PCA Component 2\": 0.16793170270735663}, {\"Overall rank\": 126, \"Country or region\": \"Iraq\", \"Score\": 4.437, \"GDP per capita\": 1.043, \"Social support\": 0.98, \"Healthy life expectancy\": 0.574, \"Freedom to make life choices\": 0.24100000000000002, \"Generosity\": 0.14800000000000002, \"Perceptions of corruption\": 0.08900000000000001, \"PCA Component 1\": -4.241089491517356, \"PCA Component 2\": 0.49598065136953345}, {\"Overall rank\": 127, \"Country or region\": \"Congo (Kinshasa)\", \"Score\": 4.418, \"GDP per capita\": 0.094, \"Social support\": 1.125, \"Healthy life expectancy\": 0.35700000000000004, \"Freedom to make life choices\": 0.26899999999999996, \"Generosity\": 0.212, \"Perceptions of corruption\": 0.053, \"PCA Component 1\": -4.001572279115882, \"PCA Component 2\": -0.25429323287843797}, {\"Overall rank\": 128, \"Country or region\": \"Mali\", \"Score\": 4.39, \"GDP per capita\": 0.385, \"Social support\": 1.105, \"Healthy life expectancy\": 0.308, \"Freedom to make life choices\": 0.327, \"Generosity\": 0.153, \"Perceptions of corruption\": 0.052000000000000005, \"PCA Component 1\": -4.04831668566375, \"PCA Component 2\": 0.01651651342682241}, {\"Overall rank\": 129, \"Country or region\": \"Sierra Leone\", \"Score\": 4.374, \"GDP per capita\": 0.268, \"Social support\": 0.841, \"Healthy life expectancy\": 0.242, \"Freedom to make life choices\": 0.309, \"Generosity\": 0.252, \"Perceptions of corruption\": 0.045, \"PCA Component 1\": -4.056986156288468, \"PCA Component 2\": -0.145115616557049}, {\"Overall rank\": 130, \"Country or region\": \"Sri Lanka\", \"Score\": 4.3660000000000005, \"GDP per capita\": 0.9490000000000001, \"Social support\": 1.265, \"Healthy life expectancy\": 0.831, \"Freedom to make life choices\": 0.47, \"Generosity\": 0.244, \"Perceptions of corruption\": 0.047, \"PCA Component 1\": -4.0694834786821845, \"PCA Component 2\": 0.5698768285248704}, {\"Overall rank\": 131, \"Country or region\": \"Myanmar\", \"Score\": 4.36, \"GDP per capita\": 0.71, \"Social support\": 1.181, \"Healthy life expectancy\": 0.555, \"Freedom to make life choices\": 0.525, \"Generosity\": 0.5660000000000001, \"Perceptions of corruption\": 0.172, \"PCA Component 1\": -4.055993679448245, \"PCA Component 2\": 0.42252429010453396}, {\"Overall rank\": 132, \"Country or region\": \"Chad\", \"Score\": 4.35, \"GDP per capita\": 0.35, \"Social support\": 0.7659999999999999, \"Healthy life expectancy\": 0.192, \"Freedom to make life choices\": 0.174, \"Generosity\": 0.198, \"Perceptions of corruption\": 0.078, \"PCA Component 1\": -4.075820698563776, \"PCA Component 2\": -0.13716664040978863}, {\"Overall rank\": 133, \"Country or region\": \"Ukraine\", \"Score\": 4.332, \"GDP per capita\": 0.82, \"Social support\": 1.39, \"Healthy life expectancy\": 0.7390000000000001, \"Freedom to make life choices\": 0.17800000000000002, \"Generosity\": 0.187, \"Perceptions of corruption\": 0.01, \"PCA Component 1\": -4.009458470930503, \"PCA Component 2\": 0.3858478576329644}, {\"Overall rank\": 134, \"Country or region\": \"Ethiopia\", \"Score\": 4.2860000000000005, \"GDP per capita\": 0.336, \"Social support\": 1.033, \"Healthy life expectancy\": 0.532, \"Freedom to make life choices\": 0.344, \"Generosity\": 0.209, \"Perceptions of corruption\": 0.1, \"PCA Component 1\": -3.9242118687847767, \"PCA Component 2\": -0.027665107344849095}, {\"Overall rank\": 135, \"Country or region\": \"Eswatini\", \"Score\": 4.212, \"GDP per capita\": 0.8109999999999999, \"Social support\": 1.149, \"Healthy life expectancy\": 0.0, \"Freedom to make life choices\": 0.313, \"Generosity\": 0.07400000000000001, \"Perceptions of corruption\": 0.135, \"PCA Component 1\": -4.006377859427319, \"PCA Component 2\": 0.44463099211844215}, {\"Overall rank\": 136, \"Country or region\": \"Uganda\", \"Score\": 4.189, \"GDP per capita\": 0.332, \"Social support\": 1.069, \"Healthy life expectancy\": 0.44299999999999995, \"Freedom to make life choices\": 0.35600000000000004, \"Generosity\": 0.252, \"Perceptions of corruption\": 0.06, \"PCA Component 1\": -3.835653023272183, \"PCA Component 2\": 0.003957040892282255}, {\"Overall rank\": 137, \"Country or region\": \"Egypt\", \"Score\": 4.166, \"GDP per capita\": 0.9129999999999999, \"Social support\": 1.0390000000000001, \"Healthy life expectancy\": 0.644, \"Freedom to make life choices\": 0.24100000000000002, \"Generosity\": 0.076, \"Perceptions of corruption\": 0.067, \"PCA Component 1\": -3.9340976714566094, \"PCA Component 2\": 0.43042936494013845}, {\"Overall rank\": 138, \"Country or region\": \"Zambia\", \"Score\": 4.107, \"GDP per capita\": 0.578, \"Social support\": 1.058, \"Healthy life expectancy\": 0.426, \"Freedom to make life choices\": 0.431, \"Generosity\": 0.247, \"Perceptions of corruption\": 0.087, \"PCA Component 1\": -3.815775093073318, \"PCA Component 2\": 0.2584472601262359}, {\"Overall rank\": 139, \"Country or region\": \"Togo\", \"Score\": 4.085, \"GDP per capita\": 0.275, \"Social support\": 0.5720000000000001, \"Healthy life expectancy\": 0.41, \"Freedom to make life choices\": 0.293, \"Generosity\": 0.177, \"Perceptions of corruption\": 0.085, \"PCA Component 1\": -3.8060254174943373, \"PCA Component 2\": -0.18103188159703626}, {\"Overall rank\": 140, \"Country or region\": \"India\", \"Score\": 4.015, \"GDP per capita\": 0.755, \"Social support\": 0.765, \"Healthy life expectancy\": 0.588, \"Freedom to make life choices\": 0.498, \"Generosity\": 0.2, \"Perceptions of corruption\": 0.085, \"PCA Component 1\": -3.793427983385889, \"PCA Component 2\": 0.3595404470800946}, {\"Overall rank\": 141, \"Country or region\": \"Liberia\", \"Score\": 3.975, \"GDP per capita\": 0.073, \"Social support\": 0.922, \"Healthy life expectancy\": 0.44299999999999995, \"Freedom to make life choices\": 0.37, \"Generosity\": 0.233, \"Perceptions of corruption\": 0.033, \"PCA Component 1\": -3.5930308079434883, \"PCA Component 2\": -0.221619211307636}, {\"Overall rank\": 142, \"Country or region\": \"Comoros\", \"Score\": 3.9730000000000003, \"GDP per capita\": 0.27399999999999997, \"Social support\": 0.757, \"Healthy life expectancy\": 0.505, \"Freedom to make life choices\": 0.142, \"Generosity\": 0.275, \"Perceptions of corruption\": 0.078, \"PCA Component 1\": -3.6682319076892513, \"PCA Component 2\": -0.17206814328713244}, {\"Overall rank\": 143, \"Country or region\": \"Madagascar\", \"Score\": 3.9330000000000003, \"GDP per capita\": 0.27399999999999997, \"Social support\": 0.9159999999999999, \"Healthy life expectancy\": 0.555, \"Freedom to make life choices\": 0.14800000000000002, \"Generosity\": 0.16899999999999998, \"Perceptions of corruption\": 0.040999999999999995, \"PCA Component 1\": -3.5972714764385745, \"PCA Component 2\": -0.13806711534865154}, {\"Overall rank\": 144, \"Country or region\": \"Lesotho\", \"Score\": 3.802, \"GDP per capita\": 0.489, \"Social support\": 1.169, \"Healthy life expectancy\": 0.168, \"Freedom to make life choices\": 0.359, \"Generosity\": 0.107, \"Perceptions of corruption\": 0.09300000000000001, \"PCA Component 1\": -3.5169614651235785, \"PCA Component 2\": 0.24215272863321124}, {\"Overall rank\": 145, \"Country or region\": \"Burundi\", \"Score\": 3.775, \"GDP per capita\": 0.046, \"Social support\": 0.447, \"Healthy life expectancy\": 0.38, \"Freedom to make life choices\": 0.22, \"Generosity\": 0.17600000000000002, \"Perceptions of corruption\": 0.18, \"PCA Component 1\": -3.4835576467939626, \"PCA Component 2\": -0.37467302221996}, {\"Overall rank\": 146, \"Country or region\": \"Zimbabwe\", \"Score\": 3.6630000000000003, \"GDP per capita\": 0.366, \"Social support\": 1.114, \"Healthy life expectancy\": 0.433, \"Freedom to make life choices\": 0.361, \"Generosity\": 0.151, \"Perceptions of corruption\": 0.08900000000000001, \"PCA Component 1\": -3.3351846386393005, \"PCA Component 2\": 0.12902528989001175}, {\"Overall rank\": 147, \"Country or region\": \"Haiti\", \"Score\": 3.597, \"GDP per capita\": 0.32299999999999995, \"Social support\": 0.688, \"Healthy life expectancy\": 0.449, \"Freedom to make life choices\": 0.026000000000000002, \"Generosity\": 0.419, \"Perceptions of corruption\": 0.11, \"PCA Component 1\": -3.3471977790047207, \"PCA Component 2\": -0.1106049776301899}, {\"Overall rank\": 148, \"Country or region\": \"Botswana\", \"Score\": 3.488, \"GDP per capita\": 1.041, \"Social support\": 1.145, \"Healthy life expectancy\": 0.5379999999999999, \"Freedom to make life choices\": 0.455, \"Generosity\": 0.025, \"Perceptions of corruption\": 0.1, \"PCA Component 1\": -3.3041534137157473, \"PCA Component 2\": 0.7665177314679076}, {\"Overall rank\": 149, \"Country or region\": \"Syria\", \"Score\": 3.4619999999999997, \"GDP per capita\": 0.619, \"Social support\": 0.37799999999999995, \"Healthy life expectancy\": 0.44, \"Freedom to make life choices\": 0.013000000000000001, \"Generosity\": 0.331, \"Perceptions of corruption\": 0.141, \"PCA Component 1\": -3.3367420112014483, \"PCA Component 2\": 0.0788162909314919}, {\"Overall rank\": 150, \"Country or region\": \"Malawi\", \"Score\": 3.41, \"GDP per capita\": 0.191, \"Social support\": 0.56, \"Healthy life expectancy\": 0.495, \"Freedom to make life choices\": 0.44299999999999995, \"Generosity\": 0.218, \"Perceptions of corruption\": 0.08900000000000001, \"PCA Component 1\": -3.130490804309838, \"PCA Component 2\": -0.09264816981970693}, {\"Overall rank\": 151, \"Country or region\": \"Yemen\", \"Score\": 3.38, \"GDP per capita\": 0.287, \"Social support\": 1.163, \"Healthy life expectancy\": 0.46299999999999997, \"Freedom to make life choices\": 0.14300000000000002, \"Generosity\": 0.10800000000000001, \"Perceptions of corruption\": 0.077, \"PCA Component 1\": -3.0451429399059764, \"PCA Component 2\": 0.031762873630689734}, {\"Overall rank\": 152, \"Country or region\": \"Rwanda\", \"Score\": 3.3339999999999996, \"GDP per capita\": 0.359, \"Social support\": 0.711, \"Healthy life expectancy\": 0.614, \"Freedom to make life choices\": 0.555, \"Generosity\": 0.217, \"Perceptions of corruption\": 0.41100000000000003, \"PCA Component 1\": -3.056339403371753, \"PCA Component 2\": 0.17248577209976476}, {\"Overall rank\": 153, \"Country or region\": \"Tanzania\", \"Score\": 3.2310000000000003, \"GDP per capita\": 0.47600000000000003, \"Social support\": 0.885, \"Healthy life expectancy\": 0.499, \"Freedom to make life choices\": 0.41700000000000004, \"Generosity\": 0.276, \"Perceptions of corruption\": 0.147, \"PCA Component 1\": -2.9784513874744794, \"PCA Component 2\": 0.2674917206383055}, {\"Overall rank\": 154, \"Country or region\": \"Afghanistan\", \"Score\": 3.2030000000000003, \"GDP per capita\": 0.35, \"Social support\": 0.517, \"Healthy life expectancy\": 0.361, \"Freedom to make life choices\": 0.0, \"Generosity\": 0.158, \"Perceptions of corruption\": 0.025, \"PCA Component 1\": -3.011216764463683, \"PCA Component 2\": -0.10006640392584264}, {\"Overall rank\": 155, \"Country or region\": \"Central African Republic\", \"Score\": 3.083, \"GDP per capita\": 0.026000000000000002, \"Social support\": 0.0, \"Healthy life expectancy\": 0.105, \"Freedom to make life choices\": 0.225, \"Generosity\": 0.235, \"Perceptions of corruption\": 0.035, \"PCA Component 1\": -2.922025637692728, \"PCA Component 2\": -0.3839835601807006}, {\"Overall rank\": 156, \"Country or region\": \"South Sudan\", \"Score\": 2.853, \"GDP per capita\": 0.306, \"Social support\": 0.575, \"Healthy life expectancy\": 0.295, \"Freedom to make life choices\": 0.01, \"Generosity\": 0.20199999999999999, \"Perceptions of corruption\": 0.091, \"PCA Component 1\": -2.6668399860282235, \"PCA Component 2\": -0.04639746022358569}]}}, {\"mode\": \"vega-lite\"});\n",
       "</script>"
      ],
      "text/plain": [
       "alt.LayerChart(...)"
      ]
     },
     "execution_count": 104,
     "metadata": {},
     "output_type": "execute_result"
    }
   ],
   "source": [
    "import altair as alt\n",
    "\n",
    "\n",
    "df[\"PCA Component 1\"] = projected[:,0]\n",
    "df[\"PCA Component 2\"] = projected[:,1]\n",
    "cols = df.columns.values[:-2]\n",
    "points = alt.Chart(df).mark_circle(size=60).encode(\n",
    "    x='PCA Component 1',\n",
    "    y='PCA Component 2',\n",
    "    color='Score',\n",
    "    tooltip=list(cols)\n",
    "    \n",
    "#     text='Country or region'\n",
    ")\n",
    "\n",
    "text = points.mark_text(\n",
    "    align='left',\n",
    "    baseline='middle',\n",
    "    dx=7,\n",
    "    fontSize=8,\n",
    "    color=\"#000000\",\n",
    "    fill=\"#000000\"\n",
    ").encode(\n",
    "    text='Country or region'\n",
    ")\n",
    "(points + text).interactive()"
   ]
  },
  {
   "cell_type": "code",
   "execution_count": 145,
   "metadata": {},
   "outputs": [
    {
     "name": "stdout",
     "output_type": "stream",
     "text": [
      "[[-0.70710678 -0.70710678]\n",
      " [ 0.70710678 -0.70710678]]\n"
     ]
    }
   ],
   "source": [
    "_,_,D_prime = np.linalg.svd(X)\n",
    "print(D_prim"
   ]
  },
  {
   "cell_type": "markdown",
   "metadata": {},
   "source": [
    "#### Country data"
   ]
  },
  {
   "cell_type": "code",
   "execution_count": null,
   "metadata": {},
   "outputs": [],
   "source": []
  },
  {
   "cell_type": "markdown",
   "metadata": {},
   "source": [
    "#### Eigenfaces"
   ]
  },
  {
   "cell_type": "code",
   "execution_count": 7,
   "metadata": {},
   "outputs": [],
   "source": [
    "from PIL import Image\n",
    "import glob\n",
    "dims = (40,60)\n",
    "images = [Image.open(n).convert(\"L\").resize((dims[0], dims[1])) for n in glob.glob('photos/utkcropped/*.jpg')]\n",
    "imag_arr = np.zeros(shape=(len(images), dims[0]*dims[1]))\n",
    "for i in range(len(images)):\n",
    "    imag_arr[i, :] = np.array(images[i]).reshape(1, dims[0]*dims[1])"
   ]
  },
  {
   "cell_type": "code",
   "execution_count": 8,
   "metadata": {},
   "outputs": [
    {
     "data": {
      "image/png": "[encoded data removed]",
      "text/plain": [
       "<PIL.Image.Image image mode=L size=40x60 at 0x1238E3610>"
      ]
     },
     "execution_count": 8,
     "metadata": {},
     "output_type": "execute_result"
    }
   ],
   "source": [
    "Image.fromarray(np.uint8(np.mean(imag_arr, axis=0)).reshape(dims[1], dims[0]))"
   ]
  },
  {
   "cell_type": "code",
   "execution_count": 9,
   "metadata": {},
   "outputs": [
    {
     "data": {
      "text/plain": [
       "array([[-0.01449769,  0.02432601,  0.01800359, ..., -0.00260456,\n",
       "        -0.00424974, -0.00322823],\n",
       "       [-0.01410733,  0.02340599,  0.01990105, ..., -0.00032233,\n",
       "         0.00464777,  0.00052506],\n",
       "       [-0.01403792,  0.0218387 ,  0.02165501, ...,  0.00910833,\n",
       "         0.00449913,  0.00365528],\n",
       "       ...,\n",
       "       [-0.0173794 ,  0.03519392, -0.01486302, ..., -0.00027073,\n",
       "         0.00219523,  0.00076805],\n",
       "       [-0.01741188,  0.03576593, -0.0135625 , ..., -0.00097625,\n",
       "         0.00040196, -0.00218996],\n",
       "       [-0.01748186,  0.03596164, -0.01234977, ..., -0.00168592,\n",
       "         0.00066804, -0.00050403]])"
      ]
     },
     "execution_count": 9,
     "metadata": {},
     "output_type": "execute_result"
    }
   ],
   "source": [
    "w,D_eig = pca_eig(imag_arr)\n",
    "D_eig"
   ]
  },
  {
   "cell_type": "code",
   "execution_count": 19,
   "metadata": {},
   "outputs": [
    {
     "data": {
      "text/plain": [
       "array([[-0.01449769, -0.01410733, -0.01403792, ..., -0.0173794 ,\n",
       "        -0.01741188, -0.01748186],\n",
       "       [-0.02432601, -0.02340599, -0.0218387 , ..., -0.03519392,\n",
       "        -0.03576593, -0.03596164],\n",
       "       [-0.01800359, -0.01990105, -0.02165501, ...,  0.01486302,\n",
       "         0.0135625 ,  0.01234977],\n",
       "       ...,\n",
       "       [-0.00086966,  0.0020632 , -0.00245972, ..., -0.00085492,\n",
       "         0.00114599, -0.00073108],\n",
       "       [ 0.00035981, -0.0011047 , -0.00059414, ..., -0.00120043,\n",
       "         0.00059203,  0.00046822],\n",
       "       [ 0.00016873, -0.00179526,  0.00085192, ...,  0.00018934,\n",
       "        -0.00035576, -0.00010849]])"
      ]
     },
     "execution_count": 19,
     "metadata": {},
     "output_type": "execute_result"
    }
   ],
   "source": [
    "D = pca_svd(imag_arr)\n",
    "D"
   ]
  },
  {
   "cell_type": "code",
   "execution_count": 24,
   "metadata": {},
   "outputs": [
    {
     "name": "stdout",
     "output_type": "stream",
     "text": [
      "[-0.01449769 -0.01410733 -0.01403792 ... -0.0173794  -0.01741188\n",
      " -0.01748186]\n",
      "[-0.01449769 -0.01410733 -0.01403792 ... -0.0173794  -0.01741188\n",
      " -0.01748186]\n"
     ]
    }
   ],
   "source": [
    "print(D_eig[:,0])\n",
    "print(D[0,:])"
   ]
  },
  {
   "cell_type": "code",
   "execution_count": 25,
   "metadata": {},
   "outputs": [
    {
     "name": "stdout",
     "output_type": "stream",
     "text": [
      "[[ 88.92060596  93.27631023  95.87363194 ...  31.08430215  29.72428408\n",
      "   28.54660583]\n",
      " [ 86.8012817   91.35568039  91.69692119 ...  29.16842799  26.34760866\n",
      "   25.4582613 ]\n",
      " [ 83.35164284  86.18368107  84.30657846 ...  29.413407    23.62524834\n",
      "   21.78888125]\n",
      " ...\n",
      " [ 83.4864986   69.82595547  79.57138949 ... 131.75926885 163.28162525\n",
      "  165.78699356]\n",
      " [ 70.05196734  64.94589235  82.64574866 ... 137.77306566 165.17164156\n",
      "  166.24980292]\n",
      " [ 61.58285813  62.27797219  84.96066252 ... 141.3498322  164.33868988\n",
      "  164.59799326]]\n"
     ]
    },
    {
     "data": {
      "image/png": "[encoded data removed]",
      "text/plain": [
       "<PIL.Image.Image image mode=L size=40x60 at 0x124DCA410>"
      ]
     },
     "execution_count": 25,
     "metadata": {},
     "output_type": "execute_result"
    }
   ],
   "source": [
    "n_c = 400\n",
    "comps = np.argsort(-1*np.abs(w))[:n_c]\n",
    "proj = D_eig[:,:n_c]\n",
    "test_im = imag_arr[0,:]\n",
    "# rec = ((proj.T@(proj@test_im))+np.mean(imag_arr, axis=0)).reshape((dims[1], dims[0]))\n",
    "# rec = (proj.T@(proj@test_im)).reshape((dims[1], dims[0]))\n",
    "rec = (test_im@proj@proj.T).reshape((dims[1], dims[0]))\n",
    "print(rec)\n",
    "Image.fromarray(np.uint8(rec))\n"
   ]
  },
  {
   "cell_type": "code",
   "execution_count": 9,
   "metadata": {},
   "outputs": [
    {
     "name": "stdout",
     "output_type": "stream",
     "text": [
      "[[ 88.92060596  93.27631023  95.87363194 ...  31.08430215  29.72428408\n",
      "   28.54660583]\n",
      " [ 86.8012817   91.35568039  91.69692119 ...  29.16842799  26.34760866\n",
      "   25.4582613 ]\n",
      " [ 83.35164284  86.18368107  84.30657846 ...  29.413407    23.62524834\n",
      "   21.78888125]\n",
      " ...\n",
      " [ 83.4864986   69.82595547  79.57138949 ... 131.75926885 163.28162525\n",
      "  165.78699356]\n",
      " [ 70.05196734  64.94589235  82.64574866 ... 137.77306566 165.17164156\n",
      "  166.24980292]\n",
      " [ 61.58285813  62.27797219  84.96066252 ... 141.3498322  164.33868988\n",
      "  164.59799326]]\n"
     ]
    },
    {
     "data": {
      "image/png": "[encoded data removed]",
      "text/plain": [
       "<PIL.Image.Image image mode=L size=40x60 at 0x11D8F4590>"
      ]
     },
     "execution_count": 9,
     "metadata": {},
     "output_type": "execute_result"
    }
   ],
   "source": [
    "n_c = 400\n",
    "proj = D[:n_c,:].T\n",
    "test_im = imag_arr[0,:]\n",
    "# rec = ((proj.T@(proj@test_im))+np.mean(imag_arr, axis=0)).reshape((dims[1], dims[0]))\n",
    "# rec = (proj.T@proj@test_im).reshape((dims[1], dims[0]))\n",
    "rec = (test_im@proj@proj.T).reshape((dims[1], dims[0]))\n",
    "print(rec)\n",
    "Image.fromarray(np.uint8(rec))"
   ]
  },
  {
   "cell_type": "code",
   "execution_count": 16,
   "metadata": {},
   "outputs": [
    {
     "ename": "NameError",
     "evalue": "name 'D' is not defined",
     "output_type": "error",
     "traceback": [
      "\u001b[0;31m---------------------------------------------------------------------------\u001b[0m",
      "\u001b[0;31mNameError\u001b[0m                                 Traceback (most recent call last)",
      "\u001b[0;32m<ipython-input-16-4d4c4b2961a5>\u001b[0m in \u001b[0;36m<module>\u001b[0;34m\u001b[0m\n\u001b[1;32m      2\u001b[0m     \u001b[0;32mreturn\u001b[0m \u001b[0;36m255\u001b[0m\u001b[0;34m*\u001b[0m\u001b[0;34m(\u001b[0m\u001b[0marr\u001b[0m\u001b[0;34m-\u001b[0m\u001b[0mnp\u001b[0m\u001b[0;34m.\u001b[0m\u001b[0mmin\u001b[0m\u001b[0;34m(\u001b[0m\u001b[0marr\u001b[0m\u001b[0;34m)\u001b[0m\u001b[0;34m)\u001b[0m\u001b[0;34m/\u001b[0m\u001b[0;34m(\u001b[0m\u001b[0mnp\u001b[0m\u001b[0;34m.\u001b[0m\u001b[0mmax\u001b[0m\u001b[0;34m(\u001b[0m\u001b[0marr\u001b[0m\u001b[0;34m)\u001b[0m\u001b[0;34m-\u001b[0m\u001b[0mnp\u001b[0m\u001b[0;34m.\u001b[0m\u001b[0mmin\u001b[0m\u001b[0;34m(\u001b[0m\u001b[0marr\u001b[0m\u001b[0;34m)\u001b[0m\u001b[0;34m)\u001b[0m\u001b[0;34m\u001b[0m\u001b[0;34m\u001b[0m\u001b[0m\n\u001b[1;32m      3\u001b[0m \u001b[0;31m# Image.fromarray(np.uint8(D[1,:]).reshape(dims[1],dims[0]))\u001b[0m\u001b[0;34m\u001b[0m\u001b[0;34m\u001b[0m\u001b[0;34m\u001b[0m\u001b[0m\n\u001b[0;32m----> 4\u001b[0;31m \u001b[0mImage\u001b[0m\u001b[0;34m.\u001b[0m\u001b[0mfromarray\u001b[0m\u001b[0;34m(\u001b[0m\u001b[0mnp\u001b[0m\u001b[0;34m.\u001b[0m\u001b[0muint8\u001b[0m\u001b[0;34m(\u001b[0m\u001b[0mscale\u001b[0m\u001b[0;34m(\u001b[0m\u001b[0mD\u001b[0m\u001b[0;34m[\u001b[0m\u001b[0;36m5\u001b[0m\u001b[0;34m,\u001b[0m\u001b[0;34m:\u001b[0m\u001b[0;34m]\u001b[0m\u001b[0;34m)\u001b[0m\u001b[0;34m)\u001b[0m\u001b[0;34m.\u001b[0m\u001b[0mreshape\u001b[0m\u001b[0;34m(\u001b[0m\u001b[0mdims\u001b[0m\u001b[0;34m[\u001b[0m\u001b[0;36m1\u001b[0m\u001b[0;34m]\u001b[0m\u001b[0;34m,\u001b[0m\u001b[0mdims\u001b[0m\u001b[0;34m[\u001b[0m\u001b[0;36m0\u001b[0m\u001b[0;34m]\u001b[0m\u001b[0;34m)\u001b[0m\u001b[0;34m)\u001b[0m\u001b[0;34m\u001b[0m\u001b[0;34m\u001b[0m\u001b[0m\n\u001b[0m",
      "\u001b[0;31mNameError\u001b[0m: name 'D' is not defined"
     ]
    }
   ],
   "source": [
    "def scale(arr):\n",
    "    return 255*(arr-np.min(arr))/(np.max(arr)-np.min(arr))\n",
    "# Image.fromarray(np.uint8(D[1,:]).reshape(dims[1],dims[0]))\n",
    "Image.fromarray(np.uint8(scale(D[5,:])).reshape(dims[1],dims[0]))"
   ]
  },
  {
   "cell_type": "code",
   "execution_count": 493,
   "metadata": {},
   "outputs": [
    {
     "data": {
      "image/png": "[encoded data removed]",
      "text/plain": [
       "<PIL.Image.Image image mode=L size=40x60 at 0x1266B7410>"
      ]
     },
     "execution_count": 493,
     "metadata": {},
     "output_type": "execute_result"
    }
   ],
   "source": [
    "images[0]"
   ]
  },
  {
   "cell_type": "code",
   "execution_count": 484,
   "metadata": {},
   "outputs": [
    {
     "data": {
      "text/plain": [
       "array([[ 89.74491079,  86.95773464,  86.23249658, ...,  86.99501061,\n",
       "         88.67279327,  91.86345398],\n",
       "       [ 89.34507735,  86.85824678,  86.32769218, ...,  87.08140539,\n",
       "         88.37546881,  91.49980539],\n",
       "       [ 89.13006652,  86.73743089,  86.64948763, ...,  87.04110348,\n",
       "         88.24918279,  91.10020465],\n",
       "       ...,\n",
       "       [108.60957089, 108.03186369, 107.32457681, ..., 107.24056852,\n",
       "        107.98049465, 108.66084029],\n",
       "       [108.25795716, 107.8602669 , 107.33880091, ..., 107.29614313,\n",
       "        107.77133696, 108.44592901],\n",
       "       [107.93513932, 107.51611634, 107.12135627, ..., 107.22319959,\n",
       "        107.54947842, 108.14727148]])"
      ]
     },
     "execution_count": 484,
     "metadata": {},
     "output_type": "execute_result"
    }
   ],
   "source": [
    "rec"
   ]
  },
  {
   "cell_type": "code",
   "execution_count": 406,
   "metadata": {},
   "outputs": [
    {
     "ename": "ValueError",
     "evalue": "matmul: Input operand 1 has a mismatch in its core dimension 0, with gufunc signature (n?,k),(k,m?)->(n?,m?) (size 1500 is different from 2400)",
     "output_type": "error",
     "traceback": [
      "\u001b[0;31m---------------------------------------------------------------------------\u001b[0m",
      "\u001b[0;31mValueError\u001b[0m                                Traceback (most recent call last)",
      "\u001b[0;32m<ipython-input-406-2e5269bfa4c5>\u001b[0m in \u001b[0;36m<module>\u001b[0;34m\u001b[0m\n\u001b[0;32m----> 1\u001b[0;31m \u001b[0;34m(\u001b[0m\u001b[0mproj\u001b[0m\u001b[0;34m.\u001b[0m\u001b[0mT\u001b[0m\u001b[0;34m@\u001b[0m\u001b[0;34m(\u001b[0m\u001b[0mtest_im\u001b[0m\u001b[0;34m@\u001b[0m\u001b[0mproj\u001b[0m\u001b[0;34m)\u001b[0m\u001b[0;34m)\u001b[0m\u001b[0;34m.\u001b[0m\u001b[0mshape\u001b[0m\u001b[0;34m\u001b[0m\u001b[0;34m\u001b[0m\u001b[0m\n\u001b[0m",
      "\u001b[0;31mValueError\u001b[0m: matmul: Input operand 1 has a mismatch in its core dimension 0, with gufunc signature (n?,k),(k,m?)->(n?,m?) (size 1500 is different from 2400)"
     ]
    }
   ],
   "source": [
    "(proj.T@(test_im@proj)).shape"
   ]
  },
  {
   "cell_type": "code",
   "execution_count": 206,
   "metadata": {},
   "outputs": [
    {
     "data": {
      "image/png": "[encoded data removed]",
      "text/plain": [
       "<PIL.Image.Image image mode=L size=50x50 at 0x124CFE0D0>"
      ]
     },
     "execution_count": 206,
     "metadata": {},
     "output_type": "execute_result"
    }
   ],
   "source": [
    "Image.fromarray(np.uint8(imag_arr[3,:].reshape(50,50)))"
   ]
  },
  {
   "cell_type": "code",
   "execution_count": 249,
   "metadata": {},
   "outputs": [
    {
     "data": {
      "text/plain": [
       "2499"
      ]
     },
     "execution_count": 249,
     "metadata": {},
     "output_type": "execute_result"
    }
   ],
   "source": [
    "np.argmax(np.abs(w))"
   ]
  },
  {
   "cell_type": "code",
   "execution_count": 503,
   "metadata": {},
   "outputs": [
    {
     "data": {
      "text/plain": [
       "array([  8.60767467,   8.1293819 ,   6.61637366, ..., -10.42399639,\n",
       "       -10.89898312, -10.99819138])"
      ]
     },
     "execution_count": 503,
     "metadata": {},
     "output_type": "execute_result"
    }
   ],
   "source": [
    "255*D[4,:]"
   ]
  },
  {
   "cell_type": "code",
   "execution_count": 444,
   "metadata": {},
   "outputs": [
    {
     "data": {
      "image/png": "[encoded data removed]",
      "text/plain": [
       "<PIL.Image.Image image mode=L size=40x60 at 0x12839EDD0>"
      ]
     },
     "execution_count": 444,
     "metadata": {},
     "output_type": "execute_result"
    }
   ],
   "source": [
    "Image.fromarray(np.uint8(np.mean(imag_arr, axis=0) + 255*D[6,:]).reshape(dims[1], dims[0]))"
   ]
  },
  {
   "cell_type": "code",
   "execution_count": 65,
   "metadata": {},
   "outputs": [
    {
     "data": {
      "text/plain": [
       "array([-0.02044449+0.j, -0.01783256+0.j, -0.02044449+0.j, ...,\n",
       "       -0.02014646+0.j, -0.02038187+0.j, -0.02017757+0.j])"
      ]
     },
     "execution_count": 65,
     "metadata": {},
     "output_type": "execute_result"
    }
   ],
   "source": [
    "D[:,0]"
   ]
  },
  {
   "cell_type": "code",
   "execution_count": null,
   "metadata": {},
   "outputs": [],
   "source": []
  }
 ],
 "metadata": {
  "celltoolbar": "Tags",
  "kernelspec": {
   "display_name": "Python 3.7.7 64-bit",
   "language": "python",
   "name": "python37764bit6dabe67d171d4bf8b961096c36d10ba5"
  },
  "language_info": {
   "codemirror_mode": {
    "name": "ipython",
    "version": 3
   },
   "file_extension": ".py",
   "mimetype": "text/x-python",
   "name": "python",
   "nbconvert_exporter": "python",
   "pygments_lexer": "ipython3",
   "version": "3.7.7"
  }
 },
 "nbformat": 4,
 "nbformat_minor": 4
}
