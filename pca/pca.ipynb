{
 "cells": [
  {
   "cell_type": "markdown",
   "metadata": {},
   "source": [
    "# Understanding principal component analysis "
   ]
  },
  {
   "cell_type": "markdown",
   "metadata": {},
   "source": [
    "In this post, we'll take a deep dive into PCA, from both a mathematical and implementation perspective.\n",
    "We'll derive the equation from the ground up, look at how we can compute it and finally end with what it can be used for."
   ]
  },
  {
   "cell_type": "markdown",
   "metadata": {},
   "source": [
    "## Background"
   ]
  },
  {
   "cell_type": "markdown",
   "metadata": {},
   "source": [
    "## The optimal coding perspective\n",
    "PCA can be thought of as finding a low-dimensional representation of a vector. Given points in an _n_-dimensional space, we might wish to find some new _m_-dimensional space which captures as much of the _essence_ of the original space as possible but where _m_ < _n_. The exact definition of capturing the _essence_ is subject to design, however, a possible we could proceed by minimisation of the reconstruction error. That is, if we take our low-dimensional representation and attempt to recover the original _n_-dimensional vector, by how much does our reconstruction vary from the original vector. Similarly, this requires the definition of a distance metric by which we can evaluate the error.\n",
    "\n"
   ]
  },
  {
   "cell_type": "markdown",
   "metadata": {},
   "source": [
    "## The decorrelation perspective"
   ]
  },
  {
   "cell_type": "markdown",
   "metadata": {},
   "source": [
    "## The axis transformation perspective"
   ]
  },
  {
   "cell_type": "markdown",
   "metadata": {},
   "source": [
    "## Relationship with eigendecomposition"
   ]
  },
  {
   "cell_type": "markdown",
   "metadata": {},
   "source": [
    "## Relationship with singular value decomposition"
   ]
  },
  {
   "cell_type": "markdown",
   "metadata": {},
   "source": [
    "### Example uses using our implementation from scratch"
   ]
  },
  {
   "cell_type": "markdown",
   "metadata": {},
   "source": []
  },
  {
   "cell_type": "code",
   "execution_count": 1,
   "metadata": {},
   "outputs": [],
   "source": [
    "import numpy as np\n",
    "import matplotlib.pyplot as plt"
   ]
  },
  {
   "cell_type": "code",
   "execution_count": 7,
   "metadata": {},
   "outputs": [],
   "source": [
    "def generate_noisy_line(gradient, N=100):\n",
    "    N = 100\n",
    "    X = np.zeros(shape=(N, 2))\n",
    "    X[:,0] = np.random.uniform(-100, 100, size=N)\n",
    "    X[:,1] = (X[:,0]*gradient)+ np.random.uniform(-100, 100, size=N)\n",
    "    return X\n",
    "# plt.scatter(x, y)"
   ]
  },
  {
   "cell_type": "code",
   "execution_count": 544,
   "metadata": {},
   "outputs": [],
   "source": [
    "def pca_eig(X):\n",
    "    # X = whiten(X)\n",
    "    N = X.shape[0]\n",
    "    # eigenvals, eigenvectors = np.linalg.eig(1/N * (X.T @ X))\n",
    "    eigenvals, eigenvectors = np.linalg.eig((X.T @ X))\n",
    "    # w, v = np.linalg.eigh((X.T @ X))\n",
    "    return eigenvals, eigenvectors\n",
    "\n",
    "def pca_svd(X):\n",
    "    _,_,x = np.linalg.svd(X)\n",
    "    return x\n",
    "\n",
    "def whiten(X):\n",
    "    return (X-np.mean(X, axis=0))#/np.std(X, axis=0)"
   ]
  },
  {
   "cell_type": "code",
   "execution_count": 545,
   "metadata": {},
   "outputs": [
    {
     "output_type": "stream",
     "name": "stdout",
     "text": "[[-0.97274296 -0.23188603]\n [ 0.23188603 -0.97274296]]\n[[ 0.23188603  0.97274296]\n [-0.97274296  0.23188603]]\n"
    },
    {
     "output_type": "execute_result",
     "data": {
      "text/plain": "<matplotlib.quiver.Quiver at 0x125e41910>"
     },
     "metadata": {},
     "execution_count": 545
    },
    {
     "output_type": "display_data",
     "data": {
      "text/plain": "<Figure size 432x288 with 1 Axes>",
      "image/svg+xml": "<?xml version=\"1.0\" encoding=\"utf-8\" standalone=\"no\"?>\n<!DOCTYPE svg PUBLIC \"-//W3C//DTD SVG 1.1//EN\"\n  \"http://www.w3.org/Graphics/SVG/1.1/DTD/svg11.dtd\">\n<!-- Created with matplotlib (https://matplotlib.org/) -->\n<svg height=\"248.4775pt\" version=\"1.1\" viewBox=\"0 0 383.319969 248.4775\" width=\"383.319969pt\" xmlns=\"http://www.w3.org/2000/svg\" xmlns:xlink=\"http://www.w3.org/1999/xlink\">\n <defs>\n  <style type=\"text/css\">\n*{stroke-linecap:butt;stroke-linejoin:round;}\n  </style>\n </defs>\n <g id=\"figure_1\">\n  <g id=\"patch_1\">\n   <path d=\"M 0 248.4775 \nL 383.319969 248.4775 \nL 383.319969 0 \nL 0 0 \nz\n\" style=\"fill:none;\"/>\n  </g>\n  <g id=\"axes_1\">\n   <g id=\"patch_2\">\n    <path d=\"M 41.125 224.64 \nL 375.925 224.64 \nL 375.925 7.2 \nL 41.125 7.2 \nz\n\" style=\"fill:#ffffff;\"/>\n   </g>\n   <g id=\"PathCollection_1\">\n    <defs>\n     <path d=\"M 0 3 \nC 0.795609 3 1.55874 2.683901 2.12132 2.12132 \nC 2.683901 1.55874 3 0.795609 3 0 \nC 3 -0.795609 2.683901 -1.55874 2.12132 -2.12132 \nC 1.55874 -2.683901 0.795609 -3 0 -3 \nC -0.795609 -3 -1.55874 -2.683901 -2.12132 -2.12132 \nC -2.683901 -1.55874 -3 -0.795609 -3 0 \nC -3 0.795609 -2.683901 1.55874 -2.12132 2.12132 \nC -1.55874 2.683901 -0.795609 3 0 3 \nz\n\" id=\"m20f2a8ae97\" style=\"stroke:#1f77b4;\"/>\n    </defs>\n    <g clip-path=\"url(#pd0a58c438e)\">\n     <use style=\"fill:#1f77b4;stroke:#1f77b4;\" x=\"99.734107\" xlink:href=\"#m20f2a8ae97\" y=\"197.966733\"/>\n     <use style=\"fill:#1f77b4;stroke:#1f77b4;\" x=\"288.770037\" xlink:href=\"#m20f2a8ae97\" y=\"86.062596\"/>\n     <use style=\"fill:#1f77b4;stroke:#1f77b4;\" x=\"255.084944\" xlink:href=\"#m20f2a8ae97\" y=\"99.197527\"/>\n     <use style=\"fill:#1f77b4;stroke:#1f77b4;\" x=\"324.917176\" xlink:href=\"#m20f2a8ae97\" y=\"64.00593\"/>\n     <use style=\"fill:#1f77b4;stroke:#1f77b4;\" x=\"299.463223\" xlink:href=\"#m20f2a8ae97\" y=\"86.80571\"/>\n     <use style=\"fill:#1f77b4;stroke:#1f77b4;\" x=\"213.410226\" xlink:href=\"#m20f2a8ae97\" y=\"132.906656\"/>\n     <use style=\"fill:#1f77b4;stroke:#1f77b4;\" x=\"211.514402\" xlink:href=\"#m20f2a8ae97\" y=\"97.564246\"/>\n     <use style=\"fill:#1f77b4;stroke:#1f77b4;\" x=\"241.042639\" xlink:href=\"#m20f2a8ae97\" y=\"99.588221\"/>\n     <use style=\"fill:#1f77b4;stroke:#1f77b4;\" x=\"142.566302\" xlink:href=\"#m20f2a8ae97\" y=\"142.597886\"/>\n     <use style=\"fill:#1f77b4;stroke:#1f77b4;\" x=\"328.368127\" xlink:href=\"#m20f2a8ae97\" y=\"35.538608\"/>\n     <use style=\"fill:#1f77b4;stroke:#1f77b4;\" x=\"258.0959\" xlink:href=\"#m20f2a8ae97\" y=\"81.002501\"/>\n     <use style=\"fill:#1f77b4;stroke:#1f77b4;\" x=\"109.705365\" xlink:href=\"#m20f2a8ae97\" y=\"165.449921\"/>\n     <use style=\"fill:#1f77b4;stroke:#1f77b4;\" x=\"90.771921\" xlink:href=\"#m20f2a8ae97\" y=\"196.405888\"/>\n     <use style=\"fill:#1f77b4;stroke:#1f77b4;\" x=\"230.425633\" xlink:href=\"#m20f2a8ae97\" y=\"121.019887\"/>\n     <use style=\"fill:#1f77b4;stroke:#1f77b4;\" x=\"213.544878\" xlink:href=\"#m20f2a8ae97\" y=\"125.549323\"/>\n     <use style=\"fill:#1f77b4;stroke:#1f77b4;\" x=\"222.571552\" xlink:href=\"#m20f2a8ae97\" y=\"130.125864\"/>\n     <use style=\"fill:#1f77b4;stroke:#1f77b4;\" x=\"336.663354\" xlink:href=\"#m20f2a8ae97\" y=\"70.462353\"/>\n     <use style=\"fill:#1f77b4;stroke:#1f77b4;\" x=\"210.116472\" xlink:href=\"#m20f2a8ae97\" y=\"120.515289\"/>\n     <use style=\"fill:#1f77b4;stroke:#1f77b4;\" x=\"308.248664\" xlink:href=\"#m20f2a8ae97\" y=\"66.718639\"/>\n     <use style=\"fill:#1f77b4;stroke:#1f77b4;\" x=\"58.428705\" xlink:href=\"#m20f2a8ae97\" y=\"180.894839\"/>\n     <use style=\"fill:#1f77b4;stroke:#1f77b4;\" x=\"102.560492\" xlink:href=\"#m20f2a8ae97\" y=\"164.985022\"/>\n     <use style=\"fill:#1f77b4;stroke:#1f77b4;\" x=\"266.412293\" xlink:href=\"#m20f2a8ae97\" y=\"82.948937\"/>\n     <use style=\"fill:#1f77b4;stroke:#1f77b4;\" x=\"326.958403\" xlink:href=\"#m20f2a8ae97\" y=\"75.449357\"/>\n     <use style=\"fill:#1f77b4;stroke:#1f77b4;\" x=\"150.756378\" xlink:href=\"#m20f2a8ae97\" y=\"141.307492\"/>\n     <use style=\"fill:#1f77b4;stroke:#1f77b4;\" x=\"313.046557\" xlink:href=\"#m20f2a8ae97\" y=\"65.566603\"/>\n     <use style=\"fill:#1f77b4;stroke:#1f77b4;\" x=\"165.05957\" xlink:href=\"#m20f2a8ae97\" y=\"162.733981\"/>\n     <use style=\"fill:#1f77b4;stroke:#1f77b4;\" x=\"121.111771\" xlink:href=\"#m20f2a8ae97\" y=\"168.925873\"/>\n     <use style=\"fill:#1f77b4;stroke:#1f77b4;\" x=\"356.592048\" xlink:href=\"#m20f2a8ae97\" y=\"41.110237\"/>\n     <use style=\"fill:#1f77b4;stroke:#1f77b4;\" x=\"353.646552\" xlink:href=\"#m20f2a8ae97\" y=\"42.179817\"/>\n     <use style=\"fill:#1f77b4;stroke:#1f77b4;\" x=\"326.752753\" xlink:href=\"#m20f2a8ae97\" y=\"65.365521\"/>\n     <use style=\"fill:#1f77b4;stroke:#1f77b4;\" x=\"212.86964\" xlink:href=\"#m20f2a8ae97\" y=\"104.595916\"/>\n     <use style=\"fill:#1f77b4;stroke:#1f77b4;\" x=\"316.162441\" xlink:href=\"#m20f2a8ae97\" y=\"72.722241\"/>\n     <use style=\"fill:#1f77b4;stroke:#1f77b4;\" x=\"349.003315\" xlink:href=\"#m20f2a8ae97\" y=\"55.543983\"/>\n     <use style=\"fill:#1f77b4;stroke:#1f77b4;\" x=\"125.183777\" xlink:href=\"#m20f2a8ae97\" y=\"179.782408\"/>\n     <use style=\"fill:#1f77b4;stroke:#1f77b4;\" x=\"243.307647\" xlink:href=\"#m20f2a8ae97\" y=\"103.929731\"/>\n     <use style=\"fill:#1f77b4;stroke:#1f77b4;\" x=\"222.082505\" xlink:href=\"#m20f2a8ae97\" y=\"94.411784\"/>\n     <use style=\"fill:#1f77b4;stroke:#1f77b4;\" x=\"248.855357\" xlink:href=\"#m20f2a8ae97\" y=\"85.792428\"/>\n     <use style=\"fill:#1f77b4;stroke:#1f77b4;\" x=\"350.232893\" xlink:href=\"#m20f2a8ae97\" y=\"40.567254\"/>\n     <use style=\"fill:#1f77b4;stroke:#1f77b4;\" x=\"136.855935\" xlink:href=\"#m20f2a8ae97\" y=\"177.362495\"/>\n     <use style=\"fill:#1f77b4;stroke:#1f77b4;\" x=\"157.545379\" xlink:href=\"#m20f2a8ae97\" y=\"150.872887\"/>\n     <use style=\"fill:#1f77b4;stroke:#1f77b4;\" x=\"138.765394\" xlink:href=\"#m20f2a8ae97\" y=\"152.451951\"/>\n     <use style=\"fill:#1f77b4;stroke:#1f77b4;\" x=\"275.753946\" xlink:href=\"#m20f2a8ae97\" y=\"62.16123\"/>\n     <use style=\"fill:#1f77b4;stroke:#1f77b4;\" x=\"234.083102\" xlink:href=\"#m20f2a8ae97\" y=\"112.173401\"/>\n     <use style=\"fill:#1f77b4;stroke:#1f77b4;\" x=\"312.295258\" xlink:href=\"#m20f2a8ae97\" y=\"69.652731\"/>\n     <use style=\"fill:#1f77b4;stroke:#1f77b4;\" x=\"136.901807\" xlink:href=\"#m20f2a8ae97\" y=\"177.013365\"/>\n     <use style=\"fill:#1f77b4;stroke:#1f77b4;\" x=\"178.022276\" xlink:href=\"#m20f2a8ae97\" y=\"123.887472\"/>\n     <use style=\"fill:#1f77b4;stroke:#1f77b4;\" x=\"261.474725\" xlink:href=\"#m20f2a8ae97\" y=\"95.338724\"/>\n     <use style=\"fill:#1f77b4;stroke:#1f77b4;\" x=\"81.879842\" xlink:href=\"#m20f2a8ae97\" y=\"174.165922\"/>\n     <use style=\"fill:#1f77b4;stroke:#1f77b4;\" x=\"236.819051\" xlink:href=\"#m20f2a8ae97\" y=\"97.989939\"/>\n     <use style=\"fill:#1f77b4;stroke:#1f77b4;\" x=\"163.267391\" xlink:href=\"#m20f2a8ae97\" y=\"153.173226\"/>\n     <use style=\"fill:#1f77b4;stroke:#1f77b4;\" x=\"293.267575\" xlink:href=\"#m20f2a8ae97\" y=\"84.146782\"/>\n     <use style=\"fill:#1f77b4;stroke:#1f77b4;\" x=\"220.149763\" xlink:href=\"#m20f2a8ae97\" y=\"91.987135\"/>\n     <use style=\"fill:#1f77b4;stroke:#1f77b4;\" x=\"146.214449\" xlink:href=\"#m20f2a8ae97\" y=\"146.925993\"/>\n     <use style=\"fill:#1f77b4;stroke:#1f77b4;\" x=\"175.204264\" xlink:href=\"#m20f2a8ae97\" y=\"128.716891\"/>\n     <use style=\"fill:#1f77b4;stroke:#1f77b4;\" x=\"280.402144\" xlink:href=\"#m20f2a8ae97\" y=\"98.184345\"/>\n     <use style=\"fill:#1f77b4;stroke:#1f77b4;\" x=\"184.023794\" xlink:href=\"#m20f2a8ae97\" y=\"148.674653\"/>\n     <use style=\"fill:#1f77b4;stroke:#1f77b4;\" x=\"187.765179\" xlink:href=\"#m20f2a8ae97\" y=\"139.936104\"/>\n     <use style=\"fill:#1f77b4;stroke:#1f77b4;\" x=\"66.042314\" xlink:href=\"#m20f2a8ae97\" y=\"214.756364\"/>\n     <use style=\"fill:#1f77b4;stroke:#1f77b4;\" x=\"242.303902\" xlink:href=\"#m20f2a8ae97\" y=\"96.602684\"/>\n     <use style=\"fill:#1f77b4;stroke:#1f77b4;\" x=\"226.659735\" xlink:href=\"#m20f2a8ae97\" y=\"129.923628\"/>\n     <use style=\"fill:#1f77b4;stroke:#1f77b4;\" x=\"82.981454\" xlink:href=\"#m20f2a8ae97\" y=\"202.563671\"/>\n     <use style=\"fill:#1f77b4;stroke:#1f77b4;\" x=\"103.230839\" xlink:href=\"#m20f2a8ae97\" y=\"167.986592\"/>\n     <use style=\"fill:#1f77b4;stroke:#1f77b4;\" x=\"129.174284\" xlink:href=\"#m20f2a8ae97\" y=\"163.477263\"/>\n     <use style=\"fill:#1f77b4;stroke:#1f77b4;\" x=\"197.469909\" xlink:href=\"#m20f2a8ae97\" y=\"133.115718\"/>\n     <use style=\"fill:#1f77b4;stroke:#1f77b4;\" x=\"311.553789\" xlink:href=\"#m20f2a8ae97\" y=\"59.365303\"/>\n     <use style=\"fill:#1f77b4;stroke:#1f77b4;\" x=\"334.931579\" xlink:href=\"#m20f2a8ae97\" y=\"37.191831\"/>\n     <use style=\"fill:#1f77b4;stroke:#1f77b4;\" x=\"318.009067\" xlink:href=\"#m20f2a8ae97\" y=\"48.262757\"/>\n     <use style=\"fill:#1f77b4;stroke:#1f77b4;\" x=\"325.378087\" xlink:href=\"#m20f2a8ae97\" y=\"73.864662\"/>\n     <use style=\"fill:#1f77b4;stroke:#1f77b4;\" x=\"81.998137\" xlink:href=\"#m20f2a8ae97\" y=\"188.253083\"/>\n     <use style=\"fill:#1f77b4;stroke:#1f77b4;\" x=\"106.492344\" xlink:href=\"#m20f2a8ae97\" y=\"171.505064\"/>\n     <use style=\"fill:#1f77b4;stroke:#1f77b4;\" x=\"161.872388\" xlink:href=\"#m20f2a8ae97\" y=\"156.493882\"/>\n     <use style=\"fill:#1f77b4;stroke:#1f77b4;\" x=\"203.531403\" xlink:href=\"#m20f2a8ae97\" y=\"102.487669\"/>\n     <use style=\"fill:#1f77b4;stroke:#1f77b4;\" x=\"132.907719\" xlink:href=\"#m20f2a8ae97\" y=\"164.780856\"/>\n     <use style=\"fill:#1f77b4;stroke:#1f77b4;\" x=\"211.017913\" xlink:href=\"#m20f2a8ae97\" y=\"111.205222\"/>\n     <use style=\"fill:#1f77b4;stroke:#1f77b4;\" x=\"312.298791\" xlink:href=\"#m20f2a8ae97\" y=\"66.012779\"/>\n     <use style=\"fill:#1f77b4;stroke:#1f77b4;\" x=\"71.030613\" xlink:href=\"#m20f2a8ae97\" y=\"214.44543\"/>\n     <use style=\"fill:#1f77b4;stroke:#1f77b4;\" x=\"329.143622\" xlink:href=\"#m20f2a8ae97\" y=\"49.943639\"/>\n     <use style=\"fill:#1f77b4;stroke:#1f77b4;\" x=\"360.706818\" xlink:href=\"#m20f2a8ae97\" y=\"17.083636\"/>\n     <use style=\"fill:#1f77b4;stroke:#1f77b4;\" x=\"164.17149\" xlink:href=\"#m20f2a8ae97\" y=\"137.597667\"/>\n     <use style=\"fill:#1f77b4;stroke:#1f77b4;\" x=\"331.691963\" xlink:href=\"#m20f2a8ae97\" y=\"62.7125\"/>\n     <use style=\"fill:#1f77b4;stroke:#1f77b4;\" x=\"181.58251\" xlink:href=\"#m20f2a8ae97\" y=\"126.755121\"/>\n     <use style=\"fill:#1f77b4;stroke:#1f77b4;\" x=\"359.831019\" xlink:href=\"#m20f2a8ae97\" y=\"52.562928\"/>\n     <use style=\"fill:#1f77b4;stroke:#1f77b4;\" x=\"249.287393\" xlink:href=\"#m20f2a8ae97\" y=\"110.628058\"/>\n     <use style=\"fill:#1f77b4;stroke:#1f77b4;\" x=\"272.139023\" xlink:href=\"#m20f2a8ae97\" y=\"101.438961\"/>\n     <use style=\"fill:#1f77b4;stroke:#1f77b4;\" x=\"116.555562\" xlink:href=\"#m20f2a8ae97\" y=\"183.297131\"/>\n     <use style=\"fill:#1f77b4;stroke:#1f77b4;\" x=\"258.139712\" xlink:href=\"#m20f2a8ae97\" y=\"83.038997\"/>\n     <use style=\"fill:#1f77b4;stroke:#1f77b4;\" x=\"316.427433\" xlink:href=\"#m20f2a8ae97\" y=\"71.689733\"/>\n     <use style=\"fill:#1f77b4;stroke:#1f77b4;\" x=\"165.928456\" xlink:href=\"#m20f2a8ae97\" y=\"140.710388\"/>\n     <use style=\"fill:#1f77b4;stroke:#1f77b4;\" x=\"128.380614\" xlink:href=\"#m20f2a8ae97\" y=\"151.070308\"/>\n     <use style=\"fill:#1f77b4;stroke:#1f77b4;\" x=\"128.303216\" xlink:href=\"#m20f2a8ae97\" y=\"177.319377\"/>\n     <use style=\"fill:#1f77b4;stroke:#1f77b4;\" x=\"112.956561\" xlink:href=\"#m20f2a8ae97\" y=\"170.238553\"/>\n     <use style=\"fill:#1f77b4;stroke:#1f77b4;\" x=\"270.14758\" xlink:href=\"#m20f2a8ae97\" y=\"87.715233\"/>\n     <use style=\"fill:#1f77b4;stroke:#1f77b4;\" x=\"102.012945\" xlink:href=\"#m20f2a8ae97\" y=\"192.500637\"/>\n     <use style=\"fill:#1f77b4;stroke:#1f77b4;\" x=\"157.134018\" xlink:href=\"#m20f2a8ae97\" y=\"154.599639\"/>\n     <use style=\"fill:#1f77b4;stroke:#1f77b4;\" x=\"311.192615\" xlink:href=\"#m20f2a8ae97\" y=\"79.090331\"/>\n     <use style=\"fill:#1f77b4;stroke:#1f77b4;\" x=\"99.951685\" xlink:href=\"#m20f2a8ae97\" y=\"195.356671\"/>\n     <use style=\"fill:#1f77b4;stroke:#1f77b4;\" x=\"163.668433\" xlink:href=\"#m20f2a8ae97\" y=\"123.51266\"/>\n     <use style=\"fill:#1f77b4;stroke:#1f77b4;\" x=\"128.968731\" xlink:href=\"#m20f2a8ae97\" y=\"142.480316\"/>\n     <use style=\"fill:#1f77b4;stroke:#1f77b4;\" x=\"56.343182\" xlink:href=\"#m20f2a8ae97\" y=\"210.452306\"/>\n     <use style=\"fill:#1f77b4;stroke:#1f77b4;\" x=\"80.127856\" xlink:href=\"#m20f2a8ae97\" y=\"186.649848\"/>\n    </g>\n   </g>\n   <g id=\"Quiver_1\">\n    <path clip-path=\"url(#pd0a58c438e)\" d=\"M 210.247317 119.904042 \nL 188.671392 125.04739 \nL 190.474936 127.198815 \nL 177.38875 126.446308 \nL 188.728139 119.871142 \nL 188.089126 122.604833 \nL 209.665051 117.461485 \nL 210.247317 119.904042 \n\" style=\"fill:#ff0000;\"/>\n   </g>\n   <g id=\"Quiver_2\">\n    <path clip-path=\"url(#pd0a58c438e)\" d=\"M 211.177463 118.391631 \nL 216.320811 139.967556 \nL 218.472235 138.164011 \nL 217.719728 151.250198 \nL 211.144563 139.910809 \nL 213.878253 140.549822 \nL 208.734905 118.973897 \nL 211.177463 118.391631 \n\" style=\"fill:#0000ff;\"/>\n   </g>\n   <g id=\"matplotlib.axis_1\">\n    <g id=\"xtick_1\">\n     <g id=\"line2d_1\">\n      <defs>\n       <path d=\"M 0 0 \nL 0 3.5 \n\" id=\"mac3e13ff58\" style=\"stroke:#000000;stroke-width:0.8;\"/>\n      </defs>\n      <g>\n       <use style=\"stroke:#000000;stroke-width:0.8;\" x=\"53.277556\" xlink:href=\"#mac3e13ff58\" y=\"224.64\"/>\n      </g>\n     </g>\n     <g id=\"text_1\">\n      <!-- −100 -->\n      <defs>\n       <path d=\"M 10.84375 25.296875 \nL 10.84375 32.515625 \nL 68.65625 32.515625 \nL 68.65625 25.296875 \nz\n\" id=\"LucidaGrande-8722\"/>\n       <path d=\"M 15.046875 0 \nL 15.046875 7.234375 \nL 29.5 7.234375 \nL 29.5 64.265625 \nL 15.046875 60.640625 \nL 15.046875 68.0625 \nL 39.15625 74.078125 \nL 39.15625 7.234375 \nL 53.609375 7.234375 \nL 53.609375 0 \nz\n\" id=\"LucidaGrande-49\"/>\n       <path d=\"M 31.34375 -1.8125 \nQ 20.171875 -1.8125 13.25 8.703125 \nQ 6.34375 19.234375 6.34375 36.1875 \nQ 6.34375 53.265625 13.296875 63.671875 \nQ 20.265625 74.078125 31.640625 74.078125 \nQ 43.015625 74.078125 49.96875 63.671875 \nQ 56.9375 53.265625 56.9375 36.328125 \nQ 56.9375 18.953125 49.96875 8.5625 \nQ 43.015625 -1.8125 31.34375 -1.8125 \nz\nM 31.453125 5.421875 \nQ 46.734375 5.421875 46.734375 36.46875 \nQ 46.734375 66.84375 31.640625 66.84375 \nQ 16.609375 66.84375 16.609375 36.1875 \nQ 16.609375 5.421875 31.453125 5.421875 \nz\n\" id=\"LucidaGrande-48\"/>\n      </defs>\n      <g transform=\"translate(39.815056 239.349375)scale(0.1 -0.1)\">\n       <use xlink:href=\"#LucidaGrande-8722\"/>\n       <use x=\"79.541016\" xlink:href=\"#LucidaGrande-49\"/>\n       <use x=\"142.773438\" xlink:href=\"#LucidaGrande-48\"/>\n       <use x=\"206.005859\" xlink:href=\"#LucidaGrande-48\"/>\n      </g>\n     </g>\n    </g>\n    <g id=\"xtick_2\">\n     <g id=\"line2d_2\">\n      <g>\n       <use style=\"stroke:#000000;stroke-width:0.8;\" x=\"92.447213\" xlink:href=\"#mac3e13ff58\" y=\"224.64\"/>\n      </g>\n     </g>\n     <g id=\"text_2\">\n      <!-- −75 -->\n      <defs>\n       <path d=\"M 15.046875 0 \nQ 16.453125 8.453125 19.0625 14.59375 \nQ 21.6875 20.75 28.328125 31.5 \nL 48.046875 63.234375 \nL 10.84375 63.234375 \nL 10.84375 72.265625 \nL 57.234375 72.265625 \nL 57.234375 63.234375 \nQ 29.4375 22.265625 26.125 0 \nz\n\" id=\"LucidaGrande-55\"/>\n       <path d=\"M 12.15625 -0.296875 \nL 12.15625 8.296875 \nQ 19.34375 5.421875 25.828125 5.421875 \nQ 32.953125 5.421875 37.03125 9.609375 \nQ 41.109375 13.8125 41.109375 21.1875 \nQ 41.109375 37.453125 18.703125 37.453125 \nQ 16.15625 37.453125 13.375 37.109375 \nL 13.375 72.265625 \nL 49.953125 72.265625 \nL 49.953125 63.875 \nL 21.828125 63.875 \nL 21.828125 44.828125 \nQ 35.75 44.828125 43.5625 38.421875 \nQ 51.375 32.03125 51.375 20.703125 \nQ 51.375 10.15625 44.265625 4.171875 \nQ 37.15625 -1.8125 24.5625 -1.8125 \nQ 19.09375 -1.8125 12.15625 -0.296875 \nz\n\" id=\"LucidaGrande-53\"/>\n      </defs>\n      <g transform=\"translate(82.146431 239.349375)scale(0.1 -0.1)\">\n       <use xlink:href=\"#LucidaGrande-8722\"/>\n       <use x=\"79.541016\" xlink:href=\"#LucidaGrande-55\"/>\n       <use x=\"142.773438\" xlink:href=\"#LucidaGrande-53\"/>\n      </g>\n     </g>\n    </g>\n    <g id=\"xtick_3\">\n     <g id=\"line2d_3\">\n      <g>\n       <use style=\"stroke:#000000;stroke-width:0.8;\" x=\"131.61687\" xlink:href=\"#mac3e13ff58\" y=\"224.64\"/>\n      </g>\n     </g>\n     <g id=\"text_3\">\n      <!-- −50 -->\n      <g transform=\"translate(121.316088 239.349375)scale(0.1 -0.1)\">\n       <use xlink:href=\"#LucidaGrande-8722\"/>\n       <use x=\"79.541016\" xlink:href=\"#LucidaGrande-53\"/>\n       <use x=\"142.773438\" xlink:href=\"#LucidaGrande-48\"/>\n      </g>\n     </g>\n    </g>\n    <g id=\"xtick_4\">\n     <g id=\"line2d_4\">\n      <g>\n       <use style=\"stroke:#000000;stroke-width:0.8;\" x=\"170.786527\" xlink:href=\"#mac3e13ff58\" y=\"224.64\"/>\n      </g>\n     </g>\n     <g id=\"text_4\">\n      <!-- −25 -->\n      <defs>\n       <path d=\"M 8.296875 0 \nL 8.296875 8.453125 \nQ 12.5 18.265625 25.296875 29.828125 \nL 30.8125 34.765625 \nQ 41.453125 44.390625 41.453125 53.859375 \nQ 41.453125 59.90625 37.8125 63.375 \nQ 34.1875 66.84375 27.828125 66.84375 \nQ 20.3125 66.84375 10.109375 61.03125 \nL 10.109375 69.53125 \nQ 19.734375 74.078125 29.203125 74.078125 \nQ 39.359375 74.078125 45.5 68.609375 \nQ 51.65625 63.140625 51.65625 54.109375 \nQ 51.65625 47.609375 48.546875 42.578125 \nQ 45.453125 37.546875 37.015625 30.375 \nL 33.296875 27.203125 \nQ 21.734375 17.390625 19.921875 8.453125 \nL 51.3125 8.453125 \nL 51.3125 0 \nz\n\" id=\"LucidaGrande-50\"/>\n      </defs>\n      <g transform=\"translate(160.485746 239.349375)scale(0.1 -0.1)\">\n       <use xlink:href=\"#LucidaGrande-8722\"/>\n       <use x=\"79.541016\" xlink:href=\"#LucidaGrande-50\"/>\n       <use x=\"142.773438\" xlink:href=\"#LucidaGrande-53\"/>\n      </g>\n     </g>\n    </g>\n    <g id=\"xtick_5\">\n     <g id=\"line2d_5\">\n      <g>\n       <use style=\"stroke:#000000;stroke-width:0.8;\" x=\"209.956184\" xlink:href=\"#mac3e13ff58\" y=\"224.64\"/>\n      </g>\n     </g>\n     <g id=\"text_5\">\n      <!-- 0 -->\n      <g transform=\"translate(206.794465 239.349375)scale(0.1 -0.1)\">\n       <use xlink:href=\"#LucidaGrande-48\"/>\n      </g>\n     </g>\n    </g>\n    <g id=\"xtick_6\">\n     <g id=\"line2d_6\">\n      <g>\n       <use style=\"stroke:#000000;stroke-width:0.8;\" x=\"249.125841\" xlink:href=\"#mac3e13ff58\" y=\"224.64\"/>\n      </g>\n     </g>\n     <g id=\"text_6\">\n      <!-- 25 -->\n      <g transform=\"translate(242.802404 239.349375)scale(0.1 -0.1)\">\n       <use xlink:href=\"#LucidaGrande-50\"/>\n       <use x=\"63.232422\" xlink:href=\"#LucidaGrande-53\"/>\n      </g>\n     </g>\n    </g>\n    <g id=\"xtick_7\">\n     <g id=\"line2d_7\">\n      <g>\n       <use style=\"stroke:#000000;stroke-width:0.8;\" x=\"288.295498\" xlink:href=\"#mac3e13ff58\" y=\"224.64\"/>\n      </g>\n     </g>\n     <g id=\"text_7\">\n      <!-- 50 -->\n      <g transform=\"translate(281.972061 239.349375)scale(0.1 -0.1)\">\n       <use xlink:href=\"#LucidaGrande-53\"/>\n       <use x=\"63.232422\" xlink:href=\"#LucidaGrande-48\"/>\n      </g>\n     </g>\n    </g>\n    <g id=\"xtick_8\">\n     <g id=\"line2d_8\">\n      <g>\n       <use style=\"stroke:#000000;stroke-width:0.8;\" x=\"327.465155\" xlink:href=\"#mac3e13ff58\" y=\"224.64\"/>\n      </g>\n     </g>\n     <g id=\"text_8\">\n      <!-- 75 -->\n      <g transform=\"translate(321.141718 239.349375)scale(0.1 -0.1)\">\n       <use xlink:href=\"#LucidaGrande-55\"/>\n       <use x=\"63.232422\" xlink:href=\"#LucidaGrande-53\"/>\n      </g>\n     </g>\n    </g>\n    <g id=\"xtick_9\">\n     <g id=\"line2d_9\">\n      <g>\n       <use style=\"stroke:#000000;stroke-width:0.8;\" x=\"366.634812\" xlink:href=\"#mac3e13ff58\" y=\"224.64\"/>\n      </g>\n     </g>\n     <g id=\"text_9\">\n      <!-- 100 -->\n      <g transform=\"translate(357.149656 239.349375)scale(0.1 -0.1)\">\n       <use xlink:href=\"#LucidaGrande-49\"/>\n       <use x=\"63.232422\" xlink:href=\"#LucidaGrande-48\"/>\n       <use x=\"126.464844\" xlink:href=\"#LucidaGrande-48\"/>\n      </g>\n     </g>\n    </g>\n   </g>\n   <g id=\"matplotlib.axis_2\">\n    <g id=\"ytick_1\">\n     <g id=\"line2d_10\">\n      <defs>\n       <path d=\"M 0 0 \nL -3.5 0 \n\" id=\"mecc95d3b02\" style=\"stroke:#000000;stroke-width:0.8;\"/>\n      </defs>\n      <g>\n       <use style=\"stroke:#000000;stroke-width:0.8;\" x=\"41.125\" xlink:href=\"#mecc95d3b02\" y=\"204.314565\"/>\n      </g>\n     </g>\n     <g id=\"text_10\">\n      <!-- −400 -->\n      <defs>\n       <path d=\"M 37.640625 0 \nL 37.640625 20.453125 \nL 5.125 20.453125 \nL 5.125 27.734375 \nL 37.640625 72.265625 \nL 46.6875 72.265625 \nL 46.6875 28.328125 \nL 56.34375 28.328125 \nL 56.34375 20.453125 \nL 46.6875 20.453125 \nL 46.6875 0 \nz\nM 14.546875 28.328125 \nL 38.28125 28.328125 \nL 38.28125 60.453125 \nz\n\" id=\"LucidaGrande-52\"/>\n      </defs>\n      <g transform=\"translate(7.2 208.169252)scale(0.1 -0.1)\">\n       <use xlink:href=\"#LucidaGrande-8722\"/>\n       <use x=\"79.541016\" xlink:href=\"#LucidaGrande-52\"/>\n       <use x=\"142.773438\" xlink:href=\"#LucidaGrande-48\"/>\n       <use x=\"206.005859\" xlink:href=\"#LucidaGrande-48\"/>\n      </g>\n     </g>\n    </g>\n    <g id=\"ytick_2\">\n     <g id=\"line2d_11\">\n      <g>\n       <use style=\"stroke:#000000;stroke-width:0.8;\" x=\"41.125\" xlink:href=\"#mecc95d3b02\" y=\"161.498664\"/>\n      </g>\n     </g>\n     <g id=\"text_11\">\n      <!-- −200 -->\n      <g transform=\"translate(7.2 165.353352)scale(0.1 -0.1)\">\n       <use xlink:href=\"#LucidaGrande-8722\"/>\n       <use x=\"79.541016\" xlink:href=\"#LucidaGrande-50\"/>\n       <use x=\"142.773438\" xlink:href=\"#LucidaGrande-48\"/>\n       <use x=\"206.005859\" xlink:href=\"#LucidaGrande-48\"/>\n      </g>\n     </g>\n    </g>\n    <g id=\"ytick_3\">\n     <g id=\"line2d_12\">\n      <g>\n       <use style=\"stroke:#000000;stroke-width:0.8;\" x=\"41.125\" xlink:href=\"#mecc95d3b02\" y=\"118.682764\"/>\n      </g>\n     </g>\n     <g id=\"text_12\">\n      <!-- 0 -->\n      <g transform=\"translate(27.801562 122.537451)scale(0.1 -0.1)\">\n       <use xlink:href=\"#LucidaGrande-48\"/>\n      </g>\n     </g>\n    </g>\n    <g id=\"ytick_4\">\n     <g id=\"line2d_13\">\n      <g>\n       <use style=\"stroke:#000000;stroke-width:0.8;\" x=\"41.125\" xlink:href=\"#mecc95d3b02\" y=\"75.866863\"/>\n      </g>\n     </g>\n     <g id=\"text_13\">\n      <!-- 200 -->\n      <g transform=\"translate(15.154687 79.721551)scale(0.1 -0.1)\">\n       <use xlink:href=\"#LucidaGrande-50\"/>\n       <use x=\"63.232422\" xlink:href=\"#LucidaGrande-48\"/>\n       <use x=\"126.464844\" xlink:href=\"#LucidaGrande-48\"/>\n      </g>\n     </g>\n    </g>\n    <g id=\"ytick_5\">\n     <g id=\"line2d_14\">\n      <g>\n       <use style=\"stroke:#000000;stroke-width:0.8;\" x=\"41.125\" xlink:href=\"#mecc95d3b02\" y=\"33.050963\"/>\n      </g>\n     </g>\n     <g id=\"text_14\">\n      <!-- 400 -->\n      <g transform=\"translate(15.154687 36.90565)scale(0.1 -0.1)\">\n       <use xlink:href=\"#LucidaGrande-52\"/>\n       <use x=\"63.232422\" xlink:href=\"#LucidaGrande-48\"/>\n       <use x=\"126.464844\" xlink:href=\"#LucidaGrande-48\"/>\n      </g>\n     </g>\n    </g>\n   </g>\n   <g id=\"patch_3\">\n    <path d=\"M 41.125 224.64 \nL 41.125 7.2 \n\" style=\"fill:none;stroke:#000000;stroke-linecap:square;stroke-linejoin:miter;stroke-width:0.8;\"/>\n   </g>\n   <g id=\"patch_4\">\n    <path d=\"M 375.925 224.64 \nL 375.925 7.2 \n\" style=\"fill:none;stroke:#000000;stroke-linecap:square;stroke-linejoin:miter;stroke-width:0.8;\"/>\n   </g>\n   <g id=\"patch_5\">\n    <path d=\"M 41.125 224.64 \nL 375.925 224.64 \n\" style=\"fill:none;stroke:#000000;stroke-linecap:square;stroke-linejoin:miter;stroke-width:0.8;\"/>\n   </g>\n   <g id=\"patch_6\">\n    <path d=\"M 41.125 7.2 \nL 375.925 7.2 \n\" style=\"fill:none;stroke:#000000;stroke-linecap:square;stroke-linejoin:miter;stroke-width:0.8;\"/>\n   </g>\n  </g>\n </g>\n <defs>\n  <clipPath id=\"pd0a58c438e\">\n   <rect height=\"217.44\" width=\"334.8\" x=\"41.125\" y=\"7.2\"/>\n  </clipPath>\n </defs>\n</svg>\n",
      "image/png": "[encoded data removed]"
     },
     "metadata": {
      "needs_background": "light"
     }
    }
   ],
   "source": [
    "X = generate_noisy_line(4)\n",
    "_,eig_dec = pca_eig(X)\n",
    "svd_dec = pca_svd(X)\n",
    "plt.scatter(X[:,0], X[:,1])\n",
    "print(eig_dec)\n",
    "print(svd_dec)\n",
    "origin = [0,0]\n",
    "eig_vec1, eig_vec2 = eig_dec[0, :], eig_dec[1,:]\n",
    "plt.quiver(*origin, *eig_vec1, color=['r'], scale=10)\n",
    "plt.quiver(*origin, *eig_vec2, color=['b'], scale=10)"
   ]
  },
  {
   "cell_type": "code",
   "execution_count": 131,
   "metadata": {},
   "outputs": [],
   "source": [
    "from sklearn.decomposition import PCA\n",
    "fitted = PCA().fit(X)"
   ]
  },
  {
   "cell_type": "code",
   "execution_count": 132,
   "metadata": {},
   "outputs": [
    {
     "output_type": "execute_result",
     "data": {
      "text/plain": "array([[ 0.70710678,  0.70710678],\n       [-0.70710678,  0.70710678]])"
     },
     "metadata": {},
     "execution_count": 132
    }
   ],
   "source": [
    "fitted.components_"
   ]
  },
  {
   "cell_type": "code",
   "execution_count": 142,
   "metadata": {},
   "outputs": [
    {
     "output_type": "execute_result",
     "data": {
      "text/plain": "<matplotlib.collections.PathCollection at 0x11d898d50>"
     },
     "metadata": {},
     "execution_count": 142
    },
    {
     "output_type": "display_data",
     "data": {
      "text/plain": "<Figure size 432x288 with 1 Axes>",
      "image/svg+xml": "<?xml version=\"1.0\" encoding=\"utf-8\" standalone=\"no\"?>\n<!DOCTYPE svg PUBLIC \"-//W3C//DTD SVG 1.1//EN\"\n  \"http://www.w3.org/Graphics/SVG/1.1/DTD/svg11.dtd\">\n<!-- Created with matplotlib (https://matplotlib.org/) -->\n<svg height=\"248.4775pt\" version=\"1.1\" viewBox=\"0 0 379.965625 248.4775\" width=\"379.965625pt\" xmlns=\"http://www.w3.org/2000/svg\" xmlns:xlink=\"http://www.w3.org/1999/xlink\">\n <defs>\n  <style type=\"text/css\">\n*{stroke-linecap:butt;stroke-linejoin:round;}\n  </style>\n </defs>\n <g id=\"figure_1\">\n  <g id=\"patch_1\">\n   <path d=\"M 0 248.4775 \nL 379.965625 248.4775 \nL 379.965625 0 \nL 0 0 \nz\n\" style=\"fill:none;\"/>\n  </g>\n  <g id=\"axes_1\">\n   <g id=\"patch_2\">\n    <path d=\"M 37.965625 224.64 \nL 372.765625 224.64 \nL 372.765625 7.2 \nL 37.965625 7.2 \nz\n\" style=\"fill:#ffffff;\"/>\n   </g>\n   <g id=\"PathCollection_1\">\n    <defs>\n     <path d=\"M 0 3 \nC 0.795609 3 1.55874 2.683901 2.12132 2.12132 \nC 2.683901 1.55874 3 0.795609 3 0 \nC 3 -0.795609 2.683901 -1.55874 2.12132 -2.12132 \nC 1.55874 -2.683901 0.795609 -3 0 -3 \nC -0.795609 -3 -1.55874 -2.683901 -2.12132 -2.12132 \nC -2.683901 -1.55874 -3 -0.795609 -3 0 \nC -3 0.795609 -2.683901 1.55874 -2.12132 2.12132 \nC -1.55874 2.683901 -0.795609 3 0 3 \nz\n\" id=\"m2cafdc7f9e\" style=\"stroke:#1f77b4;\"/>\n    </defs>\n    <g clip-path=\"url(#p345b2cac7f)\">\n     <use style=\"fill:#1f77b4;stroke:#1f77b4;\" x=\"342.011086\" xlink:href=\"#m2cafdc7f9e\" y=\"132.221424\"/>\n     <use style=\"fill:#1f77b4;stroke:#1f77b4;\" x=\"274.958435\" xlink:href=\"#m2cafdc7f9e\" y=\"77.233138\"/>\n     <use style=\"fill:#1f77b4;stroke:#1f77b4;\" x=\"289.746237\" xlink:href=\"#m2cafdc7f9e\" y=\"196.599153\"/>\n     <use style=\"fill:#1f77b4;stroke:#1f77b4;\" x=\"182.981885\" xlink:href=\"#m2cafdc7f9e\" y=\"99.562239\"/>\n     <use style=\"fill:#1f77b4;stroke:#1f77b4;\" x=\"100.102629\" xlink:href=\"#m2cafdc7f9e\" y=\"118.754265\"/>\n     <use style=\"fill:#1f77b4;stroke:#1f77b4;\" x=\"107.388188\" xlink:href=\"#m2cafdc7f9e\" y=\"63.499995\"/>\n     <use style=\"fill:#1f77b4;stroke:#1f77b4;\" x=\"189.755037\" xlink:href=\"#m2cafdc7f9e\" y=\"212.130528\"/>\n     <use style=\"fill:#1f77b4;stroke:#1f77b4;\" x=\"55.682466\" xlink:href=\"#m2cafdc7f9e\" y=\"98.7315\"/>\n     <use style=\"fill:#1f77b4;stroke:#1f77b4;\" x=\"131.602884\" xlink:href=\"#m2cafdc7f9e\" y=\"106.762397\"/>\n     <use style=\"fill:#1f77b4;stroke:#1f77b4;\" x=\"59.410985\" xlink:href=\"#m2cafdc7f9e\" y=\"155.483703\"/>\n     <use style=\"fill:#1f77b4;stroke:#1f77b4;\" x=\"228.784743\" xlink:href=\"#m2cafdc7f9e\" y=\"180.078345\"/>\n     <use style=\"fill:#1f77b4;stroke:#1f77b4;\" x=\"324.979425\" xlink:href=\"#m2cafdc7f9e\" y=\"190.506924\"/>\n     <use style=\"fill:#1f77b4;stroke:#1f77b4;\" x=\"263.475732\" xlink:href=\"#m2cafdc7f9e\" y=\"173.481316\"/>\n     <use style=\"fill:#1f77b4;stroke:#1f77b4;\" x=\"325.84794\" xlink:href=\"#m2cafdc7f9e\" y=\"198.228166\"/>\n     <use style=\"fill:#1f77b4;stroke:#1f77b4;\" x=\"220.725745\" xlink:href=\"#m2cafdc7f9e\" y=\"111.241426\"/>\n     <use style=\"fill:#1f77b4;stroke:#1f77b4;\" x=\"157.1583\" xlink:href=\"#m2cafdc7f9e\" y=\"54.495361\"/>\n     <use style=\"fill:#1f77b4;stroke:#1f77b4;\" x=\"315.675871\" xlink:href=\"#m2cafdc7f9e\" y=\"114.368587\"/>\n     <use style=\"fill:#1f77b4;stroke:#1f77b4;\" x=\"226.902294\" xlink:href=\"#m2cafdc7f9e\" y=\"31.128671\"/>\n     <use style=\"fill:#1f77b4;stroke:#1f77b4;\" x=\"203.416493\" xlink:href=\"#m2cafdc7f9e\" y=\"165.299083\"/>\n     <use style=\"fill:#1f77b4;stroke:#1f77b4;\" x=\"303.961894\" xlink:href=\"#m2cafdc7f9e\" y=\"25.28282\"/>\n     <use style=\"fill:#1f77b4;stroke:#1f77b4;\" x=\"67.756257\" xlink:href=\"#m2cafdc7f9e\" y=\"43.993512\"/>\n     <use style=\"fill:#1f77b4;stroke:#1f77b4;\" x=\"146.750316\" xlink:href=\"#m2cafdc7f9e\" y=\"198.467575\"/>\n     <use style=\"fill:#1f77b4;stroke:#1f77b4;\" x=\"198.579868\" xlink:href=\"#m2cafdc7f9e\" y=\"179.88747\"/>\n     <use style=\"fill:#1f77b4;stroke:#1f77b4;\" x=\"274.909779\" xlink:href=\"#m2cafdc7f9e\" y=\"168.379472\"/>\n     <use style=\"fill:#1f77b4;stroke:#1f77b4;\" x=\"321.988767\" xlink:href=\"#m2cafdc7f9e\" y=\"105.359549\"/>\n     <use style=\"fill:#1f77b4;stroke:#1f77b4;\" x=\"331.60728\" xlink:href=\"#m2cafdc7f9e\" y=\"35.696008\"/>\n     <use style=\"fill:#1f77b4;stroke:#1f77b4;\" x=\"65.67292\" xlink:href=\"#m2cafdc7f9e\" y=\"132.06181\"/>\n     <use style=\"fill:#1f77b4;stroke:#1f77b4;\" x=\"199.837835\" xlink:href=\"#m2cafdc7f9e\" y=\"37.381057\"/>\n     <use style=\"fill:#1f77b4;stroke:#1f77b4;\" x=\"278.682252\" xlink:href=\"#m2cafdc7f9e\" y=\"164.606832\"/>\n     <use style=\"fill:#1f77b4;stroke:#1f77b4;\" x=\"181.020372\" xlink:href=\"#m2cafdc7f9e\" y=\"178.648629\"/>\n     <use style=\"fill:#1f77b4;stroke:#1f77b4;\" x=\"298.637284\" xlink:href=\"#m2cafdc7f9e\" y=\"135.295884\"/>\n     <use style=\"fill:#1f77b4;stroke:#1f77b4;\" x=\"166.068749\" xlink:href=\"#m2cafdc7f9e\" y=\"187.869558\"/>\n     <use style=\"fill:#1f77b4;stroke:#1f77b4;\" x=\"333.447949\" xlink:href=\"#m2cafdc7f9e\" y=\"27.792941\"/>\n     <use style=\"fill:#1f77b4;stroke:#1f77b4;\" x=\"319.114409\" xlink:href=\"#m2cafdc7f9e\" y=\"134.425205\"/>\n     <use style=\"fill:#1f77b4;stroke:#1f77b4;\" x=\"166.90028\" xlink:href=\"#m2cafdc7f9e\" y=\"154.434131\"/>\n     <use style=\"fill:#1f77b4;stroke:#1f77b4;\" x=\"172.284533\" xlink:href=\"#m2cafdc7f9e\" y=\"52.335651\"/>\n     <use style=\"fill:#1f77b4;stroke:#1f77b4;\" x=\"245.541134\" xlink:href=\"#m2cafdc7f9e\" y=\"73.402386\"/>\n     <use style=\"fill:#1f77b4;stroke:#1f77b4;\" x=\"264.71983\" xlink:href=\"#m2cafdc7f9e\" y=\"121.1698\"/>\n     <use style=\"fill:#1f77b4;stroke:#1f77b4;\" x=\"301.237731\" xlink:href=\"#m2cafdc7f9e\" y=\"112.727182\"/>\n     <use style=\"fill:#1f77b4;stroke:#1f77b4;\" x=\"65.157784\" xlink:href=\"#m2cafdc7f9e\" y=\"167.517325\"/>\n     <use style=\"fill:#1f77b4;stroke:#1f77b4;\" x=\"323.787186\" xlink:href=\"#m2cafdc7f9e\" y=\"165.244418\"/>\n     <use style=\"fill:#1f77b4;stroke:#1f77b4;\" x=\"247.131838\" xlink:href=\"#m2cafdc7f9e\" y=\"80.503692\"/>\n     <use style=\"fill:#1f77b4;stroke:#1f77b4;\" x=\"263.286449\" xlink:href=\"#m2cafdc7f9e\" y=\"189.231748\"/>\n     <use style=\"fill:#1f77b4;stroke:#1f77b4;\" x=\"193.098733\" xlink:href=\"#m2cafdc7f9e\" y=\"160.563447\"/>\n     <use style=\"fill:#1f77b4;stroke:#1f77b4;\" x=\"335.799515\" xlink:href=\"#m2cafdc7f9e\" y=\"214.756364\"/>\n     <use style=\"fill:#1f77b4;stroke:#1f77b4;\" x=\"271.371618\" xlink:href=\"#m2cafdc7f9e\" y=\"97.194011\"/>\n     <use style=\"fill:#1f77b4;stroke:#1f77b4;\" x=\"53.183807\" xlink:href=\"#m2cafdc7f9e\" y=\"123.380301\"/>\n     <use style=\"fill:#1f77b4;stroke:#1f77b4;\" x=\"296.175164\" xlink:href=\"#m2cafdc7f9e\" y=\"89.330186\"/>\n     <use style=\"fill:#1f77b4;stroke:#1f77b4;\" x=\"108.893801\" xlink:href=\"#m2cafdc7f9e\" y=\"63.997105\"/>\n     <use style=\"fill:#1f77b4;stroke:#1f77b4;\" x=\"216.222541\" xlink:href=\"#m2cafdc7f9e\" y=\"53.275641\"/>\n     <use style=\"fill:#1f77b4;stroke:#1f77b4;\" x=\"285.772093\" xlink:href=\"#m2cafdc7f9e\" y=\"136.181333\"/>\n     <use style=\"fill:#1f77b4;stroke:#1f77b4;\" x=\"155.577576\" xlink:href=\"#m2cafdc7f9e\" y=\"170.098926\"/>\n     <use style=\"fill:#1f77b4;stroke:#1f77b4;\" x=\"150.474498\" xlink:href=\"#m2cafdc7f9e\" y=\"55.272599\"/>\n     <use style=\"fill:#1f77b4;stroke:#1f77b4;\" x=\"93.684267\" xlink:href=\"#m2cafdc7f9e\" y=\"99.867541\"/>\n     <use style=\"fill:#1f77b4;stroke:#1f77b4;\" x=\"227.541962\" xlink:href=\"#m2cafdc7f9e\" y=\"179.45015\"/>\n     <use style=\"fill:#1f77b4;stroke:#1f77b4;\" x=\"281.291281\" xlink:href=\"#m2cafdc7f9e\" y=\"184.684939\"/>\n     <use style=\"fill:#1f77b4;stroke:#1f77b4;\" x=\"135.652663\" xlink:href=\"#m2cafdc7f9e\" y=\"121.968709\"/>\n     <use style=\"fill:#1f77b4;stroke:#1f77b4;\" x=\"215.123694\" xlink:href=\"#m2cafdc7f9e\" y=\"166.68359\"/>\n     <use style=\"fill:#1f77b4;stroke:#1f77b4;\" x=\"205.027493\" xlink:href=\"#m2cafdc7f9e\" y=\"27.911468\"/>\n     <use style=\"fill:#1f77b4;stroke:#1f77b4;\" x=\"98.315229\" xlink:href=\"#m2cafdc7f9e\" y=\"48.907\"/>\n     <use style=\"fill:#1f77b4;stroke:#1f77b4;\" x=\"350.96114\" xlink:href=\"#m2cafdc7f9e\" y=\"122.482601\"/>\n     <use style=\"fill:#1f77b4;stroke:#1f77b4;\" x=\"59.172072\" xlink:href=\"#m2cafdc7f9e\" y=\"146.362458\"/>\n     <use style=\"fill:#1f77b4;stroke:#1f77b4;\" x=\"335.806127\" xlink:href=\"#m2cafdc7f9e\" y=\"62.749616\"/>\n     <use style=\"fill:#1f77b4;stroke:#1f77b4;\" x=\"72.023072\" xlink:href=\"#m2cafdc7f9e\" y=\"157.200911\"/>\n     <use style=\"fill:#1f77b4;stroke:#1f77b4;\" x=\"176.687514\" xlink:href=\"#m2cafdc7f9e\" y=\"166.319748\"/>\n     <use style=\"fill:#1f77b4;stroke:#1f77b4;\" x=\"80.741448\" xlink:href=\"#m2cafdc7f9e\" y=\"17.083636\"/>\n     <use style=\"fill:#1f77b4;stroke:#1f77b4;\" x=\"91.268667\" xlink:href=\"#m2cafdc7f9e\" y=\"180.775262\"/>\n     <use style=\"fill:#1f77b4;stroke:#1f77b4;\" x=\"238.61584\" xlink:href=\"#m2cafdc7f9e\" y=\"213.143582\"/>\n     <use style=\"fill:#1f77b4;stroke:#1f77b4;\" x=\"310.80028\" xlink:href=\"#m2cafdc7f9e\" y=\"205.846077\"/>\n     <use style=\"fill:#1f77b4;stroke:#1f77b4;\" x=\"242.821473\" xlink:href=\"#m2cafdc7f9e\" y=\"117.461131\"/>\n     <use style=\"fill:#1f77b4;stroke:#1f77b4;\" x=\"229.912383\" xlink:href=\"#m2cafdc7f9e\" y=\"173.716398\"/>\n     <use style=\"fill:#1f77b4;stroke:#1f77b4;\" x=\"156.858557\" xlink:href=\"#m2cafdc7f9e\" y=\"69.806409\"/>\n     <use style=\"fill:#1f77b4;stroke:#1f77b4;\" x=\"183.975821\" xlink:href=\"#m2cafdc7f9e\" y=\"195.915266\"/>\n     <use style=\"fill:#1f77b4;stroke:#1f77b4;\" x=\"76.530701\" xlink:href=\"#m2cafdc7f9e\" y=\"176.357264\"/>\n     <use style=\"fill:#1f77b4;stroke:#1f77b4;\" x=\"216.228057\" xlink:href=\"#m2cafdc7f9e\" y=\"159.097187\"/>\n     <use style=\"fill:#1f77b4;stroke:#1f77b4;\" x=\"108.63103\" xlink:href=\"#m2cafdc7f9e\" y=\"166.460309\"/>\n     <use style=\"fill:#1f77b4;stroke:#1f77b4;\" x=\"72.887333\" xlink:href=\"#m2cafdc7f9e\" y=\"210.128985\"/>\n     <use style=\"fill:#1f77b4;stroke:#1f77b4;\" x=\"201.66589\" xlink:href=\"#m2cafdc7f9e\" y=\"40.690578\"/>\n     <use style=\"fill:#1f77b4;stroke:#1f77b4;\" x=\"121.58908\" xlink:href=\"#m2cafdc7f9e\" y=\"23.532568\"/>\n     <use style=\"fill:#1f77b4;stroke:#1f77b4;\" x=\"177.32272\" xlink:href=\"#m2cafdc7f9e\" y=\"63.318962\"/>\n     <use style=\"fill:#1f77b4;stroke:#1f77b4;\" x=\"139.671656\" xlink:href=\"#m2cafdc7f9e\" y=\"171.602894\"/>\n     <use style=\"fill:#1f77b4;stroke:#1f77b4;\" x=\"177.311852\" xlink:href=\"#m2cafdc7f9e\" y=\"67.472443\"/>\n     <use style=\"fill:#1f77b4;stroke:#1f77b4;\" x=\"146.343624\" xlink:href=\"#m2cafdc7f9e\" y=\"167.890847\"/>\n     <use style=\"fill:#1f77b4;stroke:#1f77b4;\" x=\"88.550529\" xlink:href=\"#m2cafdc7f9e\" y=\"161.30864\"/>\n     <use style=\"fill:#1f77b4;stroke:#1f77b4;\" x=\"185.58128\" xlink:href=\"#m2cafdc7f9e\" y=\"51.757953\"/>\n     <use style=\"fill:#1f77b4;stroke:#1f77b4;\" x=\"340.33143\" xlink:href=\"#m2cafdc7f9e\" y=\"128.515669\"/>\n     <use style=\"fill:#1f77b4;stroke:#1f77b4;\" x=\"266.170271\" xlink:href=\"#m2cafdc7f9e\" y=\"44.56934\"/>\n     <use style=\"fill:#1f77b4;stroke:#1f77b4;\" x=\"235.207691\" xlink:href=\"#m2cafdc7f9e\" y=\"37.541996\"/>\n     <use style=\"fill:#1f77b4;stroke:#1f77b4;\" x=\"104.087431\" xlink:href=\"#m2cafdc7f9e\" y=\"22.038308\"/>\n     <use style=\"fill:#1f77b4;stroke:#1f77b4;\" x=\"75.53109\" xlink:href=\"#m2cafdc7f9e\" y=\"139.093349\"/>\n     <use style=\"fill:#1f77b4;stroke:#1f77b4;\" x=\"90.85007\" xlink:href=\"#m2cafdc7f9e\" y=\"197.596055\"/>\n     <use style=\"fill:#1f77b4;stroke:#1f77b4;\" x=\"357.547443\" xlink:href=\"#m2cafdc7f9e\" y=\"40.844104\"/>\n     <use style=\"fill:#1f77b4;stroke:#1f77b4;\" x=\"123.478843\" xlink:href=\"#m2cafdc7f9e\" y=\"184.483716\"/>\n     <use style=\"fill:#1f77b4;stroke:#1f77b4;\" x=\"116.67355\" xlink:href=\"#m2cafdc7f9e\" y=\"104.8314\"/>\n     <use style=\"fill:#1f77b4;stroke:#1f77b4;\" x=\"72.953365\" xlink:href=\"#m2cafdc7f9e\" y=\"157.901583\"/>\n     <use style=\"fill:#1f77b4;stroke:#1f77b4;\" x=\"204.647565\" xlink:href=\"#m2cafdc7f9e\" y=\"153.88123\"/>\n     <use style=\"fill:#1f77b4;stroke:#1f77b4;\" x=\"264.817829\" xlink:href=\"#m2cafdc7f9e\" y=\"191.07269\"/>\n     <use style=\"fill:#1f77b4;stroke:#1f77b4;\" x=\"232.981585\" xlink:href=\"#m2cafdc7f9e\" y=\"145.641271\"/>\n     <use style=\"fill:#1f77b4;stroke:#1f77b4;\" x=\"318.709404\" xlink:href=\"#m2cafdc7f9e\" y=\"108.795492\"/>\n     <use style=\"fill:#1f77b4;stroke:#1f77b4;\" x=\"63.99871\" xlink:href=\"#m2cafdc7f9e\" y=\"96.792957\"/>\n    </g>\n   </g>\n   <g id=\"matplotlib.axis_1\">\n    <g id=\"xtick_1\">\n     <g id=\"line2d_1\">\n      <defs>\n       <path d=\"M 0 0 \nL 0 3.5 \n\" id=\"m7435cc319d\" style=\"stroke:#000000;stroke-width:0.8;\"/>\n      </defs>\n      <g>\n       <use style=\"stroke:#000000;stroke-width:0.8;\" x=\"72.957371\" xlink:href=\"#m7435cc319d\" y=\"224.64\"/>\n      </g>\n     </g>\n     <g id=\"text_1\">\n      <!-- −2 -->\n      <defs>\n       <path d=\"M 10.84375 25.296875 \nL 10.84375 32.515625 \nL 68.65625 32.515625 \nL 68.65625 25.296875 \nz\n\" id=\"LucidaGrande-8722\"/>\n       <path d=\"M 8.296875 0 \nL 8.296875 8.453125 \nQ 12.5 18.265625 25.296875 29.828125 \nL 30.8125 34.765625 \nQ 41.453125 44.390625 41.453125 53.859375 \nQ 41.453125 59.90625 37.8125 63.375 \nQ 34.1875 66.84375 27.828125 66.84375 \nQ 20.3125 66.84375 10.109375 61.03125 \nL 10.109375 69.53125 \nQ 19.734375 74.078125 29.203125 74.078125 \nQ 39.359375 74.078125 45.5 68.609375 \nQ 51.65625 63.140625 51.65625 54.109375 \nQ 51.65625 47.609375 48.546875 42.578125 \nQ 45.453125 37.546875 37.015625 30.375 \nL 33.296875 27.203125 \nQ 21.734375 17.390625 19.921875 8.453125 \nL 51.3125 8.453125 \nL 51.3125 0 \nz\n\" id=\"LucidaGrande-50\"/>\n      </defs>\n      <g transform=\"translate(65.818309 239.349375)scale(0.1 -0.1)\">\n       <use xlink:href=\"#LucidaGrande-8722\"/>\n       <use x=\"79.541016\" xlink:href=\"#LucidaGrande-50\"/>\n      </g>\n     </g>\n    </g>\n    <g id=\"xtick_2\">\n     <g id=\"line2d_2\">\n      <g>\n       <use style=\"stroke:#000000;stroke-width:0.8;\" x=\"136.337883\" xlink:href=\"#m7435cc319d\" y=\"224.64\"/>\n      </g>\n     </g>\n     <g id=\"text_2\">\n      <!-- −1 -->\n      <defs>\n       <path d=\"M 15.046875 0 \nL 15.046875 7.234375 \nL 29.5 7.234375 \nL 29.5 64.265625 \nL 15.046875 60.640625 \nL 15.046875 68.0625 \nL 39.15625 74.078125 \nL 39.15625 7.234375 \nL 53.609375 7.234375 \nL 53.609375 0 \nz\n\" id=\"LucidaGrande-49\"/>\n      </defs>\n      <g transform=\"translate(129.19882 239.349375)scale(0.1 -0.1)\">\n       <use xlink:href=\"#LucidaGrande-8722\"/>\n       <use x=\"79.541016\" xlink:href=\"#LucidaGrande-49\"/>\n      </g>\n     </g>\n    </g>\n    <g id=\"xtick_3\">\n     <g id=\"line2d_3\">\n      <g>\n       <use style=\"stroke:#000000;stroke-width:0.8;\" x=\"199.718394\" xlink:href=\"#m7435cc319d\" y=\"224.64\"/>\n      </g>\n     </g>\n     <g id=\"text_3\">\n      <!-- 0 -->\n      <defs>\n       <path d=\"M 31.34375 -1.8125 \nQ 20.171875 -1.8125 13.25 8.703125 \nQ 6.34375 19.234375 6.34375 36.1875 \nQ 6.34375 53.265625 13.296875 63.671875 \nQ 20.265625 74.078125 31.640625 74.078125 \nQ 43.015625 74.078125 49.96875 63.671875 \nQ 56.9375 53.265625 56.9375 36.328125 \nQ 56.9375 18.953125 49.96875 8.5625 \nQ 43.015625 -1.8125 31.34375 -1.8125 \nz\nM 31.453125 5.421875 \nQ 46.734375 5.421875 46.734375 36.46875 \nQ 46.734375 66.84375 31.640625 66.84375 \nQ 16.609375 66.84375 16.609375 36.1875 \nQ 16.609375 5.421875 31.453125 5.421875 \nz\n\" id=\"LucidaGrande-48\"/>\n      </defs>\n      <g transform=\"translate(196.556676 239.349375)scale(0.1 -0.1)\">\n       <use xlink:href=\"#LucidaGrande-48\"/>\n      </g>\n     </g>\n    </g>\n    <g id=\"xtick_4\">\n     <g id=\"line2d_4\">\n      <g>\n       <use style=\"stroke:#000000;stroke-width:0.8;\" x=\"263.098906\" xlink:href=\"#m7435cc319d\" y=\"224.64\"/>\n      </g>\n     </g>\n     <g id=\"text_4\">\n      <!-- 1 -->\n      <g transform=\"translate(259.937187 239.349375)scale(0.1 -0.1)\">\n       <use xlink:href=\"#LucidaGrande-49\"/>\n      </g>\n     </g>\n    </g>\n    <g id=\"xtick_5\">\n     <g id=\"line2d_5\">\n      <g>\n       <use style=\"stroke:#000000;stroke-width:0.8;\" x=\"326.479417\" xlink:href=\"#m7435cc319d\" y=\"224.64\"/>\n      </g>\n     </g>\n     <g id=\"text_5\">\n      <!-- 2 -->\n      <g transform=\"translate(323.317698 239.349375)scale(0.1 -0.1)\">\n       <use xlink:href=\"#LucidaGrande-50\"/>\n      </g>\n     </g>\n    </g>\n   </g>\n   <g id=\"matplotlib.axis_2\">\n    <g id=\"ytick_1\">\n     <g id=\"line2d_6\">\n      <defs>\n       <path d=\"M 0 0 \nL -3.5 0 \n\" id=\"m4977ce7c9a\" style=\"stroke:#000000;stroke-width:0.8;\"/>\n      </defs>\n      <g>\n       <use style=\"stroke:#000000;stroke-width:0.8;\" x=\"37.965625\" xlink:href=\"#m4977ce7c9a\" y=\"207.861152\"/>\n      </g>\n     </g>\n     <g id=\"text_6\">\n      <!-- −0.2 -->\n      <defs>\n       <path d=\"M 9.765625 0 \nL 9.765625 12.0625 \nL 21.828125 12.0625 \nL 21.828125 0 \nz\n\" id=\"LucidaGrande-46\"/>\n      </defs>\n      <g transform=\"translate(7.2 211.715839)scale(0.1 -0.1)\">\n       <use xlink:href=\"#LucidaGrande-8722\"/>\n       <use x=\"79.541016\" xlink:href=\"#LucidaGrande-48\"/>\n       <use x=\"142.773438\" xlink:href=\"#LucidaGrande-46\"/>\n       <use x=\"174.414062\" xlink:href=\"#LucidaGrande-50\"/>\n      </g>\n     </g>\n    </g>\n    <g id=\"ytick_2\">\n     <g id=\"line2d_7\">\n      <g>\n       <use style=\"stroke:#000000;stroke-width:0.8;\" x=\"37.965625\" xlink:href=\"#m4977ce7c9a\" y=\"165.866201\"/>\n      </g>\n     </g>\n     <g id=\"text_7\">\n      <!-- −0.1 -->\n      <g transform=\"translate(7.2 169.720889)scale(0.1 -0.1)\">\n       <use xlink:href=\"#LucidaGrande-8722\"/>\n       <use x=\"79.541016\" xlink:href=\"#LucidaGrande-48\"/>\n       <use x=\"142.773438\" xlink:href=\"#LucidaGrande-46\"/>\n       <use x=\"174.414062\" xlink:href=\"#LucidaGrande-49\"/>\n      </g>\n     </g>\n    </g>\n    <g id=\"ytick_3\">\n     <g id=\"line2d_8\">\n      <g>\n       <use style=\"stroke:#000000;stroke-width:0.8;\" x=\"37.965625\" xlink:href=\"#m4977ce7c9a\" y=\"123.871251\"/>\n      </g>\n     </g>\n     <g id=\"text_8\">\n      <!-- 0.0 -->\n      <g transform=\"translate(15.154688 127.725938)scale(0.1 -0.1)\">\n       <use xlink:href=\"#LucidaGrande-48\"/>\n       <use x=\"63.232422\" xlink:href=\"#LucidaGrande-46\"/>\n       <use x=\"94.873047\" xlink:href=\"#LucidaGrande-48\"/>\n      </g>\n     </g>\n    </g>\n    <g id=\"ytick_4\">\n     <g id=\"line2d_9\">\n      <g>\n       <use style=\"stroke:#000000;stroke-width:0.8;\" x=\"37.965625\" xlink:href=\"#m4977ce7c9a\" y=\"81.8763\"/>\n      </g>\n     </g>\n     <g id=\"text_9\">\n      <!-- 0.1 -->\n      <g transform=\"translate(15.154688 85.730988)scale(0.1 -0.1)\">\n       <use xlink:href=\"#LucidaGrande-48\"/>\n       <use x=\"63.232422\" xlink:href=\"#LucidaGrande-46\"/>\n       <use x=\"94.873047\" xlink:href=\"#LucidaGrande-49\"/>\n      </g>\n     </g>\n    </g>\n    <g id=\"ytick_5\">\n     <g id=\"line2d_10\">\n      <g>\n       <use style=\"stroke:#000000;stroke-width:0.8;\" x=\"37.965625\" xlink:href=\"#m4977ce7c9a\" y=\"39.88135\"/>\n      </g>\n     </g>\n     <g id=\"text_10\">\n      <!-- 0.2 -->\n      <g transform=\"translate(15.154688 43.736037)scale(0.1 -0.1)\">\n       <use xlink:href=\"#LucidaGrande-48\"/>\n       <use x=\"63.232422\" xlink:href=\"#LucidaGrande-46\"/>\n       <use x=\"94.873047\" xlink:href=\"#LucidaGrande-50\"/>\n      </g>\n     </g>\n    </g>\n   </g>\n   <g id=\"patch_3\">\n    <path d=\"M 37.965625 224.64 \nL 37.965625 7.2 \n\" style=\"fill:none;stroke:#000000;stroke-linecap:square;stroke-linejoin:miter;stroke-width:0.8;\"/>\n   </g>\n   <g id=\"patch_4\">\n    <path d=\"M 372.765625 224.64 \nL 372.765625 7.2 \n\" style=\"fill:none;stroke:#000000;stroke-linecap:square;stroke-linejoin:miter;stroke-width:0.8;\"/>\n   </g>\n   <g id=\"patch_5\">\n    <path d=\"M 37.965625 224.64 \nL 372.765625 224.64 \n\" style=\"fill:none;stroke:#000000;stroke-linecap:square;stroke-linejoin:miter;stroke-width:0.8;\"/>\n   </g>\n   <g id=\"patch_6\">\n    <path d=\"M 37.965625 7.2 \nL 372.765625 7.2 \n\" style=\"fill:none;stroke:#000000;stroke-linecap:square;stroke-linejoin:miter;stroke-width:0.8;\"/>\n   </g>\n  </g>\n </g>\n <defs>\n  <clipPath id=\"p345b2cac7f\">\n   <rect height=\"217.44\" width=\"334.8\" x=\"37.965625\" y=\"7.2\"/>\n  </clipPath>\n </defs>\n</svg>\n",
      "image/png": "[encoded data removed]"
     },
     "metadata": {
      "needs_background": "light"
     }
    }
   ],
   "source": [
    "Z = X@D\n",
    "plt.scatter(Z[:,0], Z[:,1])"
   ]
  },
  {
   "cell_type": "code",
   "execution_count": 145,
   "metadata": {},
   "outputs": [
    {
     "output_type": "stream",
     "name": "stdout",
     "text": "[[-0.70710678 -0.70710678]\n [ 0.70710678 -0.70710678]]\n"
    }
   ],
   "source": [
    "_,_,D_prime = np.linalg.svd(X)\n",
    "print(D_prime)"
   ]
  },
  {
   "cell_type": "markdown",
   "metadata": {},
   "source": [
    "### My eigenfaces"
   ]
  },
  {
   "cell_type": "code",
   "execution_count": 428,
   "metadata": {},
   "outputs": [],
   "source": [
    "from PIL import Image\n",
    "import glob\n",
    "dims = (40,60)\n",
    "images = [Image.open(n).convert(\"L\").resize((dims[0], dims[1])) for n in glob.glob('photos/utkcropped/*.jpg')]\n",
    "imag_arr = np.zeros(shape=(len(images), dims[0]*dims[1]))\n",
    "for i in range(len(images)):\n",
    "    imag_arr[i, :] = np.array(images[i]).reshape(1, dims[0]*dims[1])\n",
    "# for i in range(1,5):\n",
    "\n",
    "#     X[i, :] = np.array().reshape(1, dims[0]*dims[1]))"
   ]
  },
  {
   "cell_type": "code",
   "execution_count": 429,
   "metadata": {},
   "outputs": [
    {
     "output_type": "execute_result",
     "data": {
      "text/plain": "<PIL.Image.Image image mode=L size=40x60 at 0x125EFAFD0>",
      "image/png": "[encoded data removed]"
     },
     "metadata": {},
     "execution_count": 429
    }
   ],
   "source": [
    "Image.fromarray(np.uint8(np.mean(imag_arr, axis=0)).reshape(dims[1], dims[0]))"
   ]
  },
  {
   "cell_type": "code",
   "execution_count": 412,
   "metadata": {},
   "outputs": [
    {
     "output_type": "execute_result",
     "data": {
      "text/plain": "(23709, 2400)"
     },
     "metadata": {},
     "execution_count": 412
    }
   ],
   "source": [
    "imag_arr.shape"
   ]
  },
  {
   "cell_type": "code",
   "execution_count": 421,
   "metadata": {},
   "outputs": [
    {
     "output_type": "execute_result",
     "data": {
      "text/plain": "(2400,)"
     },
     "metadata": {},
     "execution_count": 421
    }
   ],
   "source": [
    "np.mean(imag_arr, axis=0).shape"
   ]
  },
  {
   "cell_type": "code",
   "execution_count": 426,
   "metadata": {},
   "outputs": [
    {
     "output_type": "execute_result",
     "data": {
      "text/plain": "array([[158, 176, 198, ...,  65,  49,  36],\n       [161, 179, 192, ...,  59,  50,  36],\n       [172, 182, 191, ...,  73,  49,  37],\n       ...,\n       [231, 216, 158, ...,  11,  11,  11],\n       [230, 228, 175, ...,  11,  11,  11],\n       [227, 233, 200, ...,  11,  11,  11]], dtype=uint8)"
     },
     "metadata": {},
     "execution_count": 426
    }
   ],
   "source": [
    "np.array(images[11000])"
   ]
  },
  {
   "cell_type": "code",
   "execution_count": 534,
   "metadata": {},
   "outputs": [
    {
     "output_type": "execute_result",
     "data": {
      "text/plain": "array([[-0.01449769,  0.02432601,  0.01800359, ..., -0.0095496 ,\n         0.00378682, -0.0024173 ],\n       [-0.01410733,  0.02340599,  0.01990105, ...,  0.01513949,\n        -0.0005866 ,  0.0055711 ],\n       [-0.01403792,  0.0218387 ,  0.02165501, ..., -0.00380578,\n         0.0027765 , -0.01516152],\n       ...,\n       [-0.0173794 ,  0.03519392, -0.01486302, ..., -0.01014144,\n        -0.00394835, -0.01333416],\n       [-0.01741188,  0.03576593, -0.0135625 , ...,  0.00846473,\n         0.00609304,  0.01196844],\n       [-0.01748186,  0.03596164, -0.01234977, ..., -0.00232647,\n        -0.00425332, -0.00530264]])"
     },
     "metadata": {},
     "execution_count": 534
    }
   ],
   "source": [
    "w,D_eig = pca_eig(imag_arr)\n",
    "D_eig"
   ]
  },
  {
   "cell_type": "code",
   "execution_count": 479,
   "metadata": {},
   "outputs": [],
   "source": [
    "D = pca_svd(imag_arr)\n",
    "D"
   ]
  },
  {
   "cell_type": "code",
   "execution_count": 537,
   "metadata": {},
   "outputs": [
    {
     "output_type": "execute_result",
     "data": {
      "text/plain": "array([[-0.01449769,  0.02432601,  0.01800359, ..., -0.0095496 ,\n         0.00378682, -0.0024173 ],\n       [-0.01410733,  0.02340599,  0.01990105, ...,  0.01513949,\n        -0.0005866 ,  0.0055711 ],\n       [-0.01403792,  0.0218387 ,  0.02165501, ..., -0.00380578,\n         0.0027765 , -0.01516152],\n       ...,\n       [-0.0173794 ,  0.03519392, -0.01486302, ..., -0.01014144,\n        -0.00394835, -0.01333416],\n       [-0.01741188,  0.03576593, -0.0135625 , ...,  0.00846473,\n         0.00609304,  0.01196844],\n       [-0.01748186,  0.03596164, -0.01234977, ..., -0.00232647,\n        -0.00425332, -0.00530264]])"
     },
     "metadata": {},
     "execution_count": 537
    }
   ],
   "source": [
    "D_eig"
   ]
  },
  {
   "cell_type": "code",
   "execution_count": 538,
   "metadata": {},
   "outputs": [
    {
     "output_type": "execute_result",
     "data": {
      "text/plain": "array([[-0.01449769, -0.01410733, -0.01403792, ..., -0.0173794 ,\n        -0.01741188, -0.01748186],\n       [-0.02432601, -0.02340599, -0.0218387 , ..., -0.03519392,\n        -0.03576593, -0.03596164],\n       [-0.01800359, -0.01990105, -0.02165501, ...,  0.01486302,\n         0.0135625 ,  0.01234977],\n       ...,\n       [-0.00086966,  0.0020632 , -0.00245972, ..., -0.00085492,\n         0.00114599, -0.00073108],\n       [ 0.00035981, -0.0011047 , -0.00059414, ..., -0.00120043,\n         0.00059203,  0.00046822],\n       [ 0.00016873, -0.00179526,  0.00085192, ...,  0.00018934,\n        -0.00035576, -0.00010849]])"
     },
     "metadata": {},
     "execution_count": 538
    }
   ],
   "source": [
    "D"
   ]
  },
  {
   "cell_type": "code",
   "execution_count": 543,
   "metadata": {},
   "outputs": [
    {
     "output_type": "stream",
     "name": "stdout",
     "text": "[[ -4.06200265  -5.27549478  20.9306965  ...  33.92785196  -3.26579094\n   15.15508301]\n [  1.36537929  27.91560561 -23.48886906 ...  20.89550547   4.39704434\n    1.34032995]\n [-11.77355073 -14.99855933  15.24849537 ... -15.42814067 -27.69393196\n    9.76242194]\n ...\n [ 67.34575747 -28.28399125  15.42561791 ...   7.03615923  22.32664459\n   10.65231086]\n [  2.86852222  23.04731536   9.23555701 ...  -5.19617085 -55.45833369\n   -2.42970797]\n [ 73.61201973   2.04184031  61.71633603 ...  52.85778608  34.7235502\n   59.92657456]]\n"
    },
    {
     "output_type": "execute_result",
     "data": {
      "text/plain": "<PIL.Image.Image image mode=L size=40x60 at 0x1286D1210>",
      "image/png": "[encoded data removed]"
     },
     "metadata": {},
     "execution_count": 543
    }
   ],
   "source": [
    "n_c = 400\n",
    "comps = np.argsort(-1*np.abs(w))[:n_c]\n",
    "proj = D_eig[:n_c,:]\n",
    "test_im = imag_arr[0,:]\n",
    "# rec = ((proj.T@(proj@test_im))+np.mean(imag_arr, axis=0)).reshape((dims[1], dims[0]))\n",
    "rec = (proj.T@(proj@test_im)).reshape((dims[1], dims[0]))\n",
    "print(rec)\n",
    "Image.fromarray(np.uint8(scale(rec)))"
   ]
  },
  {
   "cell_type": "code",
   "execution_count": 542,
   "metadata": {},
   "outputs": [
    {
     "output_type": "stream",
     "name": "stdout",
     "text": "[[ 88.92060596  93.27631023  95.87363194 ...  31.08430215  29.72428408\n   28.54660583]\n [ 86.8012817   91.35568039  91.69692119 ...  29.16842799  26.34760866\n   25.4582613 ]\n [ 83.35164284  86.18368107  84.30657846 ...  29.413407    23.62524834\n   21.78888125]\n ...\n [ 83.4864986   69.82595547  79.57138949 ... 131.75926885 163.28162525\n  165.78699356]\n [ 70.05196734  64.94589235  82.64574866 ... 137.77306566 165.17164156\n  166.24980292]\n [ 61.58285813  62.27797219  84.96066252 ... 141.3498322  164.33868988\n  164.59799326]]\n"
    },
    {
     "output_type": "execute_result",
     "data": {
      "text/plain": "<PIL.Image.Image image mode=L size=40x60 at 0x1286D1110>",
      "image/png": "[encoded data removed]"
     },
     "metadata": {},
     "execution_count": 542
    }
   ],
   "source": [
    "n_c = 400\n",
    "proj = D[:n_c,:]\n",
    "test_im = imag_arr[0,:]\n",
    "rec = ((proj.T@(proj@test_im))+np.mean(imag_arr, axis=0)).reshape((dims[1], dims[0]))\n",
    "rec = (proj.T@(proj@test_im)).reshape((dims[1], dims[0]))\n",
    "print(rec)\n",
    "Image.fromarray(np.uint8(rec))"
   ]
  },
  {
   "cell_type": "code",
   "execution_count": 508,
   "metadata": {},
   "outputs": [
    {
     "output_type": "execute_result",
     "data": {
      "text/plain": "<PIL.Image.Image image mode=L size=40x60 at 0x12694ED50>",
      "image/png": "[encoded data removed]"
     },
     "metadata": {},
     "execution_count": 508
    }
   ],
   "source": [
    "def scale(arr):\n",
    "    return 255*(arr-np.min(arr))/(np.max(arr)-np.min(arr))\n",
    "# Image.fromarray(np.uint8(D[1,:]).reshape(dims[1],dims[0]))\n",
    "Image.fromarray(np.uint8(scale(D[5,:])).reshape(dims[1],dims[0]))"
   ]
  },
  {
   "cell_type": "code",
   "execution_count": 493,
   "metadata": {},
   "outputs": [
    {
     "output_type": "execute_result",
     "data": {
      "text/plain": "<PIL.Image.Image image mode=L size=40x60 at 0x1266B7410>",
      "image/png": "[encoded data removed]"
     },
     "metadata": {},
     "execution_count": 493
    }
   ],
   "source": [
    "images[0]"
   ]
  },
  {
   "cell_type": "code",
   "execution_count": 484,
   "metadata": {},
   "outputs": [
    {
     "output_type": "execute_result",
     "data": {
      "text/plain": "array([[ 89.74491079,  86.95773464,  86.23249658, ...,  86.99501061,\n         88.67279327,  91.86345398],\n       [ 89.34507735,  86.85824678,  86.32769218, ...,  87.08140539,\n         88.37546881,  91.49980539],\n       [ 89.13006652,  86.73743089,  86.64948763, ...,  87.04110348,\n         88.24918279,  91.10020465],\n       ...,\n       [108.60957089, 108.03186369, 107.32457681, ..., 107.24056852,\n        107.98049465, 108.66084029],\n       [108.25795716, 107.8602669 , 107.33880091, ..., 107.29614313,\n        107.77133696, 108.44592901],\n       [107.93513932, 107.51611634, 107.12135627, ..., 107.22319959,\n        107.54947842, 108.14727148]])"
     },
     "metadata": {},
     "execution_count": 484
    }
   ],
   "source": [
    "rec"
   ]
  },
  {
   "cell_type": "code",
   "execution_count": 406,
   "metadata": {},
   "outputs": [
    {
     "output_type": "error",
     "ename": "ValueError",
     "evalue": "matmul: Input operand 1 has a mismatch in its core dimension 0, with gufunc signature (n?,k),(k,m?)->(n?,m?) (size 1500 is different from 2400)",
     "traceback": [
      "\u001b[0;31m---------------------------------------------------------------------------\u001b[0m",
      "\u001b[0;31mValueError\u001b[0m                                Traceback (most recent call last)",
      "\u001b[0;32m<ipython-input-406-2e5269bfa4c5>\u001b[0m in \u001b[0;36m<module>\u001b[0;34m\u001b[0m\n\u001b[0;32m----> 1\u001b[0;31m \u001b[0;34m(\u001b[0m\u001b[0mproj\u001b[0m\u001b[0;34m.\u001b[0m\u001b[0mT\u001b[0m\u001b[0;34m@\u001b[0m\u001b[0;34m(\u001b[0m\u001b[0mtest_im\u001b[0m\u001b[0;34m@\u001b[0m\u001b[0mproj\u001b[0m\u001b[0;34m)\u001b[0m\u001b[0;34m)\u001b[0m\u001b[0;34m.\u001b[0m\u001b[0mshape\u001b[0m\u001b[0;34m\u001b[0m\u001b[0;34m\u001b[0m\u001b[0m\n\u001b[0m",
      "\u001b[0;31mValueError\u001b[0m: matmul: Input operand 1 has a mismatch in its core dimension 0, with gufunc signature (n?,k),(k,m?)->(n?,m?) (size 1500 is different from 2400)"
     ]
    }
   ],
   "source": [
    "(proj.T@(test_im@proj)).shape"
   ]
  },
  {
   "cell_type": "code",
   "execution_count": 206,
   "metadata": {},
   "outputs": [
    {
     "output_type": "execute_result",
     "data": {
      "text/plain": "<PIL.Image.Image image mode=L size=50x50 at 0x124CFE0D0>",
      "image/png": "[encoded data removed]"
     },
     "metadata": {},
     "execution_count": 206
    }
   ],
   "source": [
    "Image.fromarray(np.uint8(imag_arr[3,:].reshape(50,50)))"
   ]
  },
  {
   "cell_type": "code",
   "execution_count": 249,
   "metadata": {},
   "outputs": [
    {
     "output_type": "execute_result",
     "data": {
      "text/plain": "2499"
     },
     "metadata": {},
     "execution_count": 249
    }
   ],
   "source": [
    "np.argmax(np.abs(w))"
   ]
  },
  {
   "cell_type": "code",
   "execution_count": 503,
   "metadata": {},
   "outputs": [
    {
     "output_type": "execute_result",
     "data": {
      "text/plain": "array([  8.60767467,   8.1293819 ,   6.61637366, ..., -10.42399639,\n       -10.89898312, -10.99819138])"
     },
     "metadata": {},
     "execution_count": 503
    }
   ],
   "source": [
    "255*D[4,:]"
   ]
  },
  {
   "cell_type": "code",
   "execution_count": 444,
   "metadata": {},
   "outputs": [
    {
     "output_type": "execute_result",
     "data": {
      "text/plain": "<PIL.Image.Image image mode=L size=40x60 at 0x12839EDD0>",
      "image/png": "[encoded data removed]"
     },
     "metadata": {},
     "execution_count": 444
    }
   ],
   "source": [
    "Image.fromarray(np.uint8(np.mean(imag_arr, axis=0) + 255*D[6,:]).reshape(dims[1], dims[0]))"
   ]
  },
  {
   "cell_type": "code",
   "execution_count": 65,
   "metadata": {},
   "outputs": [
    {
     "output_type": "execute_result",
     "data": {
      "text/plain": "array([-0.02044449+0.j, -0.01783256+0.j, -0.02044449+0.j, ...,\n       -0.02014646+0.j, -0.02038187+0.j, -0.02017757+0.j])"
     },
     "metadata": {},
     "execution_count": 65
    }
   ],
   "source": [
    "D[:,0]"
   ]
  },
  {
   "cell_type": "code",
   "execution_count": null,
   "metadata": {},
   "outputs": [],
   "source": []
  }
 ],
 "metadata": {
  "language_info": {
   "codemirror_mode": {
    "name": "ipython",
    "version": 3
   },
   "file_extension": ".py",
   "mimetype": "text/x-python",
   "name": "python",
   "nbconvert_exporter": "python",
   "pygments_lexer": "ipython3",
   "version": "3.7.7-final"
  },
  "orig_nbformat": 2,
  "kernelspec": {
   "name": "python37764bit6dabe67d171d4bf8b961096c36d10ba5",
   "display_name": "Python 3.7.7 64-bit"
  }
 },
 "nbformat": 4,
 "nbformat_minor": 2
}